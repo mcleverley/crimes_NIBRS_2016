{
 "cells": [
  {
   "cell_type": "code",
   "execution_count": 1,
   "metadata": {},
   "outputs": [],
   "source": [
    "import pandas as pd\n",
    "import numpy"
   ]
  },
  {
   "cell_type": "markdown",
   "metadata": {},
   "source": [
    "#   To be cleaned:\n",
    "###      offender_data, offense_data, victim_data\n",
    "- steps:\n",
    "    - check value counts for each. Drop low value counts\n",
    "    - rename variables of interest in excel using codebook (quicker than writing custom rename functions)\n",
    "    - drop low-percentage variables. even if i have enough rows with a low-% variable to run a decent regression, there might be some underlying reason why the % is low, and a representation skew would throw off the model greatly.\n",
    "    - check length of each. inner join on case_number?\n",
    "        - it would make for a more interesting model, i think. see how victim and offender variables interact.\n",
    "    - subsample? probably. reduce data points from millions to thousands. can always plug in more data to completed model after.\n",
    "    - decode entries to actual strings. this is tedious, but necessary for model design + interpretation\n",
    "\n"
   ]
  },
  {
   "cell_type": "code",
   "execution_count": 5,
   "metadata": {},
   "outputs": [],
   "source": [
    "crimes = pd.read_csv('offense_data.tsv', sep='\\t')\n",
    "perps = pd.read_csv('offender_data.csv')\n",
    "vics = pd.read_csv('victim_data.csv')"
   ]
  },
  {
   "cell_type": "code",
   "execution_count": 6,
   "metadata": {},
   "outputs": [
    {
     "name": "stdout",
     "output_type": "stream",
     "text": [
      "crimes: 6063523  perps: 65534  vics: 65534\n"
     ]
    }
   ],
   "source": [
    "print(f'crimes: {len(crimes)}  perps: {len(perps)}  vics: {len(vics)}')"
   ]
  },
  {
   "cell_type": "markdown",
   "metadata": {},
   "source": [
    "ah, a problem. Numbers is limited to 65,534 rows, so exporting it straight to a CSV seems to have limited my data significantly.\n",
    "fixed it. have to edit the .tsv originals, and open them here directly (rather than exporting as CSV, which cuts it down to numbers max default). len() takes 8 seconds to calculate 6 million rows.\n",
    "let's import the new tsvs\n"
   ]
  },
  {
   "cell_type": "code",
   "execution_count": 49,
   "metadata": {},
   "outputs": [],
   "source": [
    "crimes = pd.read_csv('offense_data.tsv', sep='\\t')\n",
    "perps = pd.read_csv('offender_data.tsv',sep='\\t')\n",
    "vics = pd.read_csv('victim_data.tsv',sep='\\t')"
   ]
  },
  {
   "cell_type": "code",
   "execution_count": 10,
   "metadata": {},
   "outputs": [
    {
     "name": "stdout",
     "output_type": "stream",
     "text": [
      "crimes: 6063523   perps: 6105830   vics: 6034725\n"
     ]
    }
   ],
   "source": [
    "print(f'crimes: {len(crimes)}   perps: {len(perps)}   vics: {len(vics)}')\n",
    "# they're about the same length, give or take 70,000"
   ]
  },
  {
   "cell_type": "markdown",
   "metadata": {},
   "source": [
    "### Sample to reduce load"
   ]
  },
  {
   "cell_type": "code",
   "execution_count": 50,
   "metadata": {},
   "outputs": [],
   "source": [
    "crimes_full = crimes\n",
    "perps_full = perps\n",
    "vics_full = vics"
   ]
  },
  {
   "cell_type": "code",
   "execution_count": 30,
   "metadata": {},
   "outputs": [],
   "source": [
    "crimes = crimes.sample(5000,random_state=1)\n",
    "perps = perps.sample(5000,random_state=1)\n",
    "vics = vics.sample(5000,random_state=1)"
   ]
  },
  {
   "cell_type": "code",
   "execution_count": 31,
   "metadata": {},
   "outputs": [
    {
     "data": {
      "text/html": [
       "<div>\n",
       "<style scoped>\n",
       "    .dataframe tbody tr th:only-of-type {\n",
       "        vertical-align: middle;\n",
       "    }\n",
       "\n",
       "    .dataframe tbody tr th {\n",
       "        vertical-align: top;\n",
       "    }\n",
       "\n",
       "    .dataframe thead th {\n",
       "        text-align: right;\n",
       "    }\n",
       "</style>\n",
       "<table border=\"1\" class=\"dataframe\">\n",
       "  <thead>\n",
       "    <tr style=\"text-align: right;\">\n",
       "      <th></th>\n",
       "      <th>V2001</th>\n",
       "      <th>V2002</th>\n",
       "      <th>V2003</th>\n",
       "      <th>V2004</th>\n",
       "      <th>V2005</th>\n",
       "      <th>V2006</th>\n",
       "      <th>V2007</th>\n",
       "      <th>V2008</th>\n",
       "      <th>V2009</th>\n",
       "      <th>V2010</th>\n",
       "      <th>...</th>\n",
       "      <th>V2016</th>\n",
       "      <th>V2017</th>\n",
       "      <th>V2018</th>\n",
       "      <th>V2019</th>\n",
       "      <th>V2020</th>\n",
       "      <th>V2020B</th>\n",
       "      <th>V2020C</th>\n",
       "      <th>V2020D</th>\n",
       "      <th>V2020E</th>\n",
       "      <th>V2021</th>\n",
       "    </tr>\n",
       "  </thead>\n",
       "  <tbody>\n",
       "    <tr>\n",
       "      <th>1715977</th>\n",
       "      <td>2</td>\n",
       "      <td>20</td>\n",
       "      <td>MA0146000</td>\n",
       "      <td>2W1I0U73LLKR</td>\n",
       "      <td>20160208</td>\n",
       "      <td>120</td>\n",
       "      <td>C</td>\n",
       "      <td>N</td>\n",
       "      <td></td>\n",
       "      <td></td>\n",
       "      <td>...</td>\n",
       "      <td></td>\n",
       "      <td>11</td>\n",
       "      <td></td>\n",
       "      <td></td>\n",
       "      <td>88</td>\n",
       "      <td></td>\n",
       "      <td></td>\n",
       "      <td></td>\n",
       "      <td></td>\n",
       "      <td>1</td>\n",
       "    </tr>\n",
       "    <tr>\n",
       "      <th>4493722</th>\n",
       "      <td>2</td>\n",
       "      <td>41</td>\n",
       "      <td>TNMPD0000</td>\n",
       "      <td>BJ0Q3926XEMF</td>\n",
       "      <td>20160916</td>\n",
       "      <td>13B</td>\n",
       "      <td>C</td>\n",
       "      <td>N</td>\n",
       "      <td></td>\n",
       "      <td></td>\n",
       "      <td>...</td>\n",
       "      <td></td>\n",
       "      <td>40</td>\n",
       "      <td></td>\n",
       "      <td></td>\n",
       "      <td>88</td>\n",
       "      <td></td>\n",
       "      <td></td>\n",
       "      <td></td>\n",
       "      <td></td>\n",
       "      <td>1</td>\n",
       "    </tr>\n",
       "    <tr>\n",
       "      <th>3752840</th>\n",
       "      <td>2</td>\n",
       "      <td>39</td>\n",
       "      <td>SC0260600</td>\n",
       "      <td>8301-ABM72 N</td>\n",
       "      <td>20161125</td>\n",
       "      <td>290</td>\n",
       "      <td>C</td>\n",
       "      <td>N</td>\n",
       "      <td></td>\n",
       "      <td></td>\n",
       "      <td>...</td>\n",
       "      <td></td>\n",
       "      <td></td>\n",
       "      <td></td>\n",
       "      <td></td>\n",
       "      <td>88</td>\n",
       "      <td></td>\n",
       "      <td></td>\n",
       "      <td></td>\n",
       "      <td></td>\n",
       "      <td></td>\n",
       "    </tr>\n",
       "    <tr>\n",
       "      <th>951544</th>\n",
       "      <td>2</td>\n",
       "      <td>11</td>\n",
       "      <td>ID0010100</td>\n",
       "      <td>2W1I0URZ72JO</td>\n",
       "      <td>20161208</td>\n",
       "      <td>35A</td>\n",
       "      <td>C</td>\n",
       "      <td>N</td>\n",
       "      <td></td>\n",
       "      <td></td>\n",
       "      <td>...</td>\n",
       "      <td></td>\n",
       "      <td></td>\n",
       "      <td></td>\n",
       "      <td></td>\n",
       "      <td>88</td>\n",
       "      <td></td>\n",
       "      <td></td>\n",
       "      <td></td>\n",
       "      <td></td>\n",
       "      <td>1</td>\n",
       "    </tr>\n",
       "    <tr>\n",
       "      <th>839681</th>\n",
       "      <td>2</td>\n",
       "      <td>14</td>\n",
       "      <td>IA0570100</td>\n",
       "      <td>2W1I0UO ZD1A</td>\n",
       "      <td>20160104</td>\n",
       "      <td>23H</td>\n",
       "      <td>C</td>\n",
       "      <td>N</td>\n",
       "      <td></td>\n",
       "      <td></td>\n",
       "      <td>...</td>\n",
       "      <td></td>\n",
       "      <td></td>\n",
       "      <td></td>\n",
       "      <td></td>\n",
       "      <td>88</td>\n",
       "      <td></td>\n",
       "      <td></td>\n",
       "      <td></td>\n",
       "      <td></td>\n",
       "      <td></td>\n",
       "    </tr>\n",
       "    <tr>\n",
       "      <th>2473374</th>\n",
       "      <td>2</td>\n",
       "      <td>26</td>\n",
       "      <td>NB0770200</td>\n",
       "      <td>CZ1235HQHKV6</td>\n",
       "      <td>20161229</td>\n",
       "      <td>26B</td>\n",
       "      <td>C</td>\n",
       "      <td>N</td>\n",
       "      <td></td>\n",
       "      <td></td>\n",
       "      <td>...</td>\n",
       "      <td></td>\n",
       "      <td></td>\n",
       "      <td></td>\n",
       "      <td></td>\n",
       "      <td>88</td>\n",
       "      <td></td>\n",
       "      <td></td>\n",
       "      <td></td>\n",
       "      <td></td>\n",
       "      <td>1</td>\n",
       "    </tr>\n",
       "    <tr>\n",
       "      <th>3782956</th>\n",
       "      <td>2</td>\n",
       "      <td>39</td>\n",
       "      <td>SC0310000</td>\n",
       "      <td>1X-HL0706Y1A</td>\n",
       "      <td>20160417</td>\n",
       "      <td>13B</td>\n",
       "      <td>C</td>\n",
       "      <td>N</td>\n",
       "      <td></td>\n",
       "      <td></td>\n",
       "      <td>...</td>\n",
       "      <td></td>\n",
       "      <td>40</td>\n",
       "      <td></td>\n",
       "      <td></td>\n",
       "      <td>88</td>\n",
       "      <td></td>\n",
       "      <td></td>\n",
       "      <td></td>\n",
       "      <td></td>\n",
       "      <td>1</td>\n",
       "    </tr>\n",
       "    <tr>\n",
       "      <th>5234761</th>\n",
       "      <td>2</td>\n",
       "      <td>45</td>\n",
       "      <td>VA1120000</td>\n",
       "      <td>5F1Z-090WKBS</td>\n",
       "      <td>20160509</td>\n",
       "      <td>35A</td>\n",
       "      <td>C</td>\n",
       "      <td>N</td>\n",
       "      <td></td>\n",
       "      <td></td>\n",
       "      <td>...</td>\n",
       "      <td></td>\n",
       "      <td></td>\n",
       "      <td></td>\n",
       "      <td></td>\n",
       "      <td>88</td>\n",
       "      <td></td>\n",
       "      <td></td>\n",
       "      <td></td>\n",
       "      <td></td>\n",
       "      <td>2</td>\n",
       "    </tr>\n",
       "    <tr>\n",
       "      <th>5790422</th>\n",
       "      <td>2</td>\n",
       "      <td>46</td>\n",
       "      <td>WASPD0000</td>\n",
       "      <td>7--EY R6MU72</td>\n",
       "      <td>20161107</td>\n",
       "      <td>13A</td>\n",
       "      <td>C</td>\n",
       "      <td>N</td>\n",
       "      <td></td>\n",
       "      <td></td>\n",
       "      <td>...</td>\n",
       "      <td></td>\n",
       "      <td>20</td>\n",
       "      <td></td>\n",
       "      <td></td>\n",
       "      <td>88</td>\n",
       "      <td></td>\n",
       "      <td></td>\n",
       "      <td></td>\n",
       "      <td></td>\n",
       "      <td>1</td>\n",
       "    </tr>\n",
       "    <tr>\n",
       "      <th>5491260</th>\n",
       "      <td>2</td>\n",
       "      <td>46</td>\n",
       "      <td>WA0170700</td>\n",
       "      <td>830BKF5RV2 N</td>\n",
       "      <td>20160923</td>\n",
       "      <td>280</td>\n",
       "      <td>C</td>\n",
       "      <td>D</td>\n",
       "      <td></td>\n",
       "      <td></td>\n",
       "      <td>...</td>\n",
       "      <td></td>\n",
       "      <td></td>\n",
       "      <td></td>\n",
       "      <td></td>\n",
       "      <td>88</td>\n",
       "      <td></td>\n",
       "      <td></td>\n",
       "      <td></td>\n",
       "      <td></td>\n",
       "      <td>2</td>\n",
       "    </tr>\n",
       "  </tbody>\n",
       "</table>\n",
       "<p>10 rows × 25 columns</p>\n",
       "</div>"
      ],
      "text/plain": [
       "         V2001  V2002      V2003         V2004     V2005 V2006 V2007 V2008  \\\n",
       "1715977      2     20  MA0146000  2W1I0U73LLKR  20160208   120     C     N   \n",
       "4493722      2     41  TNMPD0000  BJ0Q3926XEMF  20160916   13B     C     N   \n",
       "3752840      2     39  SC0260600  8301-ABM72 N  20161125   290     C     N   \n",
       "951544       2     11  ID0010100  2W1I0URZ72JO  20161208   35A     C     N   \n",
       "839681       2     14  IA0570100  2W1I0UO ZD1A  20160104   23H     C     N   \n",
       "2473374      2     26  NB0770200  CZ1235HQHKV6  20161229   26B     C     N   \n",
       "3782956      2     39  SC0310000  1X-HL0706Y1A  20160417   13B     C     N   \n",
       "5234761      2     45  VA1120000  5F1Z-090WKBS  20160509   35A     C     N   \n",
       "5790422      2     46  WASPD0000  7--EY R6MU72  20161107   13A     C     N   \n",
       "5491260      2     46  WA0170700  830BKF5RV2 N  20160923   280     C     D   \n",
       "\n",
       "        V2009 V2010  ...  V2016 V2017 V2018 V2019 V2020 V2020B V2020C V2020D  \\\n",
       "1715977              ...           11                88                        \n",
       "4493722              ...           40                88                        \n",
       "3752840              ...                             88                        \n",
       "951544               ...                             88                        \n",
       "839681               ...                             88                        \n",
       "2473374              ...                             88                        \n",
       "3782956              ...           40                88                        \n",
       "5234761              ...                             88                        \n",
       "5790422              ...           20                88                        \n",
       "5491260              ...                             88                        \n",
       "\n",
       "        V2020E  V2021  \n",
       "1715977             1  \n",
       "4493722             1  \n",
       "3752840                \n",
       "951544              1  \n",
       "839681                 \n",
       "2473374             1  \n",
       "3782956             1  \n",
       "5234761             2  \n",
       "5790422             1  \n",
       "5491260             2  \n",
       "\n",
       "[10 rows x 25 columns]"
      ]
     },
     "execution_count": 31,
     "metadata": {},
     "output_type": "execute_result"
    }
   ],
   "source": [
    "crimes.head(10)"
   ]
  },
  {
   "cell_type": "code",
   "execution_count": null,
   "metadata": {},
   "outputs": [],
   "source": []
  },
  {
   "cell_type": "markdown",
   "metadata": {},
   "source": [
    "### Check value_counts for each dataframe, remove low ones\n",
    "#### build list: vars_of_interest"
   ]
  },
  {
   "cell_type": "code",
   "execution_count": 22,
   "metadata": {},
   "outputs": [],
   "source": [
    "# crimes.info()\n",
    "# they're all 5000, even though there's plenty of nulls when i open it in numbers"
   ]
  },
  {
   "cell_type": "markdown",
   "metadata": {},
   "source": [
    "oh, turns out they don't use nulls, they use one space.\n",
    "so we need to replace entries = ' ' with entries = None"
   ]
  },
  {
   "cell_type": "code",
   "execution_count": 33,
   "metadata": {},
   "outputs": [],
   "source": [
    "crimes = crimes.replace(' ', None)\n",
    "crimes = crimes.replace('', None)"
   ]
  },
  {
   "cell_type": "code",
   "execution_count": 34,
   "metadata": {},
   "outputs": [
    {
     "name": "stdout",
     "output_type": "stream",
     "text": [
      "<class 'pandas.core.frame.DataFrame'>\n",
      "Int64Index: 5000 entries, 1715977 to 1139937\n",
      "Data columns (total 25 columns):\n",
      "V2001     5000 non-null int64\n",
      "V2002     5000 non-null int64\n",
      "V2003     5000 non-null object\n",
      "V2004     5000 non-null object\n",
      "V2005     5000 non-null int64\n",
      "V2006     5000 non-null object\n",
      "V2007     5000 non-null object\n",
      "V2008     5000 non-null object\n",
      "V2009     5000 non-null object\n",
      "V2010     5000 non-null object\n",
      "V2011     5000 non-null int64\n",
      "V2012     5000 non-null object\n",
      "V2013     5000 non-null object\n",
      "V2014     5000 non-null object\n",
      "V2015     5000 non-null object\n",
      "V2016     5000 non-null object\n",
      "V2017     5000 non-null object\n",
      "V2018     5000 non-null object\n",
      "V2019     5000 non-null object\n",
      "V2020     5000 non-null int64\n",
      "V2020B    5000 non-null object\n",
      "V2020C    5000 non-null object\n",
      "V2020D    5000 non-null object\n",
      "V2020E    5000 non-null object\n",
      "V2021     5000 non-null object\n",
      "dtypes: int64(5), object(20)\n",
      "memory usage: 1015.6+ KB\n"
     ]
    }
   ],
   "source": [
    "crimes.info()"
   ]
  },
  {
   "cell_type": "code",
   "execution_count": null,
   "metadata": {},
   "outputs": [],
   "source": []
  },
  {
   "cell_type": "code",
   "execution_count": null,
   "metadata": {},
   "outputs": [],
   "source": []
  },
  {
   "cell_type": "code",
   "execution_count": null,
   "metadata": {},
   "outputs": [],
   "source": []
  },
  {
   "cell_type": "code",
   "execution_count": 41,
   "metadata": {},
   "outputs": [
    {
     "data": {
      "text/html": [
       "<div>\n",
       "<style scoped>\n",
       "    .dataframe tbody tr th:only-of-type {\n",
       "        vertical-align: middle;\n",
       "    }\n",
       "\n",
       "    .dataframe tbody tr th {\n",
       "        vertical-align: top;\n",
       "    }\n",
       "\n",
       "    .dataframe thead th {\n",
       "        text-align: right;\n",
       "    }\n",
       "</style>\n",
       "<table border=\"1\" class=\"dataframe\">\n",
       "  <thead>\n",
       "    <tr style=\"text-align: right;\">\n",
       "      <th></th>\n",
       "      <th>V5001</th>\n",
       "      <th>V5002</th>\n",
       "      <th>V5003</th>\n",
       "      <th>V5004</th>\n",
       "      <th>V5005</th>\n",
       "      <th>V5006</th>\n",
       "      <th>V5007</th>\n",
       "      <th>V5008</th>\n",
       "      <th>V5009</th>\n",
       "      <th>V5010</th>\n",
       "      <th>V5011</th>\n",
       "    </tr>\n",
       "  </thead>\n",
       "  <tbody>\n",
       "    <tr>\n",
       "      <th>1404057</th>\n",
       "      <td>5</td>\n",
       "      <td>16</td>\n",
       "      <td>KY1110000</td>\n",
       "      <td>6S23X6RAPU72</td>\n",
       "      <td>20160130</td>\n",
       "      <td>0</td>\n",
       "      <td></td>\n",
       "      <td></td>\n",
       "      <td></td>\n",
       "      <td>1</td>\n",
       "      <td></td>\n",
       "    </tr>\n",
       "    <tr>\n",
       "      <th>5517245</th>\n",
       "      <td>5</td>\n",
       "      <td>46</td>\n",
       "      <td>WA0150100</td>\n",
       "      <td>7--QYI06MU72</td>\n",
       "      <td>20160906</td>\n",
       "      <td>0</td>\n",
       "      <td></td>\n",
       "      <td></td>\n",
       "      <td></td>\n",
       "      <td>1</td>\n",
       "      <td></td>\n",
       "    </tr>\n",
       "    <tr>\n",
       "      <th>933591</th>\n",
       "      <td>5</td>\n",
       "      <td>11</td>\n",
       "      <td>ID0010000</td>\n",
       "      <td>2W1U0U72S2T4</td>\n",
       "      <td>20150623</td>\n",
       "      <td>1</td>\n",
       "      <td>30</td>\n",
       "      <td>M</td>\n",
       "      <td>W</td>\n",
       "      <td>1</td>\n",
       "      <td></td>\n",
       "    </tr>\n",
       "    <tr>\n",
       "      <th>5226176</th>\n",
       "      <td>5</td>\n",
       "      <td>45</td>\n",
       "      <td>VA0990000</td>\n",
       "      <td>1I1N1MMP77 I</td>\n",
       "      <td>20161219</td>\n",
       "      <td>0</td>\n",
       "      <td></td>\n",
       "      <td></td>\n",
       "      <td></td>\n",
       "      <td>1</td>\n",
       "      <td></td>\n",
       "    </tr>\n",
       "    <tr>\n",
       "      <th>4715279</th>\n",
       "      <td>5</td>\n",
       "      <td>42</td>\n",
       "      <td>TX2201200</td>\n",
       "      <td>830B1OTD-2 N</td>\n",
       "      <td>20160730</td>\n",
       "      <td>2</td>\n",
       "      <td>16</td>\n",
       "      <td>M</td>\n",
       "      <td>B</td>\n",
       "      <td></td>\n",
       "      <td>N</td>\n",
       "    </tr>\n",
       "    <tr>\n",
       "      <th>5920949</th>\n",
       "      <td>5</td>\n",
       "      <td>48</td>\n",
       "      <td>WI0360100</td>\n",
       "      <td>2W1I0U728NBN</td>\n",
       "      <td>20160102</td>\n",
       "      <td>3</td>\n",
       "      <td>23</td>\n",
       "      <td>M</td>\n",
       "      <td>W</td>\n",
       "      <td></td>\n",
       "      <td>N</td>\n",
       "    </tr>\n",
       "    <tr>\n",
       "      <th>1752131</th>\n",
       "      <td>5</td>\n",
       "      <td>21</td>\n",
       "      <td>MI1337900</td>\n",
       "      <td>W10ZUQX IY40</td>\n",
       "      <td>20160109</td>\n",
       "      <td>1</td>\n",
       "      <td>31</td>\n",
       "      <td>M</td>\n",
       "      <td>W</td>\n",
       "      <td>2</td>\n",
       "      <td></td>\n",
       "    </tr>\n",
       "    <tr>\n",
       "      <th>904137</th>\n",
       "      <td>5</td>\n",
       "      <td>14</td>\n",
       "      <td>IA0820200</td>\n",
       "      <td>2W1I0U7PIN24</td>\n",
       "      <td>20160606</td>\n",
       "      <td>1</td>\n",
       "      <td>15</td>\n",
       "      <td>F</td>\n",
       "      <td>W</td>\n",
       "      <td>1</td>\n",
       "      <td></td>\n",
       "    </tr>\n",
       "    <tr>\n",
       "      <th>861868</th>\n",
       "      <td>5</td>\n",
       "      <td>14</td>\n",
       "      <td>IA0770300</td>\n",
       "      <td>2W1I0U7UUX8A</td>\n",
       "      <td>20160327</td>\n",
       "      <td>0</td>\n",
       "      <td></td>\n",
       "      <td></td>\n",
       "      <td></td>\n",
       "      <td>1</td>\n",
       "      <td></td>\n",
       "    </tr>\n",
       "    <tr>\n",
       "      <th>1891</th>\n",
       "      <td>5</td>\n",
       "      <td>1</td>\n",
       "      <td>AL0011200</td>\n",
       "      <td>2W1I0U7PZYJW</td>\n",
       "      <td>20160412</td>\n",
       "      <td>0</td>\n",
       "      <td></td>\n",
       "      <td></td>\n",
       "      <td></td>\n",
       "      <td>1</td>\n",
       "      <td></td>\n",
       "    </tr>\n",
       "  </tbody>\n",
       "</table>\n",
       "</div>"
      ],
      "text/plain": [
       "         V5001  V5002      V5003         V5004     V5005  V5006 V5007 V5008  \\\n",
       "1404057      5     16  KY1110000  6S23X6RAPU72  20160130      0               \n",
       "5517245      5     46  WA0150100  7--QYI06MU72  20160906      0               \n",
       "933591       5     11  ID0010000  2W1U0U72S2T4  20150623      1    30     M   \n",
       "5226176      5     45  VA0990000  1I1N1MMP77 I  20161219      0               \n",
       "4715279      5     42  TX2201200  830B1OTD-2 N  20160730      2    16     M   \n",
       "5920949      5     48  WI0360100  2W1I0U728NBN  20160102      3    23     M   \n",
       "1752131      5     21  MI1337900  W10ZUQX IY40  20160109      1    31     M   \n",
       "904137       5     14  IA0820200  2W1I0U7PIN24  20160606      1    15     F   \n",
       "861868       5     14  IA0770300  2W1I0U7UUX8A  20160327      0               \n",
       "1891         5      1  AL0011200  2W1I0U7PZYJW  20160412      0               \n",
       "\n",
       "        V5009 V5010 V5011  \n",
       "1404057           1        \n",
       "5517245           1        \n",
       "933591      W     1        \n",
       "5226176           1        \n",
       "4715279     B           N  \n",
       "5920949     W           N  \n",
       "1752131     W     2        \n",
       "904137      W     1        \n",
       "861868            1        \n",
       "1891              1        "
      ]
     },
     "execution_count": 41,
     "metadata": {},
     "output_type": "execute_result"
    }
   ],
   "source": [
    "perps.head(10)"
   ]
  },
  {
   "cell_type": "code",
   "execution_count": 45,
   "metadata": {},
   "outputs": [],
   "source": [
    "perps = perps.applymap(lambda x:None if x == \" \" else x)"
   ]
  },
  {
   "cell_type": "code",
   "execution_count": 46,
   "metadata": {},
   "outputs": [
    {
     "name": "stdout",
     "output_type": "stream",
     "text": [
      "<class 'pandas.core.frame.DataFrame'>\n",
      "Int64Index: 5000 entries, 1404057 to 1437483\n",
      "Data columns (total 11 columns):\n",
      "V5001    5000 non-null int64\n",
      "V5002    5000 non-null int64\n",
      "V5003    5000 non-null object\n",
      "V5004    5000 non-null object\n",
      "V5005    5000 non-null int64\n",
      "V5006    5000 non-null int64\n",
      "V5007    3566 non-null object\n",
      "V5008    3566 non-null object\n",
      "V5009    3566 non-null object\n",
      "V5010    4407 non-null object\n",
      "V5011    1255 non-null object\n",
      "dtypes: int64(4), object(7)\n",
      "memory usage: 468.8+ KB\n"
     ]
    }
   ],
   "source": [
    "perps.info() # ah, that took care of it"
   ]
  },
  {
   "cell_type": "markdown",
   "metadata": {},
   "source": [
    "### Dealing with ' ' whitespace entries:\n",
    "i'm tempted to put that lambda function up top, but that would ruin the 'timeline' of this notebook, so i'll just clean the original .TSVs and re-save them."
   ]
  },
  {
   "cell_type": "code",
   "execution_count": 53,
   "metadata": {},
   "outputs": [
    {
     "name": "stdout",
     "output_type": "stream",
     "text": [
      "done cleaning nulls\n"
     ]
    }
   ],
   "source": [
    "perps_full = perps_full.applymap(lambda x:None if x == \" \" else x)\n",
    "crimes_full = crimes_full.applymap(lambda x:None if x == \" \" else x)\n",
    "vics_full = vics_full.applymap(lambda x:None if x == \" \" else x)\n",
    "perps_full.to_csv('perps.csv')\n",
    "crimes_full.to_csv('crimes.csv')\n",
    "vics_full.to_csv('vics.csv')\n",
    "print('done cleaning nulls')"
   ]
  },
  {
   "cell_type": "code",
   "execution_count": 54,
   "metadata": {},
   "outputs": [
    {
     "data": {
      "text/plain": [
       "6105830"
      ]
     },
     "execution_count": 54,
     "metadata": {},
     "output_type": "execute_result"
    }
   ],
   "source": [
    "len(perps_full)"
   ]
  },
  {
   "cell_type": "code",
   "execution_count": null,
   "metadata": {},
   "outputs": [],
   "source": [
    "# we're gonna go by 'crimes', 'perps' and 'vics' for now"
   ]
  },
  {
   "cell_type": "code",
   "execution_count": 55,
   "metadata": {},
   "outputs": [],
   "source": [
    "crimes = crimes_full.sample(5000,random_state=1) # let's sample down and reduce load \n",
    "perps = perps_full.sample(5000,random_state=1)\n",
    "vics = vics_full.sample(5000,random_state=1)"
   ]
  },
  {
   "cell_type": "code",
   "execution_count": 56,
   "metadata": {},
   "outputs": [
    {
     "name": "stdout",
     "output_type": "stream",
     "text": [
      "<class 'pandas.core.frame.DataFrame'>\n",
      "Int64Index: 5000 entries, 1715977 to 1139937\n",
      "Data columns (total 25 columns):\n",
      "V2001     5000 non-null int64\n",
      "V2002     5000 non-null int64\n",
      "V2003     5000 non-null object\n",
      "V2004     5000 non-null object\n",
      "V2005     5000 non-null int64\n",
      "V2006     5000 non-null object\n",
      "V2007     5000 non-null object\n",
      "V2008     5000 non-null object\n",
      "V2009     35 non-null object\n",
      "V2010     0 non-null object\n",
      "V2011     5000 non-null int64\n",
      "V2012     369 non-null object\n",
      "V2013     369 non-null object\n",
      "V2014     1491 non-null object\n",
      "V2015     80 non-null object\n",
      "V2016     16 non-null object\n",
      "V2017     981 non-null object\n",
      "V2018     24 non-null object\n",
      "V2019     0 non-null object\n",
      "V2020     5000 non-null int64\n",
      "V2020B    0 non-null object\n",
      "V2020C    0 non-null object\n",
      "V2020D    0 non-null object\n",
      "V2020E    0 non-null object\n",
      "V2021     4401 non-null object\n",
      "dtypes: int64(5), object(20)\n",
      "memory usage: 1015.6+ KB\n"
     ]
    }
   ],
   "source": [
    "crimes.info()\n"
   ]
  },
  {
   "cell_type": "code",
   "execution_count": null,
   "metadata": {},
   "outputs": [],
   "source": []
  },
  {
   "cell_type": "code",
   "execution_count": null,
   "metadata": {},
   "outputs": [],
   "source": []
  },
  {
   "cell_type": "markdown",
   "metadata": {},
   "source": [
    "## Variable selection based on null counts\n",
    "find the columns with enough values to be meaningful, make lists of their variables\n"
   ]
  },
  {
   "cell_type": "code",
   "execution_count": 58,
   "metadata": {},
   "outputs": [],
   "source": [
    "crime_vars = list(crimes) # to be iterated through\n",
    "perp_vars = list(perps)\n",
    "vic_vars = list(vics)"
   ]
  },
  {
   "cell_type": "code",
   "execution_count": 60,
   "metadata": {},
   "outputs": [
    {
     "data": {
      "text/plain": [
       "4631"
      ]
     },
     "execution_count": 60,
     "metadata": {},
     "output_type": "execute_result"
    }
   ],
   "source": [
    "crimes['V2012'].isna().sum() # get count of nulls"
   ]
  },
  {
   "cell_type": "code",
   "execution_count": 61,
   "metadata": {},
   "outputs": [
    {
     "name": "stdout",
     "output_type": "stream",
     "text": [
      "['V2001', 'V2002', 'V2003', 'V2004', 'V2005', 'V2006', 'V2007', 'V2008', 'V2009', 'V2010', 'V2011', 'V2012', 'V2013', 'V2014', 'V2015', 'V2016', 'V2017', 'V2018', 'V2019', 'V2020', 'V2020B', 'V2020C', 'V2020D', 'V2020E', 'V2021']\n"
     ]
    }
   ],
   "source": [
    "print(crime_vars)"
   ]
  },
  {
   "cell_type": "code",
   "execution_count": null,
   "metadata": {},
   "outputs": [],
   "source": [
    "# for col in crime_vars:\n",
    "#     if crimes.col.isna().sum() > 4500\n",
    "# wait, nevermind. this is bad."
   ]
  },
  {
   "cell_type": "markdown",
   "metadata": {},
   "source": [
    "### We might not want to throw out nulls before we translate variable names\n",
    "I had a look at the columns again, and some are essentially the same thing separted into 2 or more columns. If the criminal was using some substance or technology or weapon, for instance, is like 5 columns. A NaN indicates they weren't... using anything? or that there was no way to be sure? I'll look that up in the codebook.\n",
    "\n",
    "/* I stopped here to wonder for a moment: Is it alright that I'm pushing these data files to a public repo, after UMich made me click \"Agree\" to all those scary legal terms?\n",
    "And then I thought: no wait, they're available for anyone to click on at (https://crime-data-explorer.fr.cloud.gov/downloads-and-docs). It appears I have been made a fool of. */\n",
    "\n",
    "\n",
    "Now I'll take a moment to look up each variable name in the codebook and make a list of strings. The least-typing way is probably to write out the lists and then zip to dict.\n",
    "\n"
   ]
  },
  {
   "cell_type": "code",
   "execution_count": 91,
   "metadata": {},
   "outputs": [
    {
     "data": {
      "text/plain": [
       "['V2001',\n",
       " 'V2002',\n",
       " 'V2003',\n",
       " 'V2004',\n",
       " 'V2005',\n",
       " 'V2006',\n",
       " 'V2007',\n",
       " 'V2008',\n",
       " 'V2009',\n",
       " 'V2010',\n",
       " 'V2011',\n",
       " 'V2012',\n",
       " 'V2013',\n",
       " 'V2014',\n",
       " 'V2015',\n",
       " 'V2016',\n",
       " 'V2017',\n",
       " 'V2018',\n",
       " 'V2019',\n",
       " 'V2020',\n",
       " 'V2021']"
      ]
     },
     "execution_count": 91,
     "metadata": {},
     "output_type": "execute_result"
    }
   ],
   "source": [
    "lst = list(map(lambda x: 'V'+str(x), range(2001,2022)))\n",
    "lst # cool, but we have '2020B' C D E for extra BIAS MOTIVATIONs\n",
    "# so let's append those in positionally"
   ]
  },
  {
   "cell_type": "code",
   "execution_count": 67,
   "metadata": {},
   "outputs": [
    {
     "data": {
      "text/plain": [
       "19"
      ]
     },
     "execution_count": 67,
     "metadata": {},
     "output_type": "execute_result"
    }
   ],
   "source": [
    "lst.index('V2020')"
   ]
  },
  {
   "cell_type": "code",
   "execution_count": 72,
   "metadata": {},
   "outputs": [
    {
     "data": {
      "text/plain": [
       "66"
      ]
     },
     "execution_count": 72,
     "metadata": {},
     "output_type": "execute_result"
    }
   ],
   "source": [
    "# we could just type out B, C, D and E, but let's have some fun\n",
    "ord('B') # so we want 66, 67, 68, 69"
   ]
  },
  {
   "cell_type": "code",
   "execution_count": 79,
   "metadata": {},
   "outputs": [
    {
     "data": {
      "text/plain": [
       "['B', 'C', 'D', 'E']"
      ]
     },
     "execution_count": 79,
     "metadata": {},
     "output_type": "execute_result"
    }
   ],
   "source": [
    "letters = list(map(lambda x: chr(x), range(66,70)))\n",
    "letters # cute"
   ]
  },
  {
   "cell_type": "code",
   "execution_count": 80,
   "metadata": {},
   "outputs": [
    {
     "data": {
      "text/plain": [
       "['V2020', 'V2020', 'V2020', 'V2020']"
      ]
     },
     "execution_count": 80,
     "metadata": {},
     "output_type": "execute_result"
    }
   ],
   "source": [
    "to_ins = ['V2020'] * 4\n",
    "to_ins"
   ]
  },
  {
   "cell_type": "code",
   "execution_count": 89,
   "metadata": {},
   "outputs": [
    {
     "data": {
      "text/plain": [
       "['V2020B', 'V2020C', 'V2020D', 'V2020E']"
      ]
     },
     "execution_count": 89,
     "metadata": {},
     "output_type": "execute_result"
    }
   ],
   "source": [
    "out = []\n",
    "for base, c in zip(to_ins, letters):\n",
    "    out.append(base+c)\n",
    "out"
   ]
  },
  {
   "cell_type": "code",
   "execution_count": 86,
   "metadata": {},
   "outputs": [],
   "source": [
    "# lst.insert(19,out)\n",
    "# lst # nope, this adds the entire list at index\n",
    "# # list.extend() would just add it to the end."
   ]
  },
  {
   "cell_type": "code",
   "execution_count": 92,
   "metadata": {},
   "outputs": [
    {
     "data": {
      "text/plain": [
       "['V2001',\n",
       " 'V2002',\n",
       " 'V2003',\n",
       " 'V2004',\n",
       " 'V2005',\n",
       " 'V2006',\n",
       " 'V2007',\n",
       " 'V2008',\n",
       " 'V2009',\n",
       " 'V2010',\n",
       " 'V2011',\n",
       " 'V2012',\n",
       " 'V2013',\n",
       " 'V2014',\n",
       " 'V2015',\n",
       " 'V2016',\n",
       " 'V2017',\n",
       " 'V2018',\n",
       " 'V2019',\n",
       " 'V2020',\n",
       " 'V2020B',\n",
       " 'V2020C',\n",
       " 'V2020D',\n",
       " 'V2020E',\n",
       " 'V2021']"
      ]
     },
     "execution_count": 92,
     "metadata": {},
     "output_type": "execute_result"
    }
   ],
   "source": [
    "lst[20:20] = out # this one's interesting. apparently this is the only way\n",
    "# to .extend at index in list. wonder why this works.\n",
    "lst"
   ]
  },
  {
   "cell_type": "markdown",
   "metadata": {},
   "source": [
    "### crime_vars header list obtained programatically\n",
    "this took more time than typing them out, but what's important is that the computer did the work\n",
    "\n",
    "now we've got to type the variable names out ourselves\n",
    "\n",
    "i'm probably going to continue writing in first-person-plural without capitals or punctuation, for reasons i don't fully understand"
   ]
  },
  {
   "cell_type": "markdown",
   "metadata": {},
   "source": [
    "some notes on crimes variables:\n",
    "\n",
    "DAC has three columns, because they only fill one letter per column for Drugs, Alcohol or Computer equipment, flags for having used them during the crime. I should consolidate this into dummy binaries, one for each column.\n",
    "\n",
    "V2014-16 = 'Type of criminal activity' with multiple slots. For specific offenses (subtypes of 'criminal activity, i assume') these columns specify flags for things like 'Gang Involvement' and 'Using/Consuming'. \n",
    "Coding these things in using .apply functions is going to take a *while*, so for this project i'll end up carefully selecting predictors.\n",
    "\n",
    "Then again, Lasso doesn't care what the entries are called, so long as they match each other. So i'll fret about decoding entries after that."
   ]
  },
  {
   "cell_type": "code",
   "execution_count": 110,
   "metadata": {},
   "outputs": [],
   "source": [
    "crimes_cols = [\n",
    "    'segment_level', 'state', 'agency', 'case_number',\n",
    "    'date', 'UCR_code', 'attempt_or_complete', 'DAC_1', # drugs, alcohol, or computer equipment used during crime\n",
    "    'DAC_2', 'DAC_2', 'location_type', 'num_premises_entered',\n",
    "    'method_entry', 'activity_type_1', 'activity_type_2',\n",
    "    'activity_type_3', 'weapon_type_1', 'weapon_type_2',\n",
    "    'weapon_type_3', 'bias_1', 'bias_2', 'bias_3', 'bias_4',\n",
    "    'bias_5', 'num_common_ORIs'\n",
    "]"
   ]
  },
  {
   "cell_type": "raw",
   "metadata": {},
   "source": [
    "Looking through the codebook for the categories: there's a lot. I might end up with hundreds of dummies if I'm not careful. There's ~40 categories within Bias alone.\n",
    "\n",
    "Bias is interesting - whether or not the crime is determined to be bias-motivated, anti-some group. If None, it means the agency's computer wasn't set up to record bias data. A code of 88 indicates 'No bias'.\n",
    "\n",
    "I wonder, can we predict bias rates? now that's an *interesting* question. If we assume agency computers that record bias are randomly distributed (a sizable assumption), we can see if we can predict criminal classifications into \"what's your bias, mate?\"\n",
    "\n",
    "that sounds fascinating, and hilariously controversial. I think I'll do it. It's an important question that many people are interested in.\n",
    "\n",
    "More importantly: there's no quicker way to learn than to have people point out your mistakes, and there's no quicker way to have people point out your mistakes than to investigate contentious data and make controversial claims.\n",
    "## Project refocus: Predict criminal bias\n",
    "\n",
    "Ah, an idea. I should also investigate bias *rates*. Of Asian men assaulting Hispanics, what percent count as a hate crime? What % for the reverse?\n",
    "\n",
    "That could square my dummy numbers, so we could limit it to the n most populous ethnicities in the US. Maybe even do religions if I feel up to it.\n",
    "\n",
    "We can reduce it to one-sided investigations to save time (n instead of nxn). \"Of all crimes committed against Mormons, what percent were hate crimes?\"\n",
    "\n",
    "This... sounds like a side project. I'm not teaching a model to predict anything, just comparing rates using conditionals. It's interesting, but I've used that word thirty times in thirty minutes.\n",
    "\n",
    "Perhaps I'll do it in a blog later.  The focus now must be \"predict bias_type based on other variables\". Let's refocus."
   ]
  },
  {
   "cell_type": "code",
   "execution_count": 96,
   "metadata": {},
   "outputs": [
    {
     "data": {
      "text/plain": [
       "Index(['V2001', 'V2002', 'V2003', 'V2004', 'V2005', 'V2006', 'V2007', 'V2008',\n",
       "       'V2009', 'V2010', 'V2011', 'V2012', 'V2013', 'V2014', 'V2015', 'V2016',\n",
       "       'V2017', 'V2018', 'V2019', 'V2020', 'V2020B', 'V2020C', 'V2020D',\n",
       "       'V2020E', 'V2021'],\n",
       "      dtype='object')"
      ]
     },
     "execution_count": 96,
     "metadata": {},
     "output_type": "execute_result"
    }
   ],
   "source": [
    "crimes.columns"
   ]
  },
  {
   "cell_type": "code",
   "execution_count": 98,
   "metadata": {},
   "outputs": [],
   "source": [
    "c_test = crimes\n",
    "c_test.columns = col_names # renaming columns is easy if you make a list with an entry for every name"
   ]
  },
  {
   "cell_type": "code",
   "execution_count": 99,
   "metadata": {},
   "outputs": [
    {
     "data": {
      "text/html": [
       "<div>\n",
       "<style scoped>\n",
       "    .dataframe tbody tr th:only-of-type {\n",
       "        vertical-align: middle;\n",
       "    }\n",
       "\n",
       "    .dataframe tbody tr th {\n",
       "        vertical-align: top;\n",
       "    }\n",
       "\n",
       "    .dataframe thead th {\n",
       "        text-align: right;\n",
       "    }\n",
       "</style>\n",
       "<table border=\"1\" class=\"dataframe\">\n",
       "  <thead>\n",
       "    <tr style=\"text-align: right;\">\n",
       "      <th></th>\n",
       "      <th>segment_level</th>\n",
       "      <th>state</th>\n",
       "      <th>agency</th>\n",
       "      <th>case_number</th>\n",
       "      <th>date</th>\n",
       "      <th>UCR_code</th>\n",
       "      <th>attempt_or_complete</th>\n",
       "      <th>DAC_1</th>\n",
       "      <th>DAC_2</th>\n",
       "      <th>DAC_2</th>\n",
       "      <th>...</th>\n",
       "      <th>activity_type_3</th>\n",
       "      <th>weapon_type_1</th>\n",
       "      <th>weapon_type_2</th>\n",
       "      <th>weapon_type_3</th>\n",
       "      <th>bias_1</th>\n",
       "      <th>bias_2</th>\n",
       "      <th>bias_3</th>\n",
       "      <th>bias_4</th>\n",
       "      <th>bias_5</th>\n",
       "      <th>num_common_ORIs</th>\n",
       "    </tr>\n",
       "  </thead>\n",
       "  <tbody>\n",
       "    <tr>\n",
       "      <th>1715977</th>\n",
       "      <td>2</td>\n",
       "      <td>20</td>\n",
       "      <td>MA0146000</td>\n",
       "      <td>2W1I0U73LLKR</td>\n",
       "      <td>20160208</td>\n",
       "      <td>120</td>\n",
       "      <td>C</td>\n",
       "      <td>N</td>\n",
       "      <td>None</td>\n",
       "      <td>None</td>\n",
       "      <td>...</td>\n",
       "      <td>None</td>\n",
       "      <td>11</td>\n",
       "      <td>None</td>\n",
       "      <td>None</td>\n",
       "      <td>88</td>\n",
       "      <td>None</td>\n",
       "      <td>None</td>\n",
       "      <td>None</td>\n",
       "      <td>None</td>\n",
       "      <td>1</td>\n",
       "    </tr>\n",
       "    <tr>\n",
       "      <th>4493722</th>\n",
       "      <td>2</td>\n",
       "      <td>41</td>\n",
       "      <td>TNMPD0000</td>\n",
       "      <td>BJ0Q3926XEMF</td>\n",
       "      <td>20160916</td>\n",
       "      <td>13B</td>\n",
       "      <td>C</td>\n",
       "      <td>N</td>\n",
       "      <td>None</td>\n",
       "      <td>None</td>\n",
       "      <td>...</td>\n",
       "      <td>None</td>\n",
       "      <td>40</td>\n",
       "      <td>None</td>\n",
       "      <td>None</td>\n",
       "      <td>88</td>\n",
       "      <td>None</td>\n",
       "      <td>None</td>\n",
       "      <td>None</td>\n",
       "      <td>None</td>\n",
       "      <td>1</td>\n",
       "    </tr>\n",
       "    <tr>\n",
       "      <th>3752840</th>\n",
       "      <td>2</td>\n",
       "      <td>39</td>\n",
       "      <td>SC0260600</td>\n",
       "      <td>8301-ABM72 N</td>\n",
       "      <td>20161125</td>\n",
       "      <td>290</td>\n",
       "      <td>C</td>\n",
       "      <td>N</td>\n",
       "      <td>None</td>\n",
       "      <td>None</td>\n",
       "      <td>...</td>\n",
       "      <td>None</td>\n",
       "      <td>None</td>\n",
       "      <td>None</td>\n",
       "      <td>None</td>\n",
       "      <td>88</td>\n",
       "      <td>None</td>\n",
       "      <td>None</td>\n",
       "      <td>None</td>\n",
       "      <td>None</td>\n",
       "      <td>None</td>\n",
       "    </tr>\n",
       "    <tr>\n",
       "      <th>951544</th>\n",
       "      <td>2</td>\n",
       "      <td>11</td>\n",
       "      <td>ID0010100</td>\n",
       "      <td>2W1I0URZ72JO</td>\n",
       "      <td>20161208</td>\n",
       "      <td>35A</td>\n",
       "      <td>C</td>\n",
       "      <td>N</td>\n",
       "      <td>None</td>\n",
       "      <td>None</td>\n",
       "      <td>...</td>\n",
       "      <td>None</td>\n",
       "      <td>None</td>\n",
       "      <td>None</td>\n",
       "      <td>None</td>\n",
       "      <td>88</td>\n",
       "      <td>None</td>\n",
       "      <td>None</td>\n",
       "      <td>None</td>\n",
       "      <td>None</td>\n",
       "      <td>1</td>\n",
       "    </tr>\n",
       "    <tr>\n",
       "      <th>839681</th>\n",
       "      <td>2</td>\n",
       "      <td>14</td>\n",
       "      <td>IA0570100</td>\n",
       "      <td>2W1I0UO ZD1A</td>\n",
       "      <td>20160104</td>\n",
       "      <td>23H</td>\n",
       "      <td>C</td>\n",
       "      <td>N</td>\n",
       "      <td>None</td>\n",
       "      <td>None</td>\n",
       "      <td>...</td>\n",
       "      <td>None</td>\n",
       "      <td>None</td>\n",
       "      <td>None</td>\n",
       "      <td>None</td>\n",
       "      <td>88</td>\n",
       "      <td>None</td>\n",
       "      <td>None</td>\n",
       "      <td>None</td>\n",
       "      <td>None</td>\n",
       "      <td>None</td>\n",
       "    </tr>\n",
       "    <tr>\n",
       "      <th>2473374</th>\n",
       "      <td>2</td>\n",
       "      <td>26</td>\n",
       "      <td>NB0770200</td>\n",
       "      <td>CZ1235HQHKV6</td>\n",
       "      <td>20161229</td>\n",
       "      <td>26B</td>\n",
       "      <td>C</td>\n",
       "      <td>N</td>\n",
       "      <td>None</td>\n",
       "      <td>None</td>\n",
       "      <td>...</td>\n",
       "      <td>None</td>\n",
       "      <td>None</td>\n",
       "      <td>None</td>\n",
       "      <td>None</td>\n",
       "      <td>88</td>\n",
       "      <td>None</td>\n",
       "      <td>None</td>\n",
       "      <td>None</td>\n",
       "      <td>None</td>\n",
       "      <td>1</td>\n",
       "    </tr>\n",
       "    <tr>\n",
       "      <th>3782956</th>\n",
       "      <td>2</td>\n",
       "      <td>39</td>\n",
       "      <td>SC0310000</td>\n",
       "      <td>1X-HL0706Y1A</td>\n",
       "      <td>20160417</td>\n",
       "      <td>13B</td>\n",
       "      <td>C</td>\n",
       "      <td>N</td>\n",
       "      <td>None</td>\n",
       "      <td>None</td>\n",
       "      <td>...</td>\n",
       "      <td>None</td>\n",
       "      <td>40</td>\n",
       "      <td>None</td>\n",
       "      <td>None</td>\n",
       "      <td>88</td>\n",
       "      <td>None</td>\n",
       "      <td>None</td>\n",
       "      <td>None</td>\n",
       "      <td>None</td>\n",
       "      <td>1</td>\n",
       "    </tr>\n",
       "    <tr>\n",
       "      <th>5234761</th>\n",
       "      <td>2</td>\n",
       "      <td>45</td>\n",
       "      <td>VA1120000</td>\n",
       "      <td>5F1Z-090WKBS</td>\n",
       "      <td>20160509</td>\n",
       "      <td>35A</td>\n",
       "      <td>C</td>\n",
       "      <td>N</td>\n",
       "      <td>None</td>\n",
       "      <td>None</td>\n",
       "      <td>...</td>\n",
       "      <td>None</td>\n",
       "      <td>None</td>\n",
       "      <td>None</td>\n",
       "      <td>None</td>\n",
       "      <td>88</td>\n",
       "      <td>None</td>\n",
       "      <td>None</td>\n",
       "      <td>None</td>\n",
       "      <td>None</td>\n",
       "      <td>2</td>\n",
       "    </tr>\n",
       "    <tr>\n",
       "      <th>5790422</th>\n",
       "      <td>2</td>\n",
       "      <td>46</td>\n",
       "      <td>WASPD0000</td>\n",
       "      <td>7--EY R6MU72</td>\n",
       "      <td>20161107</td>\n",
       "      <td>13A</td>\n",
       "      <td>C</td>\n",
       "      <td>N</td>\n",
       "      <td>None</td>\n",
       "      <td>None</td>\n",
       "      <td>...</td>\n",
       "      <td>None</td>\n",
       "      <td>20</td>\n",
       "      <td>None</td>\n",
       "      <td>None</td>\n",
       "      <td>88</td>\n",
       "      <td>None</td>\n",
       "      <td>None</td>\n",
       "      <td>None</td>\n",
       "      <td>None</td>\n",
       "      <td>1</td>\n",
       "    </tr>\n",
       "    <tr>\n",
       "      <th>5491260</th>\n",
       "      <td>2</td>\n",
       "      <td>46</td>\n",
       "      <td>WA0170700</td>\n",
       "      <td>830BKF5RV2 N</td>\n",
       "      <td>20160923</td>\n",
       "      <td>280</td>\n",
       "      <td>C</td>\n",
       "      <td>D</td>\n",
       "      <td>None</td>\n",
       "      <td>None</td>\n",
       "      <td>...</td>\n",
       "      <td>None</td>\n",
       "      <td>None</td>\n",
       "      <td>None</td>\n",
       "      <td>None</td>\n",
       "      <td>88</td>\n",
       "      <td>None</td>\n",
       "      <td>None</td>\n",
       "      <td>None</td>\n",
       "      <td>None</td>\n",
       "      <td>2</td>\n",
       "    </tr>\n",
       "  </tbody>\n",
       "</table>\n",
       "<p>10 rows × 25 columns</p>\n",
       "</div>"
      ],
      "text/plain": [
       "         segment_level  state     agency   case_number      date UCR_code  \\\n",
       "1715977              2     20  MA0146000  2W1I0U73LLKR  20160208      120   \n",
       "4493722              2     41  TNMPD0000  BJ0Q3926XEMF  20160916      13B   \n",
       "3752840              2     39  SC0260600  8301-ABM72 N  20161125      290   \n",
       "951544               2     11  ID0010100  2W1I0URZ72JO  20161208      35A   \n",
       "839681               2     14  IA0570100  2W1I0UO ZD1A  20160104      23H   \n",
       "2473374              2     26  NB0770200  CZ1235HQHKV6  20161229      26B   \n",
       "3782956              2     39  SC0310000  1X-HL0706Y1A  20160417      13B   \n",
       "5234761              2     45  VA1120000  5F1Z-090WKBS  20160509      35A   \n",
       "5790422              2     46  WASPD0000  7--EY R6MU72  20161107      13A   \n",
       "5491260              2     46  WA0170700  830BKF5RV2 N  20160923      280   \n",
       "\n",
       "        attempt_or_complete DAC_1 DAC_2 DAC_2  ...  activity_type_3  \\\n",
       "1715977                   C     N  None  None  ...             None   \n",
       "4493722                   C     N  None  None  ...             None   \n",
       "3752840                   C     N  None  None  ...             None   \n",
       "951544                    C     N  None  None  ...             None   \n",
       "839681                    C     N  None  None  ...             None   \n",
       "2473374                   C     N  None  None  ...             None   \n",
       "3782956                   C     N  None  None  ...             None   \n",
       "5234761                   C     N  None  None  ...             None   \n",
       "5790422                   C     N  None  None  ...             None   \n",
       "5491260                   C     D  None  None  ...             None   \n",
       "\n",
       "        weapon_type_1 weapon_type_2 weapon_type_3 bias_1 bias_2 bias_3 bias_4  \\\n",
       "1715977            11          None          None     88   None   None   None   \n",
       "4493722            40          None          None     88   None   None   None   \n",
       "3752840          None          None          None     88   None   None   None   \n",
       "951544           None          None          None     88   None   None   None   \n",
       "839681           None          None          None     88   None   None   None   \n",
       "2473374          None          None          None     88   None   None   None   \n",
       "3782956            40          None          None     88   None   None   None   \n",
       "5234761          None          None          None     88   None   None   None   \n",
       "5790422            20          None          None     88   None   None   None   \n",
       "5491260          None          None          None     88   None   None   None   \n",
       "\n",
       "        bias_5  num_common_ORIs  \n",
       "1715977   None                1  \n",
       "4493722   None                1  \n",
       "3752840   None             None  \n",
       "951544    None                1  \n",
       "839681    None             None  \n",
       "2473374   None                1  \n",
       "3782956   None                1  \n",
       "5234761   None                2  \n",
       "5790422   None                1  \n",
       "5491260   None                2  \n",
       "\n",
       "[10 rows x 25 columns]"
      ]
     },
     "execution_count": 99,
     "metadata": {},
     "output_type": "execute_result"
    }
   ],
   "source": [
    "c_test.head(10) # nice, looks like the column names fit"
   ]
  },
  {
   "cell_type": "code",
   "execution_count": 103,
   "metadata": {},
   "outputs": [
    {
     "data": {
      "text/plain": [
       "6063523"
      ]
     },
     "execution_count": 103,
     "metadata": {},
     "output_type": "execute_result"
    }
   ],
   "source": [
    "len(crimes_full)"
   ]
  },
  {
   "cell_type": "code",
   "execution_count": 106,
   "metadata": {},
   "outputs": [
    {
     "data": {
      "text/plain": [
       "52"
      ]
     },
     "execution_count": 106,
     "metadata": {},
     "output_type": "execute_result"
    }
   ],
   "source": [
    "len(crimes_full.V2006.value_counts())"
   ]
  },
  {
   "cell_type": "markdown",
   "metadata": {},
   "source": [
    "#### Cleaning note: we're doing all these operations on the n=5000 subsets\n",
    "#### but we can just remove the subset up top when we want to run the full 6 million"
   ]
  },
  {
   "cell_type": "code",
   "execution_count": 100,
   "metadata": {},
   "outputs": [
    {
     "data": {
      "text/html": [
       "<div>\n",
       "<style scoped>\n",
       "    .dataframe tbody tr th:only-of-type {\n",
       "        vertical-align: middle;\n",
       "    }\n",
       "\n",
       "    .dataframe tbody tr th {\n",
       "        vertical-align: top;\n",
       "    }\n",
       "\n",
       "    .dataframe thead th {\n",
       "        text-align: right;\n",
       "    }\n",
       "</style>\n",
       "<table border=\"1\" class=\"dataframe\">\n",
       "  <thead>\n",
       "    <tr style=\"text-align: right;\">\n",
       "      <th></th>\n",
       "      <th>V4001</th>\n",
       "      <th>V4002</th>\n",
       "      <th>V4003</th>\n",
       "      <th>V4004</th>\n",
       "      <th>V4005</th>\n",
       "      <th>V4006</th>\n",
       "      <th>V4007</th>\n",
       "      <th>V4008</th>\n",
       "      <th>V4009</th>\n",
       "      <th>V4010</th>\n",
       "      <th>...</th>\n",
       "      <th>V4042</th>\n",
       "      <th>V4043</th>\n",
       "      <th>V4044</th>\n",
       "      <th>V4045</th>\n",
       "      <th>V4046</th>\n",
       "      <th>V4047</th>\n",
       "      <th>V4048</th>\n",
       "      <th>V4049</th>\n",
       "      <th>V4050</th>\n",
       "      <th>V4051</th>\n",
       "    </tr>\n",
       "  </thead>\n",
       "  <tbody>\n",
       "    <tr>\n",
       "      <th>5754543</th>\n",
       "      <td>4</td>\n",
       "      <td>46</td>\n",
       "      <td>WASPD0000</td>\n",
       "      <td>3S-XXKI2OF39</td>\n",
       "      <td>20160728</td>\n",
       "      <td>1</td>\n",
       "      <td>23F</td>\n",
       "      <td>None</td>\n",
       "      <td>None</td>\n",
       "      <td>None</td>\n",
       "      <td>...</td>\n",
       "      <td>None</td>\n",
       "      <td>None</td>\n",
       "      <td>None</td>\n",
       "      <td>None</td>\n",
       "      <td>None</td>\n",
       "      <td>None</td>\n",
       "      <td>None</td>\n",
       "      <td>None</td>\n",
       "      <td>None</td>\n",
       "      <td>1</td>\n",
       "    </tr>\n",
       "    <tr>\n",
       "      <th>2983587</th>\n",
       "      <td>4</td>\n",
       "      <td>34</td>\n",
       "      <td>OHCLP0000</td>\n",
       "      <td>2W1I0U7NUX0</td>\n",
       "      <td>20160221</td>\n",
       "      <td>1</td>\n",
       "      <td>240</td>\n",
       "      <td>None</td>\n",
       "      <td>None</td>\n",
       "      <td>None</td>\n",
       "      <td>...</td>\n",
       "      <td>None</td>\n",
       "      <td>None</td>\n",
       "      <td>None</td>\n",
       "      <td>None</td>\n",
       "      <td>None</td>\n",
       "      <td>None</td>\n",
       "      <td>None</td>\n",
       "      <td>None</td>\n",
       "      <td>None</td>\n",
       "      <td>1</td>\n",
       "    </tr>\n",
       "    <tr>\n",
       "      <th>3524650</th>\n",
       "      <td>4</td>\n",
       "      <td>39</td>\n",
       "      <td>SC0040100</td>\n",
       "      <td>FV-YJ4K7Q-F3</td>\n",
       "      <td>20160806</td>\n",
       "      <td>1</td>\n",
       "      <td>35A</td>\n",
       "      <td>35B</td>\n",
       "      <td>None</td>\n",
       "      <td>None</td>\n",
       "      <td>...</td>\n",
       "      <td>None</td>\n",
       "      <td>None</td>\n",
       "      <td>None</td>\n",
       "      <td>None</td>\n",
       "      <td>None</td>\n",
       "      <td>None</td>\n",
       "      <td>None</td>\n",
       "      <td>None</td>\n",
       "      <td>None</td>\n",
       "      <td>1</td>\n",
       "    </tr>\n",
       "    <tr>\n",
       "      <th>4013782</th>\n",
       "      <td>4</td>\n",
       "      <td>41</td>\n",
       "      <td>TN0190100</td>\n",
       "      <td>2W1I05RNS4 A</td>\n",
       "      <td>20160418</td>\n",
       "      <td>1</td>\n",
       "      <td>26B</td>\n",
       "      <td>None</td>\n",
       "      <td>None</td>\n",
       "      <td>None</td>\n",
       "      <td>...</td>\n",
       "      <td>None</td>\n",
       "      <td>None</td>\n",
       "      <td>None</td>\n",
       "      <td>None</td>\n",
       "      <td>None</td>\n",
       "      <td>None</td>\n",
       "      <td>None</td>\n",
       "      <td>None</td>\n",
       "      <td>None</td>\n",
       "      <td>1</td>\n",
       "    </tr>\n",
       "    <tr>\n",
       "      <th>173811</th>\n",
       "      <td>4</td>\n",
       "      <td>3</td>\n",
       "      <td>AR0600300</td>\n",
       "      <td>2W1I02PV7X1A</td>\n",
       "      <td>20160721</td>\n",
       "      <td>1</td>\n",
       "      <td>35A</td>\n",
       "      <td>35B</td>\n",
       "      <td>520</td>\n",
       "      <td>None</td>\n",
       "      <td>...</td>\n",
       "      <td>None</td>\n",
       "      <td>None</td>\n",
       "      <td>None</td>\n",
       "      <td>None</td>\n",
       "      <td>None</td>\n",
       "      <td>None</td>\n",
       "      <td>None</td>\n",
       "      <td>None</td>\n",
       "      <td>None</td>\n",
       "      <td>1</td>\n",
       "    </tr>\n",
       "  </tbody>\n",
       "</table>\n",
       "<p>5 rows × 54 columns</p>\n",
       "</div>"
      ],
      "text/plain": [
       "         V4001  V4002      V4003         V4004     V4005  V4006 V4007 V4008  \\\n",
       "5754543      4     46  WASPD0000  3S-XXKI2OF39  20160728      1   23F  None   \n",
       "2983587      4     34  OHCLP0000   2W1I0U7NUX0  20160221      1   240  None   \n",
       "3524650      4     39  SC0040100  FV-YJ4K7Q-F3  20160806      1   35A   35B   \n",
       "4013782      4     41  TN0190100  2W1I05RNS4 A  20160418      1   26B  None   \n",
       "173811       4      3  AR0600300  2W1I02PV7X1A  20160721      1   35A   35B   \n",
       "\n",
       "        V4009 V4010  ... V4042 V4043 V4044 V4045 V4046 V4047 V4048 V4049  \\\n",
       "5754543  None  None  ...  None  None  None  None  None  None  None  None   \n",
       "2983587  None  None  ...  None  None  None  None  None  None  None  None   \n",
       "3524650  None  None  ...  None  None  None  None  None  None  None  None   \n",
       "4013782  None  None  ...  None  None  None  None  None  None  None  None   \n",
       "173811    520  None  ...  None  None  None  None  None  None  None  None   \n",
       "\n",
       "        V4050 V4051  \n",
       "5754543  None     1  \n",
       "2983587  None     1  \n",
       "3524650  None     1  \n",
       "4013782  None     1  \n",
       "173811   None     1  \n",
       "\n",
       "[5 rows x 54 columns]"
      ]
     },
     "execution_count": 100,
     "metadata": {},
     "output_type": "execute_result"
    }
   ],
   "source": [
    " # let's make lists for the other 2 dataframes\n",
    "vics.head()"
   ]
  },
  {
   "cell_type": "code",
   "execution_count": 119,
   "metadata": {},
   "outputs": [
    {
     "data": {
      "text/plain": [
       "50"
      ]
     },
     "execution_count": 119,
     "metadata": {},
     "output_type": "execute_result"
    }
   ],
   "source": [
    "len(vics_cols)"
   ]
  },
  {
   "cell_type": "code",
   "execution_count": 120,
   "metadata": {},
   "outputs": [],
   "source": [
    "vics_cols = [\n",
    "    'segment_level', 'state', 'agency', 'case_number',\n",
    "    'date', 'victim_seq_num', 'ucr_1', 'ucr_2', 'ucr_3',\n",
    "    'ucr_4', 'ucr_5', 'ucr_6', 'ucr_7', 'ucr_8', 'ucr_9',\n",
    "    'ucr_10', 'vic_type', 'officer_activity_type',\n",
    "    'officer_assignment_type', 'officer_other_juris',\n",
    "    'vic_age', 'vic_sex', 'vic_race', 'vic_ethn',\n",
    "    'vic_resident_status', 'assault_homic_1', 'assault_homic_2',\n",
    "    'add_homic_circumstances', 'injury_1', 'injury_2', 'injury_3',\n",
    "    'injury_4', 'injury_5',\n",
    "    'offndr_1_rltn', 'vic_offndr_rltn_1', 'offndr_2_rltn', 'vic_offndr_rltn_2',\n",
    "    'offndr_3_rltn', 'vic_offndr_rltn_3', 'offndr_4_rltn', 'vic_offndr_rltn_4',\n",
    "    'offndr_5_rltn', 'vic_offndr_rltn_5', 'offndr_6_rltn', 'vic_offndr_rltn_6',\n",
    "    'offndr_7_rltn', 'vic_offndr_rltn_7', 'offndr_8_rltn', 'vic_offndr_rltn_8',\n",
    "    'offndr_9_rltn', 'vic_offndr_rltn_9', 'offndr_10_rltn', 'vic_offndr_rltn_10',\n",
    "    'num_ori_matches',\n",
    "]\n",
    "perps_cols = [\n",
    "    'segment_level', 'state', 'agency', 'case_number', 'date',\n",
    "    'perp_seq_num', 'perp_age', 'perp_sex', 'perp_race',\n",
    "    'num_ori_matches', 'perp_ethn'\n",
    "]"
   ]
  },
  {
   "cell_type": "code",
   "execution_count": 112,
   "metadata": {},
   "outputs": [
    {
     "data": {
      "text/html": [
       "<div>\n",
       "<style scoped>\n",
       "    .dataframe tbody tr th:only-of-type {\n",
       "        vertical-align: middle;\n",
       "    }\n",
       "\n",
       "    .dataframe tbody tr th {\n",
       "        vertical-align: top;\n",
       "    }\n",
       "\n",
       "    .dataframe thead th {\n",
       "        text-align: right;\n",
       "    }\n",
       "</style>\n",
       "<table border=\"1\" class=\"dataframe\">\n",
       "  <thead>\n",
       "    <tr style=\"text-align: right;\">\n",
       "      <th></th>\n",
       "      <th>V5001</th>\n",
       "      <th>V5002</th>\n",
       "      <th>V5003</th>\n",
       "      <th>V5004</th>\n",
       "      <th>V5005</th>\n",
       "      <th>V5006</th>\n",
       "      <th>V5007</th>\n",
       "      <th>V5008</th>\n",
       "      <th>V5009</th>\n",
       "      <th>V5010</th>\n",
       "      <th>V5011</th>\n",
       "    </tr>\n",
       "  </thead>\n",
       "  <tbody>\n",
       "    <tr>\n",
       "      <th>1404057</th>\n",
       "      <td>5</td>\n",
       "      <td>16</td>\n",
       "      <td>KY1110000</td>\n",
       "      <td>6S23X6RAPU72</td>\n",
       "      <td>20160130</td>\n",
       "      <td>0</td>\n",
       "      <td>None</td>\n",
       "      <td>None</td>\n",
       "      <td>None</td>\n",
       "      <td>1</td>\n",
       "      <td>None</td>\n",
       "    </tr>\n",
       "    <tr>\n",
       "      <th>5517245</th>\n",
       "      <td>5</td>\n",
       "      <td>46</td>\n",
       "      <td>WA0150100</td>\n",
       "      <td>7--QYI06MU72</td>\n",
       "      <td>20160906</td>\n",
       "      <td>0</td>\n",
       "      <td>None</td>\n",
       "      <td>None</td>\n",
       "      <td>None</td>\n",
       "      <td>1</td>\n",
       "      <td>None</td>\n",
       "    </tr>\n",
       "    <tr>\n",
       "      <th>933591</th>\n",
       "      <td>5</td>\n",
       "      <td>11</td>\n",
       "      <td>ID0010000</td>\n",
       "      <td>2W1U0U72S2T4</td>\n",
       "      <td>20150623</td>\n",
       "      <td>1</td>\n",
       "      <td>30</td>\n",
       "      <td>M</td>\n",
       "      <td>W</td>\n",
       "      <td>1</td>\n",
       "      <td>None</td>\n",
       "    </tr>\n",
       "    <tr>\n",
       "      <th>5226176</th>\n",
       "      <td>5</td>\n",
       "      <td>45</td>\n",
       "      <td>VA0990000</td>\n",
       "      <td>1I1N1MMP77 I</td>\n",
       "      <td>20161219</td>\n",
       "      <td>0</td>\n",
       "      <td>None</td>\n",
       "      <td>None</td>\n",
       "      <td>None</td>\n",
       "      <td>1</td>\n",
       "      <td>None</td>\n",
       "    </tr>\n",
       "    <tr>\n",
       "      <th>4715279</th>\n",
       "      <td>5</td>\n",
       "      <td>42</td>\n",
       "      <td>TX2201200</td>\n",
       "      <td>830B1OTD-2 N</td>\n",
       "      <td>20160730</td>\n",
       "      <td>2</td>\n",
       "      <td>16</td>\n",
       "      <td>M</td>\n",
       "      <td>B</td>\n",
       "      <td>None</td>\n",
       "      <td>N</td>\n",
       "    </tr>\n",
       "  </tbody>\n",
       "</table>\n",
       "</div>"
      ],
      "text/plain": [
       "         V5001  V5002      V5003         V5004     V5005  V5006 V5007 V5008  \\\n",
       "1404057      5     16  KY1110000  6S23X6RAPU72  20160130      0  None  None   \n",
       "5517245      5     46  WA0150100  7--QYI06MU72  20160906      0  None  None   \n",
       "933591       5     11  ID0010000  2W1U0U72S2T4  20150623      1    30     M   \n",
       "5226176      5     45  VA0990000  1I1N1MMP77 I  20161219      0  None  None   \n",
       "4715279      5     42  TX2201200  830B1OTD-2 N  20160730      2    16     M   \n",
       "\n",
       "        V5009 V5010 V5011  \n",
       "1404057  None     1  None  \n",
       "5517245  None     1  None  \n",
       "933591      W     1  None  \n",
       "5226176  None     1  None  \n",
       "4715279     B  None     N  "
      ]
     },
     "execution_count": 112,
     "metadata": {},
     "output_type": "execute_result"
    }
   ],
   "source": [
    "perps.head()"
   ]
  },
  {
   "cell_type": "code",
   "execution_count": 115,
   "metadata": {},
   "outputs": [
    {
     "data": {
      "text/plain": [
       "54"
      ]
     },
     "execution_count": 115,
     "metadata": {},
     "output_type": "execute_result"
    }
   ],
   "source": [
    "len(vics.columns)"
   ]
  },
  {
   "cell_type": "code",
   "execution_count": 121,
   "metadata": {},
   "outputs": [],
   "source": [
    "crimes.columns = crimes_cols\n",
    "perps.columns = perps_cols\n",
    "vics.columns = vics_cols # rename columns"
   ]
  },
  {
   "cell_type": "markdown",
   "metadata": {},
   "source": [
    "### Checkpoint for today. Column names are fixed\n",
    "- to consider:\n",
    "    - for ML purposes, we only need to translate the Y variable's entries\n",
    "        - the model can run perfectly fine on coded data so long as the codes match: it'll run in french, too, so to speak\n",
    "    - for potential Ys with lots of subcategories, consider binning to reduce num classifiers. quicker computation? better performance\n",
    "    - what should our Y be?\n",
    "        - what are people interested in predicting?\n",
    "            - type of crime\n",
    "                - if violent or not\n",
    "            - type of bias\n",
    "                - if bias or not\n",
    "            - outcome related variables of crime?\n",
    "            "
   ]
  },
  {
   "cell_type": "code",
   "execution_count": null,
   "metadata": {},
   "outputs": [],
   "source": []
  },
  {
   "cell_type": "code",
   "execution_count": null,
   "metadata": {},
   "outputs": [],
   "source": []
  },
  {
   "cell_type": "code",
   "execution_count": null,
   "metadata": {},
   "outputs": [],
   "source": []
  },
  {
   "cell_type": "code",
   "execution_count": null,
   "metadata": {},
   "outputs": [],
   "source": []
  },
  {
   "cell_type": "code",
   "execution_count": null,
   "metadata": {},
   "outputs": [],
   "source": []
  },
  {
   "cell_type": "code",
   "execution_count": null,
   "metadata": {},
   "outputs": [],
   "source": []
  },
  {
   "cell_type": "code",
   "execution_count": null,
   "metadata": {},
   "outputs": [],
   "source": []
  },
  {
   "cell_type": "code",
   "execution_count": null,
   "metadata": {},
   "outputs": [],
   "source": []
  },
  {
   "cell_type": "code",
   "execution_count": null,
   "metadata": {},
   "outputs": [],
   "source": []
  },
  {
   "cell_type": "code",
   "execution_count": null,
   "metadata": {},
   "outputs": [],
   "source": []
  },
  {
   "cell_type": "code",
   "execution_count": null,
   "metadata": {},
   "outputs": [],
   "source": []
  },
  {
   "cell_type": "code",
   "execution_count": null,
   "metadata": {},
   "outputs": [],
   "source": []
  },
  {
   "cell_type": "code",
   "execution_count": null,
   "metadata": {},
   "outputs": [],
   "source": []
  },
  {
   "cell_type": "code",
   "execution_count": null,
   "metadata": {},
   "outputs": [],
   "source": []
  },
  {
   "cell_type": "code",
   "execution_count": null,
   "metadata": {},
   "outputs": [],
   "source": []
  },
  {
   "cell_type": "code",
   "execution_count": null,
   "metadata": {},
   "outputs": [],
   "source": []
  },
  {
   "cell_type": "code",
   "execution_count": null,
   "metadata": {},
   "outputs": [],
   "source": []
  },
  {
   "cell_type": "code",
   "execution_count": null,
   "metadata": {},
   "outputs": [],
   "source": []
  },
  {
   "cell_type": "code",
   "execution_count": null,
   "metadata": {},
   "outputs": [],
   "source": []
  },
  {
   "cell_type": "code",
   "execution_count": null,
   "metadata": {},
   "outputs": [],
   "source": []
  }
 ],
 "metadata": {
  "kernelspec": {
   "display_name": "Python 3",
   "language": "python",
   "name": "python3"
  },
  "language_info": {
   "codemirror_mode": {
    "name": "ipython",
    "version": 3
   },
   "file_extension": ".py",
   "mimetype": "text/x-python",
   "name": "python",
   "nbconvert_exporter": "python",
   "pygments_lexer": "ipython3",
   "version": "3.7.3"
  }
 },
 "nbformat": 4,
 "nbformat_minor": 2
}
