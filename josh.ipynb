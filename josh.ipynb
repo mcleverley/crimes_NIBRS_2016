{
 "cells": [
  {
   "cell_type": "code",
   "execution_count": 1,
   "metadata": {},
   "outputs": [],
   "source": [
    "import pandas as pd\n",
    "import numpy as np\n",
    "np.random.seed(0)\n",
    "import seaborn as sns\n",
    "import matplotlib.pyplot as plt\n",
    "%matplotlib inline\n",
    "from sklearn.model_selection import train_test_split, cross_val_score\n",
    "from sklearn.ensemble import AdaBoostClassifier, GradientBoostingClassifier\n",
    "from sklearn.metrics import accuracy_score, f1_score, confusion_matrix, classification_report"
   ]
  },
  {
   "cell_type": "markdown",
   "metadata": {},
   "source": [
    "# building model 'josh' with gradient boosting\n",
    "\n",
    "### considerations:\n",
    "- heavily subset: 364,000 observations from 8 million merged\n",
    "    - the subsetting... probably isn't random\n",
    "    - a lot of times, cops can't get accurate demographic data on criminals (they can get it more often on victims, though)\n",
    "        - so our data is 'when cops were able to record demographic data (age, sex, ethnicity) of both parties, and when they recorded data about weapons'\n",
    "            - another consideration: **does NaN in the weapons category mean they were unarmed** or that no weapon could be determined properly?\n",
    "                - it would be irresponsible of me to assume that cops erroneously recorded unarmed as NaN, especially because the #1 value in the column is 'unarmed'\n",
    "- 'uniqueness' of row is a victim\n",
    "    - so essentially, we're predicting what sort of crime someone was the victim of, rather than just predicting some crime that occurred\n",
    "        - this is a tradeoff of merging victim data with crime & criminal data\n",
    "        - we'll see if it's worth it\n",
    "    \n",
    "    "
   ]
  },
  {
   "cell_type": "code",
   "execution_count": 102,
   "metadata": {},
   "outputs": [
    {
     "name": "stdout",
     "output_type": "stream",
     "text": [
      "josh loaded\n"
     ]
    }
   ],
   "source": [
    "# load data\n",
    "df = pd.read_csv('merged.csv')\n",
    "df = df.drop(['Unnamed: 0', 'state_y', 'state'], axis=1)\n",
    "df = df.rename(columns={\n",
    "    'state_x':'state',\n",
    "})\n",
    "\n",
    "print('josh loaded')"
   ]
  },
  {
   "cell_type": "code",
   "execution_count": 30,
   "metadata": {},
   "outputs": [
    {
     "data": {
      "text/plain": [
       "Index(['state', 'agency', 'case_number', 'UCR_code', 'attempt_or_complete',\n",
       "       'DAC_1', 'location_type', 'weapon_type_1', 'bias_1', 'perp_seq_num',\n",
       "       'perp_age', 'perp_sex', 'perp_race', 'perp_ethn', 'num_ori_matches_x',\n",
       "       'victim_seq_num', 'ucr_1', 'vic_type', 'vic_age', 'vic_sex', 'vic_race',\n",
       "       'vic_ethn', 'num_ori_matches_y'],\n",
       "      dtype='object')"
      ]
     },
     "execution_count": 30,
     "metadata": {},
     "output_type": "execute_result"
    }
   ],
   "source": [
    "df.columns"
   ]
  },
  {
   "cell_type": "code",
   "execution_count": 103,
   "metadata": {
    "scrolled": true
   },
   "outputs": [
    {
     "name": "stdout",
     "output_type": "stream",
     "text": [
      "<class 'pandas.core.frame.DataFrame'>\n",
      "RangeIndex: 8505901 entries, 0 to 8505900\n",
      "Data columns (total 23 columns):\n",
      "state                  int64\n",
      "agency                 object\n",
      "case_number            object\n",
      "UCR_code               object\n",
      "attempt_or_complete    object\n",
      "DAC_1                  object\n",
      "location_type          int64\n",
      "weapon_type_1          object\n",
      "bias_1                 int64\n",
      "perp_seq_num           int64\n",
      "perp_age               float64\n",
      "perp_sex               object\n",
      "perp_race              object\n",
      "perp_ethn              object\n",
      "num_ori_matches_x      float64\n",
      "victim_seq_num         int64\n",
      "ucr_1                  object\n",
      "vic_type               object\n",
      "vic_age                object\n",
      "vic_sex                object\n",
      "vic_race               object\n",
      "vic_ethn               object\n",
      "num_ori_matches_y      float64\n",
      "dtypes: float64(3), int64(5), object(15)\n",
      "memory usage: 1.5+ GB\n"
     ]
    }
   ],
   "source": [
    "df.info()"
   ]
  },
  {
   "cell_type": "code",
   "execution_count": 8,
   "metadata": {},
   "outputs": [
    {
     "name": "stdout",
     "output_type": "stream",
     "text": [
      "1\n"
     ]
    }
   ],
   "source": [
    "# vic_age is an object, let's numify it\n",
    "c = 0\n",
    "try:\n",
    "    df['vic_age']=pd.to_numeric(df['vic_age'])\n",
    "except:\n",
    "    c += 1\n",
    "print(c)"
   ]
  },
  {
   "cell_type": "code",
   "execution_count": 14,
   "metadata": {},
   "outputs": [
    {
     "data": {
      "text/html": [
       "<div>\n",
       "<style scoped>\n",
       "    .dataframe tbody tr th:only-of-type {\n",
       "        vertical-align: middle;\n",
       "    }\n",
       "\n",
       "    .dataframe tbody tr th {\n",
       "        vertical-align: top;\n",
       "    }\n",
       "\n",
       "    .dataframe thead th {\n",
       "        text-align: right;\n",
       "    }\n",
       "</style>\n",
       "<table border=\"1\" class=\"dataframe\">\n",
       "  <thead>\n",
       "    <tr style=\"text-align: right;\">\n",
       "      <th></th>\n",
       "      <th>state</th>\n",
       "      <th>agency</th>\n",
       "      <th>case_number</th>\n",
       "      <th>UCR_code</th>\n",
       "      <th>attempt_or_complete</th>\n",
       "      <th>DAC_1</th>\n",
       "      <th>location_type</th>\n",
       "      <th>weapon_type_1</th>\n",
       "      <th>bias_1</th>\n",
       "      <th>perp_seq_num</th>\n",
       "      <th>...</th>\n",
       "      <th>perp_ethn</th>\n",
       "      <th>num_ori_matches_x</th>\n",
       "      <th>victim_seq_num</th>\n",
       "      <th>ucr_1</th>\n",
       "      <th>vic_type</th>\n",
       "      <th>vic_age</th>\n",
       "      <th>vic_sex</th>\n",
       "      <th>vic_race</th>\n",
       "      <th>vic_ethn</th>\n",
       "      <th>num_ori_matches_y</th>\n",
       "    </tr>\n",
       "  </thead>\n",
       "  <tbody>\n",
       "    <tr>\n",
       "      <th>0</th>\n",
       "      <td>3</td>\n",
       "      <td>AR0010000</td>\n",
       "      <td>2-0QVS1MD I</td>\n",
       "      <td>13B</td>\n",
       "      <td>C</td>\n",
       "      <td>A</td>\n",
       "      <td>25</td>\n",
       "      <td>99</td>\n",
       "      <td>88</td>\n",
       "      <td>1</td>\n",
       "      <td>...</td>\n",
       "      <td>N</td>\n",
       "      <td>2.0</td>\n",
       "      <td>1</td>\n",
       "      <td>13B</td>\n",
       "      <td>I</td>\n",
       "      <td>30</td>\n",
       "      <td>F</td>\n",
       "      <td>W</td>\n",
       "      <td>N</td>\n",
       "      <td>1.0</td>\n",
       "    </tr>\n",
       "    <tr>\n",
       "      <th>1</th>\n",
       "      <td>3</td>\n",
       "      <td>AR0010000</td>\n",
       "      <td>2-BQ-51MD I</td>\n",
       "      <td>13B</td>\n",
       "      <td>C</td>\n",
       "      <td>N</td>\n",
       "      <td>20</td>\n",
       "      <td>99</td>\n",
       "      <td>88</td>\n",
       "      <td>1</td>\n",
       "      <td>...</td>\n",
       "      <td>N</td>\n",
       "      <td>1.0</td>\n",
       "      <td>1</td>\n",
       "      <td>13B</td>\n",
       "      <td>I</td>\n",
       "      <td>07</td>\n",
       "      <td>F</td>\n",
       "      <td>W</td>\n",
       "      <td>N</td>\n",
       "      <td>1.0</td>\n",
       "    </tr>\n",
       "    <tr>\n",
       "      <th>2</th>\n",
       "      <td>3</td>\n",
       "      <td>AR0010000</td>\n",
       "      <td>2-BQ-91MD I</td>\n",
       "      <td>13B</td>\n",
       "      <td>C</td>\n",
       "      <td>N</td>\n",
       "      <td>46</td>\n",
       "      <td>99</td>\n",
       "      <td>88</td>\n",
       "      <td>1</td>\n",
       "      <td>...</td>\n",
       "      <td>N</td>\n",
       "      <td>1.0</td>\n",
       "      <td>1</td>\n",
       "      <td>13B</td>\n",
       "      <td>I</td>\n",
       "      <td>30</td>\n",
       "      <td>M</td>\n",
       "      <td>W</td>\n",
       "      <td>N</td>\n",
       "      <td>1.0</td>\n",
       "    </tr>\n",
       "    <tr>\n",
       "      <th>3</th>\n",
       "      <td>3</td>\n",
       "      <td>AR0010000</td>\n",
       "      <td>1X-JP-H0HG1A</td>\n",
       "      <td>13B</td>\n",
       "      <td>C</td>\n",
       "      <td>N</td>\n",
       "      <td>15</td>\n",
       "      <td>99</td>\n",
       "      <td>88</td>\n",
       "      <td>1</td>\n",
       "      <td>...</td>\n",
       "      <td>U</td>\n",
       "      <td>2.0</td>\n",
       "      <td>1</td>\n",
       "      <td>13B</td>\n",
       "      <td>I</td>\n",
       "      <td>22</td>\n",
       "      <td>M</td>\n",
       "      <td>W</td>\n",
       "      <td>U</td>\n",
       "      <td>1.0</td>\n",
       "    </tr>\n",
       "    <tr>\n",
       "      <th>4</th>\n",
       "      <td>3</td>\n",
       "      <td>AR0010000</td>\n",
       "      <td>1X-MP-80HG1A</td>\n",
       "      <td>13B</td>\n",
       "      <td>C</td>\n",
       "      <td>N</td>\n",
       "      <td>25</td>\n",
       "      <td>99</td>\n",
       "      <td>88</td>\n",
       "      <td>1</td>\n",
       "      <td>...</td>\n",
       "      <td>H</td>\n",
       "      <td>1.0</td>\n",
       "      <td>1</td>\n",
       "      <td>13B</td>\n",
       "      <td>I</td>\n",
       "      <td>42</td>\n",
       "      <td>M</td>\n",
       "      <td>B</td>\n",
       "      <td>N</td>\n",
       "      <td>1.0</td>\n",
       "    </tr>\n",
       "  </tbody>\n",
       "</table>\n",
       "<p>5 rows × 23 columns</p>\n",
       "</div>"
      ],
      "text/plain": [
       "   state     agency   case_number UCR_code attempt_or_complete DAC_1  \\\n",
       "0      3  AR0010000   2-0QVS1MD I      13B                   C     A   \n",
       "1      3  AR0010000   2-BQ-51MD I      13B                   C     N   \n",
       "2      3  AR0010000   2-BQ-91MD I      13B                   C     N   \n",
       "3      3  AR0010000  1X-JP-H0HG1A      13B                   C     N   \n",
       "4      3  AR0010000  1X-MP-80HG1A      13B                   C     N   \n",
       "\n",
       "   location_type weapon_type_1  bias_1  perp_seq_num  ...  perp_ethn  \\\n",
       "0             25            99      88             1  ...          N   \n",
       "1             20            99      88             1  ...          N   \n",
       "2             46            99      88             1  ...          N   \n",
       "3             15            99      88             1  ...          U   \n",
       "4             25            99      88             1  ...          H   \n",
       "\n",
       "  num_ori_matches_x victim_seq_num ucr_1  vic_type  vic_age vic_sex vic_race  \\\n",
       "0               2.0              1   13B         I       30       F        W   \n",
       "1               1.0              1   13B         I       07       F        W   \n",
       "2               1.0              1   13B         I       30       M        W   \n",
       "3               2.0              1   13B         I       22       M        W   \n",
       "4               1.0              1   13B         I       42       M        B   \n",
       "\n",
       "  vic_ethn num_ori_matches_y  \n",
       "0        N               1.0  \n",
       "1        N               1.0  \n",
       "2        N               1.0  \n",
       "3        U               1.0  \n",
       "4        N               1.0  \n",
       "\n",
       "[5 rows x 23 columns]"
      ]
     },
     "execution_count": 14,
     "metadata": {},
     "output_type": "execute_result"
    }
   ],
   "source": [
    "df.head(5)"
   ]
  },
  {
   "cell_type": "markdown",
   "metadata": {},
   "source": [
    "## variable questions\n"
   ]
  },
  {
   "cell_type": "markdown",
   "metadata": {},
   "source": [
    "- is the victim's UCR (ucr_1) different from the crime's UCR_code?"
   ]
  },
  {
   "cell_type": "code",
   "execution_count": 20,
   "metadata": {},
   "outputs": [
    {
     "name": "stdout",
     "output_type": "stream",
     "text": [
      "364778 343600\n"
     ]
    }
   ],
   "source": [
    "t = df[df['UCR_code']==df['ucr_1']]\n",
    "print(len(df),len(t))"
   ]
  },
  {
   "cell_type": "markdown",
   "metadata": {},
   "source": [
    "- answer: maybe, yeah. so we'll keep it in\n",
    "    - multiple victims for same crime, or multiple crimes for same victim"
   ]
  },
  {
   "cell_type": "code",
   "execution_count": 22,
   "metadata": {},
   "outputs": [],
   "source": [
    "# target = df.UCR_code\n",
    "# df.drop('UCR_code', axis=1, inplace=True)"
   ]
  },
  {
   "cell_type": "code",
   "execution_count": 78,
   "metadata": {},
   "outputs": [
    {
     "data": {
      "text/plain": [
       "869192                Arson\n",
       "5730262               Drugs\n",
       "7997383               Theft\n",
       "7831761    Weapon_Violation\n",
       "3506883               Drugs\n",
       "                 ...       \n",
       "64992                 Theft\n",
       "4927026               Theft\n",
       "4630907             Assault\n",
       "912598              Assault\n",
       "4498772             Assault\n",
       "Name: UCR_code, Length: 5000, dtype: object"
      ]
     },
     "execution_count": 78,
     "metadata": {},
     "output_type": "execute_result"
    }
   ],
   "source": [
    "target"
   ]
  },
  {
   "cell_type": "code",
   "execution_count": 50,
   "metadata": {},
   "outputs": [],
   "source": [
    "# target.hist()"
   ]
  },
  {
   "cell_type": "code",
   "execution_count": null,
   "metadata": {},
   "outputs": [],
   "source": []
  },
  {
   "cell_type": "code",
   "execution_count": null,
   "metadata": {},
   "outputs": [],
   "source": [
    "# d.head()"
   ]
  },
  {
   "cell_type": "markdown",
   "metadata": {},
   "source": [
    "## Too many classification categories. let's bin"
   ]
  },
  {
   "cell_type": "code",
   "execution_count": 104,
   "metadata": {},
   "outputs": [],
   "source": [
    "\n",
    "Assault = ['13A', '13B', '13C',]\n",
    "Sex_Offense = ['11A', '11B', '11C', '11D', '36A', '36B',]\n",
    "Financial_Fraud_Gambling = ['510', '250', '270', '210', '26A', '26B','26C', '26D', '26E', '39A', '39B', '39C', '39D']\n",
    "Theft = ['220','23A','23B','23C','23D', '23E', '23F', '23G','23H', '240','120', '280']\n",
    "Arson = ['200',]\n",
    "Drugs = ['35A', '35B',]\n",
    "Murder = ['09A']\n",
    "Negligent_Manslaughter = ['09B']\n",
    "Justifiable_Homicide = ['09C']\n",
    "Abduction = ['100']\n",
    "Obscene_Prostitution = ['370','40A','40B','40C',]\n",
    "Weapon_Violation = ['520']"
   ]
  },
  {
   "cell_type": "code",
   "execution_count": 105,
   "metadata": {},
   "outputs": [],
   "source": [
    "bins = {\n",
    "    \"Assault\" : ['13A', '13B', '13C',],\n",
    "    \"Sex_Offense\" : ['11A', '11B', '11C', '11D', '36A', '36B',],\n",
    "    \"Financial_Fraud_Gambling\" : ['510', '250', '270', '210', '26A', '26B','26C', '26D', '26E', '39A', '39B', '39C', '39D'],\n",
    "    \"Theft\" : ['220','23A','23B','23C','23D', '23E', '23F', '23G','23H', '240','120', '280'],\n",
    "    \"Arson\" : ['200',],\n",
    "    \"Drugs\" : ['35A', '35B',],\n",
    "    \"Murder\" : ['09A'],\n",
    "    \"Negligent_Manslaughter\" : ['09B'],\n",
    "    \"Justifiable_Homicide\" : ['09C'],\n",
    "    \"Abduction\" : ['100'],\n",
    "    \"Obscene_Prostitution\" : ['370','40A','40B','40C',],\n",
    "    \"Weapon_Violation\" : ['520'],\n",
    "}"
   ]
  },
  {
   "cell_type": "code",
   "execution_count": 12,
   "metadata": {},
   "outputs": [],
   "source": [
    "def cleaner(row): # if value in list, change value to that list's label\n",
    "    entry = row['UCR_code']\n",
    "    for key, value in bins.items():\n",
    "        if entry in value:\n",
    "            row['UCR_code'] = key\n",
    "    return row\n"
   ]
  },
  {
   "cell_type": "code",
   "execution_count": 27,
   "metadata": {},
   "outputs": [
    {
     "data": {
      "text/html": [
       "<div>\n",
       "<style scoped>\n",
       "    .dataframe tbody tr th:only-of-type {\n",
       "        vertical-align: middle;\n",
       "    }\n",
       "\n",
       "    .dataframe tbody tr th {\n",
       "        vertical-align: top;\n",
       "    }\n",
       "\n",
       "    .dataframe thead th {\n",
       "        text-align: right;\n",
       "    }\n",
       "</style>\n",
       "<table border=\"1\" class=\"dataframe\">\n",
       "  <thead>\n",
       "    <tr style=\"text-align: right;\">\n",
       "      <th></th>\n",
       "      <th>state</th>\n",
       "      <th>agency</th>\n",
       "      <th>case_number</th>\n",
       "      <th>attempt_or_complete</th>\n",
       "      <th>DAC_1</th>\n",
       "      <th>location_type</th>\n",
       "      <th>weapon_type_1</th>\n",
       "      <th>bias_1</th>\n",
       "      <th>perp_seq_num</th>\n",
       "      <th>perp_age</th>\n",
       "      <th>...</th>\n",
       "      <th>perp_ethn</th>\n",
       "      <th>num_ori_matches_x</th>\n",
       "      <th>victim_seq_num</th>\n",
       "      <th>ucr_1</th>\n",
       "      <th>vic_type</th>\n",
       "      <th>vic_age</th>\n",
       "      <th>vic_sex</th>\n",
       "      <th>vic_race</th>\n",
       "      <th>vic_ethn</th>\n",
       "      <th>num_ori_matches_y</th>\n",
       "    </tr>\n",
       "  </thead>\n",
       "  <tbody>\n",
       "    <tr>\n",
       "      <th>0</th>\n",
       "      <td>3</td>\n",
       "      <td>AR0010000</td>\n",
       "      <td>2-0QVS1MD I</td>\n",
       "      <td>C</td>\n",
       "      <td>A</td>\n",
       "      <td>25</td>\n",
       "      <td>99</td>\n",
       "      <td>88</td>\n",
       "      <td>1</td>\n",
       "      <td>35.0</td>\n",
       "      <td>...</td>\n",
       "      <td>N</td>\n",
       "      <td>2.0</td>\n",
       "      <td>1</td>\n",
       "      <td>13B</td>\n",
       "      <td>I</td>\n",
       "      <td>30</td>\n",
       "      <td>F</td>\n",
       "      <td>W</td>\n",
       "      <td>N</td>\n",
       "      <td>1.0</td>\n",
       "    </tr>\n",
       "    <tr>\n",
       "      <th>1</th>\n",
       "      <td>3</td>\n",
       "      <td>AR0010000</td>\n",
       "      <td>2-BQ-51MD I</td>\n",
       "      <td>C</td>\n",
       "      <td>N</td>\n",
       "      <td>20</td>\n",
       "      <td>99</td>\n",
       "      <td>88</td>\n",
       "      <td>1</td>\n",
       "      <td>31.0</td>\n",
       "      <td>...</td>\n",
       "      <td>N</td>\n",
       "      <td>1.0</td>\n",
       "      <td>1</td>\n",
       "      <td>13B</td>\n",
       "      <td>I</td>\n",
       "      <td>07</td>\n",
       "      <td>F</td>\n",
       "      <td>W</td>\n",
       "      <td>N</td>\n",
       "      <td>1.0</td>\n",
       "    </tr>\n",
       "    <tr>\n",
       "      <th>2</th>\n",
       "      <td>3</td>\n",
       "      <td>AR0010000</td>\n",
       "      <td>2-BQ-91MD I</td>\n",
       "      <td>C</td>\n",
       "      <td>N</td>\n",
       "      <td>46</td>\n",
       "      <td>99</td>\n",
       "      <td>88</td>\n",
       "      <td>1</td>\n",
       "      <td>76.0</td>\n",
       "      <td>...</td>\n",
       "      <td>N</td>\n",
       "      <td>1.0</td>\n",
       "      <td>1</td>\n",
       "      <td>13B</td>\n",
       "      <td>I</td>\n",
       "      <td>30</td>\n",
       "      <td>M</td>\n",
       "      <td>W</td>\n",
       "      <td>N</td>\n",
       "      <td>1.0</td>\n",
       "    </tr>\n",
       "    <tr>\n",
       "      <th>3</th>\n",
       "      <td>3</td>\n",
       "      <td>AR0010000</td>\n",
       "      <td>1X-JP-H0HG1A</td>\n",
       "      <td>C</td>\n",
       "      <td>N</td>\n",
       "      <td>15</td>\n",
       "      <td>99</td>\n",
       "      <td>88</td>\n",
       "      <td>1</td>\n",
       "      <td>30.0</td>\n",
       "      <td>...</td>\n",
       "      <td>U</td>\n",
       "      <td>2.0</td>\n",
       "      <td>1</td>\n",
       "      <td>13B</td>\n",
       "      <td>I</td>\n",
       "      <td>22</td>\n",
       "      <td>M</td>\n",
       "      <td>W</td>\n",
       "      <td>U</td>\n",
       "      <td>1.0</td>\n",
       "    </tr>\n",
       "    <tr>\n",
       "      <th>4</th>\n",
       "      <td>3</td>\n",
       "      <td>AR0010000</td>\n",
       "      <td>1X-MP-80HG1A</td>\n",
       "      <td>C</td>\n",
       "      <td>N</td>\n",
       "      <td>25</td>\n",
       "      <td>99</td>\n",
       "      <td>88</td>\n",
       "      <td>1</td>\n",
       "      <td>65.0</td>\n",
       "      <td>...</td>\n",
       "      <td>H</td>\n",
       "      <td>1.0</td>\n",
       "      <td>1</td>\n",
       "      <td>13B</td>\n",
       "      <td>I</td>\n",
       "      <td>42</td>\n",
       "      <td>M</td>\n",
       "      <td>B</td>\n",
       "      <td>N</td>\n",
       "      <td>1.0</td>\n",
       "    </tr>\n",
       "  </tbody>\n",
       "</table>\n",
       "<p>5 rows × 22 columns</p>\n",
       "</div>"
      ],
      "text/plain": [
       "   state     agency   case_number attempt_or_complete DAC_1  location_type  \\\n",
       "0      3  AR0010000   2-0QVS1MD I                   C     A             25   \n",
       "1      3  AR0010000   2-BQ-51MD I                   C     N             20   \n",
       "2      3  AR0010000   2-BQ-91MD I                   C     N             46   \n",
       "3      3  AR0010000  1X-JP-H0HG1A                   C     N             15   \n",
       "4      3  AR0010000  1X-MP-80HG1A                   C     N             25   \n",
       "\n",
       "  weapon_type_1  bias_1  perp_seq_num  perp_age  ... perp_ethn  \\\n",
       "0            99      88             1      35.0  ...         N   \n",
       "1            99      88             1      31.0  ...         N   \n",
       "2            99      88             1      76.0  ...         N   \n",
       "3            99      88             1      30.0  ...         U   \n",
       "4            99      88             1      65.0  ...         H   \n",
       "\n",
       "  num_ori_matches_x victim_seq_num  ucr_1  vic_type vic_age vic_sex vic_race  \\\n",
       "0               2.0              1    13B         I      30       F        W   \n",
       "1               1.0              1    13B         I      07       F        W   \n",
       "2               1.0              1    13B         I      30       M        W   \n",
       "3               2.0              1    13B         I      22       M        W   \n",
       "4               1.0              1    13B         I      42       M        B   \n",
       "\n",
       "  vic_ethn num_ori_matches_y  \n",
       "0        N               1.0  \n",
       "1        N               1.0  \n",
       "2        N               1.0  \n",
       "3        U               1.0  \n",
       "4        N               1.0  \n",
       "\n",
       "[5 rows x 22 columns]"
      ]
     },
     "execution_count": 27,
     "metadata": {},
     "output_type": "execute_result"
    }
   ],
   "source": [
    "df.head()"
   ]
  },
  {
   "cell_type": "code",
   "execution_count": 38,
   "metadata": {
    "scrolled": true
   },
   "outputs": [],
   "source": [
    "df['UCR_code'] = df['UCR_code'].apply(str)"
   ]
  },
  {
   "cell_type": "code",
   "execution_count": 52,
   "metadata": {},
   "outputs": [],
   "source": [
    "# df.info()"
   ]
  },
  {
   "cell_type": "code",
   "execution_count": 53,
   "metadata": {},
   "outputs": [
    {
     "data": {
      "text/plain": [
       "\"\\nWe've got 8.5 million points. for time purposes, let's sample this down heavily.\\n\""
      ]
     },
     "execution_count": 53,
     "metadata": {},
     "output_type": "execute_result"
    }
   ],
   "source": [
    "len(df)\n",
    "'''\n",
    "We've got 8.5 million points. for time purposes, let's sample this down heavily.\n",
    "'''"
   ]
  },
  {
   "cell_type": "code",
   "execution_count": null,
   "metadata": {},
   "outputs": [],
   "source": [
    "# d = df"
   ]
  },
  {
   "cell_type": "code",
   "execution_count": 44,
   "metadata": {},
   "outputs": [],
   "source": [
    "full = d"
   ]
  },
  {
   "cell_type": "code",
   "execution_count": null,
   "metadata": {},
   "outputs": [],
   "source": []
  },
  {
   "cell_type": "code",
   "execution_count": 54,
   "metadata": {},
   "outputs": [
    {
     "data": {
      "text/plain": [
       "8505901"
      ]
     },
     "execution_count": 54,
     "metadata": {},
     "output_type": "execute_result"
    }
   ],
   "source": [
    "store = df\n",
    "len(store)"
   ]
  },
  {
   "cell_type": "code",
   "execution_count": 106,
   "metadata": {},
   "outputs": [
    {
     "data": {
      "text/plain": [
       "8505901"
      ]
     },
     "execution_count": 106,
     "metadata": {},
     "output_type": "execute_result"
    }
   ],
   "source": [
    "len(df)"
   ]
  },
  {
   "cell_type": "code",
   "execution_count": 107,
   "metadata": {},
   "outputs": [
    {
     "name": "stdout",
     "output_type": "stream",
     "text": [
      "True\n"
     ]
    }
   ],
   "source": [
    "\n",
    "df = df.dropna(axis=0)\n",
    "len(df)\n",
    "\n",
    "josh = df.sample(5000, random_state=1)\n",
    "josh = josh.apply(lambda row: cleaner(row), axis=1)\n",
    "print('UCR_code' in list(josh.columns))"
   ]
  },
  {
   "cell_type": "code",
   "execution_count": 108,
   "metadata": {},
   "outputs": [],
   "source": [
    "josh_storage = josh"
   ]
  },
  {
   "cell_type": "code",
   "execution_count": 90,
   "metadata": {},
   "outputs": [],
   "source": []
  },
  {
   "cell_type": "code",
   "execution_count": 91,
   "metadata": {},
   "outputs": [],
   "source": []
  },
  {
   "cell_type": "code",
   "execution_count": 58,
   "metadata": {},
   "outputs": [],
   "source": [
    "josh.to_csv('josh_sample_translated.csv')"
   ]
  },
  {
   "cell_type": "code",
   "execution_count": 15,
   "metadata": {},
   "outputs": [],
   "source": [
    "df.to_csv('pre_translate.csv')"
   ]
  },
  {
   "cell_type": "code",
   "execution_count": 92,
   "metadata": {},
   "outputs": [
    {
     "data": {
      "text/plain": [
       "Index(['state', 'agency', 'case_number', 'UCR_code', 'attempt_or_complete',\n",
       "       'DAC_1', 'location_type', 'weapon_type_1', 'bias_1', 'perp_seq_num',\n",
       "       'perp_age', 'perp_sex', 'perp_race', 'perp_ethn', 'num_ori_matches_x',\n",
       "       'victim_seq_num', 'ucr_1', 'vic_type', 'vic_age', 'vic_sex', 'vic_race',\n",
       "       'vic_ethn', 'num_ori_matches_y'],\n",
       "      dtype='object')"
      ]
     },
     "execution_count": 92,
     "metadata": {},
     "output_type": "execute_result"
    }
   ],
   "source": [
    "josh.columns"
   ]
  },
  {
   "cell_type": "code",
   "execution_count": 17,
   "metadata": {},
   "outputs": [
    {
     "data": {
      "text/html": [
       "<div>\n",
       "<style scoped>\n",
       "    .dataframe tbody tr th:only-of-type {\n",
       "        vertical-align: middle;\n",
       "    }\n",
       "\n",
       "    .dataframe tbody tr th {\n",
       "        vertical-align: top;\n",
       "    }\n",
       "\n",
       "    .dataframe thead th {\n",
       "        text-align: right;\n",
       "    }\n",
       "</style>\n",
       "<table border=\"1\" class=\"dataframe\">\n",
       "  <thead>\n",
       "    <tr style=\"text-align: right;\">\n",
       "      <th></th>\n",
       "      <th>state</th>\n",
       "      <th>agency</th>\n",
       "      <th>case_number</th>\n",
       "      <th>UCR_code</th>\n",
       "      <th>attempt_or_complete</th>\n",
       "      <th>DAC_1</th>\n",
       "      <th>location_type</th>\n",
       "      <th>weapon_type_1</th>\n",
       "      <th>bias_1</th>\n",
       "      <th>perp_seq_num</th>\n",
       "      <th>...</th>\n",
       "      <th>perp_ethn</th>\n",
       "      <th>num_ori_matches_x</th>\n",
       "      <th>victim_seq_num</th>\n",
       "      <th>ucr_1</th>\n",
       "      <th>vic_type</th>\n",
       "      <th>vic_age</th>\n",
       "      <th>vic_sex</th>\n",
       "      <th>vic_race</th>\n",
       "      <th>vic_ethn</th>\n",
       "      <th>num_ori_matches_y</th>\n",
       "    </tr>\n",
       "  </thead>\n",
       "  <tbody>\n",
       "    <tr>\n",
       "      <td>869192</td>\n",
       "      <td>6</td>\n",
       "      <td>CT0004400</td>\n",
       "      <td>830BRV5RSD N</td>\n",
       "      <td>Arson</td>\n",
       "      <td>C</td>\n",
       "      <td>N</td>\n",
       "      <td>20</td>\n",
       "      <td>NaN</td>\n",
       "      <td>88</td>\n",
       "      <td>1</td>\n",
       "      <td>...</td>\n",
       "      <td>NaN</td>\n",
       "      <td>1.0</td>\n",
       "      <td>3</td>\n",
       "      <td>200</td>\n",
       "      <td>I</td>\n",
       "      <td>37</td>\n",
       "      <td>F</td>\n",
       "      <td>W</td>\n",
       "      <td>N</td>\n",
       "      <td>NaN</td>\n",
       "    </tr>\n",
       "    <tr>\n",
       "      <td>5730262</td>\n",
       "      <td>41</td>\n",
       "      <td>TN0190100</td>\n",
       "      <td>3A1N1-KU7F7I</td>\n",
       "      <td>Drugs</td>\n",
       "      <td>C</td>\n",
       "      <td>N</td>\n",
       "      <td>20</td>\n",
       "      <td>NaN</td>\n",
       "      <td>88</td>\n",
       "      <td>1</td>\n",
       "      <td>...</td>\n",
       "      <td>N</td>\n",
       "      <td>1.0</td>\n",
       "      <td>1</td>\n",
       "      <td>35B</td>\n",
       "      <td>S</td>\n",
       "      <td>NaN</td>\n",
       "      <td>NaN</td>\n",
       "      <td>NaN</td>\n",
       "      <td>NaN</td>\n",
       "      <td>1.0</td>\n",
       "    </tr>\n",
       "    <tr>\n",
       "      <td>7997383</td>\n",
       "      <td>46</td>\n",
       "      <td>WA0320000</td>\n",
       "      <td>3A1N1-FP-G5X</td>\n",
       "      <td>Theft</td>\n",
       "      <td>C</td>\n",
       "      <td>N</td>\n",
       "      <td>3</td>\n",
       "      <td>NaN</td>\n",
       "      <td>88</td>\n",
       "      <td>1</td>\n",
       "      <td>...</td>\n",
       "      <td>NaN</td>\n",
       "      <td>1.0</td>\n",
       "      <td>1</td>\n",
       "      <td>23H</td>\n",
       "      <td>I</td>\n",
       "      <td>32</td>\n",
       "      <td>F</td>\n",
       "      <td>W</td>\n",
       "      <td>NaN</td>\n",
       "      <td>2.0</td>\n",
       "    </tr>\n",
       "    <tr>\n",
       "      <td>7831761</td>\n",
       "      <td>46</td>\n",
       "      <td>WA0270000</td>\n",
       "      <td>830GKVSMVF N</td>\n",
       "      <td>Weapon_Violation</td>\n",
       "      <td>C</td>\n",
       "      <td>N</td>\n",
       "      <td>22</td>\n",
       "      <td>11</td>\n",
       "      <td>88</td>\n",
       "      <td>2</td>\n",
       "      <td>...</td>\n",
       "      <td>NaN</td>\n",
       "      <td>NaN</td>\n",
       "      <td>1</td>\n",
       "      <td>220</td>\n",
       "      <td>B</td>\n",
       "      <td>NaN</td>\n",
       "      <td>NaN</td>\n",
       "      <td>NaN</td>\n",
       "      <td>NaN</td>\n",
       "      <td>2.0</td>\n",
       "    </tr>\n",
       "    <tr>\n",
       "      <td>3506883</td>\n",
       "      <td>33</td>\n",
       "      <td>ND0080100</td>\n",
       "      <td>0A1I0UO2JN1A</td>\n",
       "      <td>Drugs</td>\n",
       "      <td>C</td>\n",
       "      <td>N</td>\n",
       "      <td>13</td>\n",
       "      <td>NaN</td>\n",
       "      <td>88</td>\n",
       "      <td>1</td>\n",
       "      <td>...</td>\n",
       "      <td>NaN</td>\n",
       "      <td>1.0</td>\n",
       "      <td>1</td>\n",
       "      <td>240</td>\n",
       "      <td>I</td>\n",
       "      <td>36</td>\n",
       "      <td>M</td>\n",
       "      <td>W</td>\n",
       "      <td>N</td>\n",
       "      <td>2.0</td>\n",
       "    </tr>\n",
       "  </tbody>\n",
       "</table>\n",
       "<p>5 rows × 23 columns</p>\n",
       "</div>"
      ],
      "text/plain": [
       "         state     agency   case_number          UCR_code attempt_or_complete  \\\n",
       "869192       6  CT0004400  830BRV5RSD N             Arson                   C   \n",
       "5730262     41  TN0190100  3A1N1-KU7F7I             Drugs                   C   \n",
       "7997383     46  WA0320000  3A1N1-FP-G5X             Theft                   C   \n",
       "7831761     46  WA0270000  830GKVSMVF N  Weapon_Violation                   C   \n",
       "3506883     33  ND0080100  0A1I0UO2JN1A             Drugs                   C   \n",
       "\n",
       "        DAC_1  location_type weapon_type_1  bias_1  perp_seq_num  ...  \\\n",
       "869192      N             20           NaN      88             1  ...   \n",
       "5730262     N             20           NaN      88             1  ...   \n",
       "7997383     N              3           NaN      88             1  ...   \n",
       "7831761     N             22            11      88             2  ...   \n",
       "3506883     N             13           NaN      88             1  ...   \n",
       "\n",
       "         perp_ethn num_ori_matches_x victim_seq_num ucr_1  vic_type  vic_age  \\\n",
       "869192         NaN               1.0              3   200         I       37   \n",
       "5730262          N               1.0              1   35B         S      NaN   \n",
       "7997383        NaN               1.0              1   23H         I       32   \n",
       "7831761        NaN               NaN              1   220         B      NaN   \n",
       "3506883        NaN               1.0              1   240         I       36   \n",
       "\n",
       "        vic_sex vic_race vic_ethn num_ori_matches_y  \n",
       "869192        F        W        N               NaN  \n",
       "5730262     NaN      NaN      NaN               1.0  \n",
       "7997383       F        W      NaN               2.0  \n",
       "7831761     NaN      NaN      NaN               2.0  \n",
       "3506883       M        W        N               2.0  \n",
       "\n",
       "[5 rows x 23 columns]"
      ]
     },
     "execution_count": 17,
     "metadata": {},
     "output_type": "execute_result"
    }
   ],
   "source": [
    "df.head()"
   ]
  },
  {
   "cell_type": "code",
   "execution_count": 18,
   "metadata": {},
   "outputs": [],
   "source": [
    "df.to_csv('josh_translated.csv') # saving progress is good"
   ]
  },
  {
   "cell_type": "code",
   "execution_count": 109,
   "metadata": {},
   "outputs": [],
   "source": [
    "df = josh"
   ]
  },
  {
   "cell_type": "code",
   "execution_count": 110,
   "metadata": {},
   "outputs": [],
   "source": [
    "target = df['UCR_code']"
   ]
  },
  {
   "cell_type": "code",
   "execution_count": 20,
   "metadata": {},
   "outputs": [],
   "source": [
    "with_tar = df\n",
    "df = df.drop('UCR_code',axis=1)"
   ]
  },
  {
   "cell_type": "code",
   "execution_count": 32,
   "metadata": {},
   "outputs": [
    {
     "data": {
      "text/plain": [
       "869192                Arson\n",
       "5730262               Drugs\n",
       "7997383               Theft\n",
       "7831761    Weapon_Violation\n",
       "3506883               Drugs\n",
       "                 ...       \n",
       "64992                 Theft\n",
       "4927026               Theft\n",
       "4630907             Assault\n",
       "912598              Assault\n",
       "4498772             Assault\n",
       "Name: UCR_code, Length: 5000, dtype: object"
      ]
     },
     "execution_count": 32,
     "metadata": {},
     "output_type": "execute_result"
    }
   ],
   "source": [
    "target.astype(str)"
   ]
  },
  {
   "cell_type": "code",
   "execution_count": 79,
   "metadata": {},
   "outputs": [],
   "source": [
    "# from matplotlib import pyplot as plt\n",
    "# import seaborn as sns\n",
    "\n",
    "# fig, ax = plt.subplots(figsize=(20,12))\n",
    "# sns.distplot(target)\n",
    "\n",
    "\n",
    "# # target.hist()"
   ]
  },
  {
   "cell_type": "code",
   "execution_count": null,
   "metadata": {},
   "outputs": [],
   "source": [
    "# samp = df.sample(1000, random_state = 1)\n",
    "# tar = samp['UCR_code']\n",
    "# tar.hist()"
   ]
  },
  {
   "cell_type": "code",
   "execution_count": null,
   "metadata": {},
   "outputs": [],
   "source": [
    "# target.hist() \n",
    "# okay, hist is taking a while, we'll just run some stuff\n",
    "# and when our R is bad we'll realize the data isn't normal at all and we should have ran the hist"
   ]
  },
  {
   "cell_type": "markdown",
   "metadata": {},
   "source": [
    "## wait, my data isn't dummies yet\n",
    "### that's going to take a looooong time to run. maybe kill my kernel.\n",
    "- i'll test it tonight. maybe want to subsample down to n=5000 or so to make sure it works.\n",
    "    - i don't like cutting data, but it'll be easy to plug it back in when it's done\n"
   ]
  },
  {
   "cell_type": "code",
   "execution_count": 48,
   "metadata": {},
   "outputs": [],
   "source": [
    "df = pd.read_csv('josh_translated.csv')"
   ]
  },
  {
   "cell_type": "code",
   "execution_count": null,
   "metadata": {},
   "outputs": [],
   "source": [
    "len()"
   ]
  },
  {
   "cell_type": "code",
   "execution_count": null,
   "metadata": {},
   "outputs": [],
   "source": []
  },
  {
   "cell_type": "code",
   "execution_count": 96,
   "metadata": {},
   "outputs": [],
   "source": [
    "josh = pd.get_dummies(josh)"
   ]
  },
  {
   "cell_type": "code",
   "execution_count": 97,
   "metadata": {},
   "outputs": [
    {
     "data": {
      "text/plain": [
       "Index(['state', 'location_type', 'bias_1', 'perp_seq_num', 'perp_age',\n",
       "       'num_ori_matches_x', 'victim_seq_num', 'num_ori_matches_y',\n",
       "       'agency_AR0010000', 'agency_AR0010100',\n",
       "       ...\n",
       "       'vic_sex_U', 'vic_race_A', 'vic_race_B', 'vic_race_I', 'vic_race_P',\n",
       "       'vic_race_U', 'vic_race_W', 'vic_ethn_H', 'vic_ethn_N', 'vic_ethn_U'],\n",
       "      dtype='object', length=6176)"
      ]
     },
     "execution_count": 97,
     "metadata": {},
     "output_type": "execute_result"
    }
   ],
   "source": [
    "josh.columns"
   ]
  },
  {
   "cell_type": "code",
   "execution_count": 89,
   "metadata": {},
   "outputs": [
    {
     "data": {
      "text/plain": [
       "3"
      ]
     },
     "execution_count": 89,
     "metadata": {},
     "output_type": "execute_result"
    }
   ],
   "source": [
    "josh.isna().any().sum()"
   ]
  },
  {
   "cell_type": "code",
   "execution_count": 39,
   "metadata": {},
   "outputs": [],
   "source": []
  },
  {
   "cell_type": "code",
   "execution_count": 98,
   "metadata": {},
   "outputs": [],
   "source": [
    "df = josh"
   ]
  },
  {
   "cell_type": "code",
   "execution_count": null,
   "metadata": {},
   "outputs": [],
   "source": []
  },
  {
   "cell_type": "code",
   "execution_count": null,
   "metadata": {},
   "outputs": [],
   "source": []
  },
  {
   "cell_type": "code",
   "execution_count": 64,
   "metadata": {},
   "outputs": [],
   "source": [
    "X_train, X_test, y_train, y_test = train_test_split(df, target, test_size = 0.25)"
   ]
  },
  {
   "cell_type": "code",
   "execution_count": 65,
   "metadata": {},
   "outputs": [],
   "source": [
    "# create classifiers\n",
    "adaboost_clf = AdaBoostClassifier()\n",
    "gbt_clf = GradientBoostingClassifier()"
   ]
  },
  {
   "cell_type": "code",
   "execution_count": 66,
   "metadata": {},
   "outputs": [
    {
     "data": {
      "text/plain": [
       "GradientBoostingClassifier(criterion='friedman_mse', init=None,\n",
       "                           learning_rate=0.1, loss='deviance', max_depth=3,\n",
       "                           max_features=None, max_leaf_nodes=None,\n",
       "                           min_impurity_decrease=0.0, min_impurity_split=None,\n",
       "                           min_samples_leaf=1, min_samples_split=2,\n",
       "                           min_weight_fraction_leaf=0.0, n_estimators=100,\n",
       "                           n_iter_no_change=None, presort='auto',\n",
       "                           random_state=None, subsample=1.0, tol=0.0001,\n",
       "                           validation_fraction=0.1, verbose=0,\n",
       "                           warm_start=False)"
      ]
     },
     "execution_count": 66,
     "metadata": {},
     "output_type": "execute_result"
    }
   ],
   "source": [
    "# training time\n",
    "adaboost_clf.fit(X_train, y_train)\n",
    "\n",
    "AdaBoostClassifier(algorithm='SAMME.R', base_estimator=None,\n",
    "          learning_rate=1.0, n_estimators=50, random_state=None)\n",
    "\n",
    "gbt_clf.fit(X_train, y_train)\n",
    "\n",
    "GradientBoostingClassifier(criterion='friedman_mse', init=None,\n",
    "              learning_rate=0.1, loss='deviance', max_depth=3,\n",
    "              max_features=None, max_leaf_nodes=None,\n",
    "              min_impurity_decrease=0.0, min_impurity_split=None,\n",
    "              min_samples_leaf=1, min_samples_split=2,\n",
    "              min_weight_fraction_leaf=0.0, n_estimators=100,\n",
    "              n_iter_no_change=None, presort='auto', random_state=None,\n",
    "              subsample=1.0, tol=0.0001, validation_fraction=0.1,\n",
    "              verbose=0, warm_start=False)"
   ]
  },
  {
   "cell_type": "code",
   "execution_count": 67,
   "metadata": {},
   "outputs": [],
   "source": [
    "adaboost_train_preds = adaboost_clf.predict(X_train)\n",
    "adaboost_test_preds = adaboost_clf.predict(X_test)\n",
    "gbt_clf_train_preds = gbt_clf.predict(X_train)\n",
    "gbt_clf_test_preds = gbt_clf.predict(X_test)"
   ]
  },
  {
   "cell_type": "code",
   "execution_count": 69,
   "metadata": {},
   "outputs": [
    {
     "name": "stdout",
     "output_type": "stream",
     "text": [
      "Training Metrics\n",
      "Model: AdaBoost\n",
      "Accuracy: 0.4026666666666667\n",
      "F1-Score: 0.4026666666666667\n",
      "\n",
      "Model: Gradient Boosted Trees\n",
      "Accuracy: 0.4776\n",
      "F1-Score: 0.4776\n",
      "\n",
      "Testing Metrics\n",
      "Model: AdaBoost\n",
      "Accuracy: 0.4072\n",
      "F1-Score: 0.4072\n",
      "\n",
      "Model: Gradient Boosted Trees\n",
      "Accuracy: 0.4024\n",
      "F1-Score: 0.4024\n"
     ]
    }
   ],
   "source": [
    "def display_acc_and_f1_score(true, preds, model_name):\n",
    "    acc = accuracy_score(true, preds)\n",
    "    f1 = f1_score(true, preds, average='micro')\n",
    "    print(\"Model: {}\".format(model_name))\n",
    "    print(\"Accuracy: {}\".format(acc))\n",
    "    print(\"F1-Score: {}\".format(f1))\n",
    "    \n",
    "print(\"Training Metrics\")\n",
    "display_acc_and_f1_score(y_train, adaboost_train_preds, model_name='AdaBoost')\n",
    "print(\"\")\n",
    "display_acc_and_f1_score(y_train, gbt_clf_train_preds, model_name='Gradient Boosted Trees')\n",
    "print(\"\")\n",
    "print(\"Testing Metrics\")\n",
    "display_acc_and_f1_score(y_test, adaboost_test_preds, model_name='AdaBoost')\n",
    "print(\"\")\n",
    "display_acc_and_f1_score(y_test, gbt_clf_test_preds, model_name='Gradient Boosted Trees')"
   ]
  },
  {
   "cell_type": "markdown",
   "metadata": {},
   "source": [
    "confusion matrix"
   ]
  },
  {
   "cell_type": "code",
   "execution_count": 195,
   "metadata": {},
   "outputs": [],
   "source": [
    "from sklearn import metrics"
   ]
  },
  {
   "cell_type": "code",
   "execution_count": 205,
   "metadata": {},
   "outputs": [],
   "source": [
    "y_pred_class = "
   ]
  },
  {
   "cell_type": "code",
   "execution_count": 197,
   "metadata": {},
   "outputs": [
    {
     "name": "stdout",
     "output_type": "stream",
     "text": [
      "[[  0   0   0   0   0   0   0   0   0   0   0   5   0]\n",
      " [  0   0   0   0   0   0   0   0   0   0   0 150   0]\n",
      " [  0   0   0   0   0   0   0   0   0   0   0   2   0]\n",
      " [  0   0   0   0   0   0   0   0   0   0   0   7   0]\n",
      " [  0   0   0   0   0   0   0   0   0   0   0   3   0]\n",
      " [  0   0   0   0   0   0   0   0   0   0   0 257   0]\n",
      " [  0   0   0   0   0   0   0   0   0   0   0 179   0]\n",
      " [  0   0   0   0   0   0   0   0   0   0   0  86   0]\n",
      " [  0   0   0   0   0   0   0   0   0   0   0   1   0]\n",
      " [  0   0   0   0   0   0   0   0   0   0   0   4   0]\n",
      " [  0   0   0   0   0   0   0   0   0   0   0  14   0]\n",
      " [  0   0   0   0   0   3   0   0   0   0   0 509   0]\n",
      " [  0   0   0   0   0   0   0   0   0   0   0  30   0]]\n"
     ]
    }
   ],
   "source": [
    "# IMPORTANT: first argument is true values, second argument is predicted values\n",
    "print(metrics.confusion_matrix(y_test, y_pred_class))"
   ]
  },
  {
   "cell_type": "code",
   "execution_count": 203,
   "metadata": {},
   "outputs": [],
   "source": [
    "types_of_crime = list(bins.keys())"
   ]
  },
  {
   "cell_type": "code",
   "execution_count": 223,
   "metadata": {},
   "outputs": [
    {
     "data": {
      "text/plain": [
       "Assault                     4208\n",
       "Sex_Offense                  357\n",
       "Theft                        254\n",
       "Weapon_Violation              92\n",
       "Abduction                     59\n",
       "Murder                        17\n",
       "Financial_Fraud_Gambling       9\n",
       "Negligent_Manslaughter         2\n",
       "Justifiable_Homicide           1\n",
       "64A                            1\n",
       "Name: UCR_code, dtype: int64"
      ]
     },
     "execution_count": 223,
     "metadata": {},
     "output_type": "execute_result"
    }
   ],
   "source": [
    "df['UCR_code'].value_counts()"
   ]
  },
  {
   "cell_type": "code",
   "execution_count": null,
   "metadata": {},
   "outputs": [],
   "source": [
    "'''\n",
    "more data\n",
    "smote\n",
    "XGboost\n",
    "gridsearch\n",
    "?\n",
    "evaluation_metrics\n",
    "accuracy might not be the best\n",
    "all values being '''"
   ]
  },
  {
   "cell_type": "code",
   "execution_count": 206,
   "metadata": {},
   "outputs": [],
   "source": [
    "from sklearn.metrics import confusion_matrix\n",
    "cm = confusion_matrix(y_test,y_pred_class)\n",
    "classes = types_of_crime"
   ]
  },
  {
   "cell_type": "code",
   "execution_count": 222,
   "metadata": {},
   "outputs": [
    {
     "name": "stdout",
     "output_type": "stream",
     "text": [
      "Confusion Matrix, without normalization\n",
      "[[  0   0   0   0   0   0   0   0   0   0   0   5   0]\n",
      " [  0   0   0   0   0   0   0   0   0   0   0 150   0]\n",
      " [  0   0   0   0   0   0   0   0   0   0   0   2   0]\n",
      " [  0   0   0   0   0   0   0   0   0   0   0   7   0]\n",
      " [  0   0   0   0   0   0   0   0   0   0   0   3   0]\n",
      " [  0   0   0   0   0   0   0   0   0   0   0 257   0]\n",
      " [  0   0   0   0   0   0   0   0   0   0   0 179   0]\n",
      " [  0   0   0   0   0   0   0   0   0   0   0  86   0]\n",
      " [  0   0   0   0   0   0   0   0   0   0   0   1   0]\n",
      " [  0   0   0   0   0   0   0   0   0   0   0   4   0]\n",
      " [  0   0   0   0   0   0   0   0   0   0   0  14   0]\n",
      " [  0   0   0   0   0   3   0   0   0   0   0 509   0]\n",
      " [  0   0   0   0   0   0   0   0   0   0   0  30   0]]\n"
     ]
    },
    {
     "data": {
      "image/png": "[encoded data removed]",
      "text/plain": [
       "<Figure size 1440x864 with 2 Axes>"
      ]
     },
     "metadata": {
      "needs_background": "light"
     },
     "output_type": "display_data"
    }
   ],
   "source": [
    "def plot_confusion_matrix(cm, classes,\n",
    "                          normalize=False,\n",
    "                          title='Confusion matrix',\n",
    "                          cmap=plt.cm.Blues):\n",
    "    \"\"\"\n",
    "    This function prints and plots the confusion matrix.\n",
    "    Normalization can be applied by setting `normalize=True`.\n",
    "    \"\"\"\n",
    "    if normalize:\n",
    "        cm = cm.astype('float') / cm.sum(axis=1)[:, np.newaxis]\n",
    "        print(\"Normalized confusion matrix\")\n",
    "    else:\n",
    "        print('Confusion Matrix, without normalization')\n",
    "\n",
    "    print(cm)\n",
    "\n",
    "    \n",
    "    \n",
    "#     Calculate chart area size\n",
    "    leftmargin = 0.1 # inches\n",
    "    rightmargin = 0.1 # inches\n",
    "    categorysize = 0.1 # inches\n",
    "    figwidth = leftmargin + rightmargin + (len(classes) * categorysize)           \n",
    "\n",
    "    f = plt.figure(figsize=(20,12))\n",
    "\n",
    "    # Create an axes instance and ajust the subplot size\n",
    "    ax = f.add_subplot(111)\n",
    "    ax.set_aspect(1)\n",
    "    f.subplots_adjust(left=leftmargin/figwidth, right=1-rightmargin/figwidth, top=0.94, bottom=0.9)\n",
    "\n",
    "    res = ax.imshow(cm, interpolation='nearest', cmap=cmap)\n",
    "    \n",
    "    \n",
    "    \n",
    "    \n",
    "    \n",
    "    plt.imshow(cm, interpolation='nearest', cmap=cmap)\n",
    "    plt.title(title)\n",
    "    plt.colorbar()\n",
    "    tick_marks = np.arange(len(classes))\n",
    "    plt.xticks(tick_marks, classes, rotation=75)\n",
    "    plt.yticks(tick_marks, classes)\n",
    "\n",
    "    fmt = '.2f' if normalize else 'd'\n",
    "    thresh = cm.max() / 2.\n",
    "    for i, j in itertools.product(range(cm.shape[0]), range(cm.shape[1])):\n",
    "        plt.text(j, i, format(cm[i, j], fmt),\n",
    "                 horizontalalignment=\"center\",\n",
    "                 color=\"white\" if cm[i, j] > thresh else \"black\")\n",
    "\n",
    "    plt.tight_layout()\n",
    "    plt.ylabel('True label')\n",
    "    plt.xlabel('Predicted label')\n",
    "    \n",
    "import itertools\n",
    "plot_confusion_matrix(cm, classes,\n",
    "                          normalize=False,\n",
    "                          title='Confusion matrix',\n",
    "                          cmap=plt.cm.Blues)"
   ]
  },
  {
   "cell_type": "code",
   "execution_count": null,
   "metadata": {},
   "outputs": [],
   "source": []
  },
  {
   "cell_type": "code",
   "execution_count": null,
   "metadata": {},
   "outputs": [],
   "source": []
  },
  {
   "cell_type": "code",
   "execution_count": null,
   "metadata": {},
   "outputs": [],
   "source": []
  },
  {
   "cell_type": "code",
   "execution_count": null,
   "metadata": {},
   "outputs": [],
   "source": []
  },
  {
   "cell_type": "code",
   "execution_count": 219,
   "metadata": {},
   "outputs": [
    {
     "name": "stdout",
     "output_type": "stream",
     "text": [
      "Confusion Matrix, without normalization\n",
      "[[  0   0   0   0   0   0   0   0   0   0   0   5   0]\n",
      " [  0   0   0   0   0   0   0   0   0   0   0 150   0]\n",
      " [  0   0   0   0   0   0   0   0   0   0   0   2   0]\n",
      " [  0   0   0   0   0   0   0   0   0   0   0   7   0]\n",
      " [  0   0   0   0   0   0   0   0   0   0   0   3   0]\n",
      " [  0   0   0   0   0   0   0   0   0   0   0 257   0]\n",
      " [  0   0   0   0   0   0   0   0   0   0   0 179   0]\n",
      " [  0   0   0   0   0   0   0   0   0   0   0  86   0]\n",
      " [  0   0   0   0   0   0   0   0   0   0   0   1   0]\n",
      " [  0   0   0   0   0   0   0   0   0   0   0   4   0]\n",
      " [  0   0   0   0   0   0   0   0   0   0   0  14   0]\n",
      " [  0   0   0   0   0   3   0   0   0   0   0 509   0]\n",
      " [  0   0   0   0   0   0   0   0   0   0   0  30   0]]\n"
     ]
    },
    {
     "data": {
      "image/png": "[encoded data removed]",
      "text/plain": [
       "<Figure size 1440x864 with 2 Axes>"
      ]
     },
     "metadata": {
      "needs_background": "light"
     },
     "output_type": "display_data"
    }
   ],
   "source": []
  },
  {
   "cell_type": "code",
   "execution_count": null,
   "metadata": {},
   "outputs": [],
   "source": []
  },
  {
   "cell_type": "code",
   "execution_count": null,
   "metadata": {},
   "outputs": [],
   "source": []
  },
  {
   "cell_type": "code",
   "execution_count": null,
   "metadata": {},
   "outputs": [],
   "source": []
  },
  {
   "cell_type": "code",
   "execution_count": 202,
   "metadata": {},
   "outputs": [
    {
     "data": {
      "text/plain": [
       "['Assault',\n",
       " 'Sex_Offense',\n",
       " 'Financial_Fraud_Gambling',\n",
       " 'Theft',\n",
       " 'Arson',\n",
       " 'Drugs',\n",
       " 'Murder',\n",
       " 'Negligent_Manslaughter',\n",
       " 'Justifiable_Homicide',\n",
       " 'Abduction',\n",
       " 'Obscene_Prostitution',\n",
       " 'Weapon_Violation']"
      ]
     },
     "execution_count": 202,
     "metadata": {},
     "output_type": "execute_result"
    }
   ],
   "source": [
    "bins_list"
   ]
  },
  {
   "cell_type": "code",
   "execution_count": 198,
   "metadata": {},
   "outputs": [
    {
     "data": {
      "text/plain": [
       "{'Assault': ['13A', '13B', '13C'],\n",
       " 'Sex_Offense': ['11A', '11B', '11C', '11D', '36A', '36B'],\n",
       " 'Financial_Fraud_Gambling': ['510',\n",
       "  '250',\n",
       "  '270',\n",
       "  '210',\n",
       "  '26A',\n",
       "  '26B',\n",
       "  '26C',\n",
       "  '26D',\n",
       "  '26E',\n",
       "  '39A',\n",
       "  '39B',\n",
       "  '39C',\n",
       "  '39D'],\n",
       " 'Theft': ['220',\n",
       "  '23A',\n",
       "  '23B',\n",
       "  '23C',\n",
       "  '23D',\n",
       "  '23E',\n",
       "  '23F',\n",
       "  '23G',\n",
       "  '23H',\n",
       "  '240',\n",
       "  '120',\n",
       "  '280'],\n",
       " 'Arson': ['200'],\n",
       " 'Drugs': ['35A', '35B'],\n",
       " 'Murder': ['09A'],\n",
       " 'Negligent_Manslaughter': ['09B'],\n",
       " 'Justifiable_Homicide': ['09C'],\n",
       " 'Abduction': ['100'],\n",
       " 'Obscene_Prostitution': ['370', '40A', '40B', '40C'],\n",
       " 'Weapon_Violation': ['520']}"
      ]
     },
     "execution_count": 198,
     "metadata": {},
     "output_type": "execute_result"
    }
   ],
   "source": [
    "bins"
   ]
  },
  {
   "cell_type": "code",
   "execution_count": null,
   "metadata": {},
   "outputs": [],
   "source": []
  },
  {
   "cell_type": "code",
   "execution_count": null,
   "metadata": {},
   "outputs": [],
   "source": []
  },
  {
   "cell_type": "code",
   "execution_count": null,
   "metadata": {},
   "outputs": [],
   "source": []
  },
  {
   "cell_type": "code",
   "execution_count": null,
   "metadata": {},
   "outputs": [],
   "source": []
  },
  {
   "cell_type": "code",
   "execution_count": null,
   "metadata": {},
   "outputs": [],
   "source": []
  },
  {
   "cell_type": "code",
   "execution_count": null,
   "metadata": {},
   "outputs": [],
   "source": []
  },
  {
   "cell_type": "code",
   "execution_count": 71,
   "metadata": {},
   "outputs": [
    {
     "name": "stdout",
     "output_type": "stream",
     "text": [
      "12 6176\n"
     ]
    }
   ],
   "source": [
    "print(len(bins), len(df.columns))"
   ]
  },
  {
   "cell_type": "code",
   "execution_count": 193,
   "metadata": {},
   "outputs": [
    {
     "data": {
      "text/plain": [
       "0"
      ]
     },
     "execution_count": 193,
     "metadata": {},
     "output_type": "execute_result"
    }
   ],
   "source": [
    "df.isna().any().sum()"
   ]
  },
  {
   "cell_type": "code",
   "execution_count": 194,
   "metadata": {},
   "outputs": [],
   "source": [
    "df.to_csv('5k_clean.csv')"
   ]
  },
  {
   "cell_type": "markdown",
   "metadata": {},
   "source": [
    "## initial scores around .4\n",
    "## we do .07 worse on the test than the train\n",
    "\n",
    "that's not... terrible, considering we have 12 classifiers. Guessing the right one 40% of the time ain't bad.\n",
    "\n",
    "Can we do better? of course, we only used 5k data points out of 364k (whilst dropping many rows to include less commonly recorded vars; perp_race was only recorded ~2/3 of the time)\n",
    "\n",
    "also, we didn't normalize our data at all. though this is less of a consideration because our data is nearly all categorical.\n",
    "\n",
    "\n",
    "## now it's time for actual EDA\n",
    "\n",
    "let's try some PCA with on the 5000 sample set. might take a while with all our dummies"
   ]
  },
  {
   "cell_type": "code",
   "execution_count": 100,
   "metadata": {},
   "outputs": [
    {
     "data": {
      "text/plain": [
       "Index(['state', 'location_type', 'bias_1', 'perp_seq_num', 'perp_age',\n",
       "       'num_ori_matches_x', 'victim_seq_num', 'num_ori_matches_y',\n",
       "       'agency_AR0010000', 'agency_AR0010100',\n",
       "       ...\n",
       "       'vic_sex_U', 'vic_race_A', 'vic_race_B', 'vic_race_I', 'vic_race_P',\n",
       "       'vic_race_U', 'vic_race_W', 'vic_ethn_H', 'vic_ethn_N', 'vic_ethn_U'],\n",
       "      dtype='object', length=6176)"
      ]
     },
     "execution_count": 100,
     "metadata": {},
     "output_type": "execute_result"
    }
   ],
   "source": [
    "josh.columns"
   ]
  },
  {
   "cell_type": "code",
   "execution_count": 186,
   "metadata": {},
   "outputs": [
    {
     "data": {
      "text/plain": [
       "True"
      ]
     },
     "execution_count": 186,
     "metadata": {},
     "output_type": "execute_result"
    }
   ],
   "source": [
    "'UCR_code' in list(df.columns)"
   ]
  },
  {
   "cell_type": "code",
   "execution_count": 180,
   "metadata": {},
   "outputs": [],
   "source": [
    "df2 = df"
   ]
  },
  {
   "cell_type": "code",
   "execution_count": null,
   "metadata": {},
   "outputs": [],
   "source": []
  },
  {
   "cell_type": "code",
   "execution_count": 124,
   "metadata": {},
   "outputs": [],
   "source": []
  },
  {
   "cell_type": "code",
   "execution_count": 181,
   "metadata": {},
   "outputs": [
    {
     "data": {
      "text/plain": [
       "Index(['state', 'location_type', 'bias_1', 'perp_seq_num', 'perp_age',\n",
       "       'num_ori_matches_x', 'victim_seq_num', 'num_ori_matches_y',\n",
       "       'agency_AR0010000', 'agency_AR0010100',\n",
       "       ...\n",
       "       'vic_sex_U', 'vic_race_A', 'vic_race_B', 'vic_race_I', 'vic_race_P',\n",
       "       'vic_race_U', 'vic_race_W', 'vic_ethn_H', 'vic_ethn_N', 'vic_ethn_U'],\n",
       "      dtype='object', length=6176)"
      ]
     },
     "execution_count": 181,
     "metadata": {},
     "output_type": "execute_result"
    }
   ],
   "source": [
    "d.columns"
   ]
  },
  {
   "cell_type": "code",
   "execution_count": 187,
   "metadata": {},
   "outputs": [],
   "source": [
    "d = pd.get_dummies(df)"
   ]
  },
  {
   "cell_type": "code",
   "execution_count": 188,
   "metadata": {},
   "outputs": [
    {
     "data": {
      "text/plain": [
       "False"
      ]
     },
     "execution_count": 188,
     "metadata": {},
     "output_type": "execute_result"
    }
   ],
   "source": [
    "'UCR_code' in list(d.columns)"
   ]
  },
  {
   "cell_type": "code",
   "execution_count": 183,
   "metadata": {},
   "outputs": [
    {
     "data": {
      "text/plain": [
       "Index(['state', 'location_type', 'bias_1', 'perp_seq_num', 'perp_age',\n",
       "       'num_ori_matches_x', 'victim_seq_num', 'num_ori_matches_y',\n",
       "       'agency_AR0010000', 'agency_AR0010100',\n",
       "       ...\n",
       "       'vic_sex_U', 'vic_race_A', 'vic_race_B', 'vic_race_I', 'vic_race_P',\n",
       "       'vic_race_U', 'vic_race_W', 'vic_ethn_H', 'vic_ethn_N', 'vic_ethn_U'],\n",
       "      dtype='object', length=6176)"
      ]
     },
     "execution_count": 183,
     "metadata": {},
     "output_type": "execute_result"
    }
   ],
   "source": [
    "d.columns"
   ]
  },
  {
   "cell_type": "code",
   "execution_count": 189,
   "metadata": {},
   "outputs": [
    {
     "data": {
      "text/plain": [
       "6176"
      ]
     },
     "execution_count": 189,
     "metadata": {},
     "output_type": "execute_result"
    }
   ],
   "source": [
    "features = list(d.columns)\n",
    "len(features)"
   ]
  },
  {
   "cell_type": "code",
   "execution_count": 190,
   "metadata": {},
   "outputs": [
    {
     "name": "stdout",
     "output_type": "stream",
     "text": [
      "UCR_code_64A\n",
      "UCR_code_Abduction\n",
      "UCR_code_Assault\n",
      "UCR_code_Financial_Fraud_Gambling\n",
      "UCR_code_Justifiable_Homicide\n",
      "UCR_code_Murder\n",
      "UCR_code_Negligent_Manslaughter\n",
      "UCR_code_Sex_Offense\n",
      "UCR_code_Theft\n",
      "UCR_code_Weapon_Violation\n"
     ]
    }
   ],
   "source": [
    "for st in features:\n",
    "    if st[0]=='U':\n",
    "        print(st)"
   ]
  },
  {
   "cell_type": "code",
   "execution_count": 133,
   "metadata": {},
   "outputs": [
    {
     "ename": "ValueError",
     "evalue": "list.remove(x): x not in list",
     "output_type": "error",
     "traceback": [
      "\u001b[0;31m---------------------------------------------------------------------------\u001b[0m",
      "\u001b[0;31mValueError\u001b[0m                                Traceback (most recent call last)",
      "\u001b[0;32m<ipython-input-133-d5f0270e64a6>\u001b[0m in \u001b[0;36m<module>\u001b[0;34m\u001b[0m\n\u001b[0;32m----> 1\u001b[0;31m \u001b[0mfeatures\u001b[0m\u001b[0;34m.\u001b[0m\u001b[0mremove\u001b[0m\u001b[0;34m(\u001b[0m\u001b[0;34m'UCR_code'\u001b[0m\u001b[0;34m)\u001b[0m\u001b[0;34m\u001b[0m\u001b[0;34m\u001b[0m\u001b[0m\n\u001b[0m\u001b[1;32m      2\u001b[0m \u001b[0mlen\u001b[0m\u001b[0;34m(\u001b[0m\u001b[0mfeatures\u001b[0m\u001b[0;34m)\u001b[0m\u001b[0;34m\u001b[0m\u001b[0;34m\u001b[0m\u001b[0m\n",
      "\u001b[0;31mValueError\u001b[0m: list.remove(x): x not in list"
     ]
    }
   ],
   "source": [
    "features.remove('UCR_code')\n",
    "len(features)"
   ]
  },
  {
   "cell_type": "code",
   "execution_count": 80,
   "metadata": {},
   "outputs": [],
   "source": [
    "storage = df"
   ]
  },
  {
   "cell_type": "code",
   "execution_count": 135,
   "metadata": {},
   "outputs": [
    {
     "data": {
      "text/plain": [
       "Index(['state', 'agency', 'case_number', 'UCR_code', 'attempt_or_complete',\n",
       "       'DAC_1', 'location_type', 'weapon_type_1', 'bias_1', 'perp_seq_num',\n",
       "       'perp_age', 'perp_sex', 'perp_race', 'perp_ethn', 'num_ori_matches_x',\n",
       "       'victim_seq_num', 'ucr_1', 'vic_type', 'vic_age', 'vic_sex', 'vic_race',\n",
       "       'vic_ethn', 'num_ori_matches_y'],\n",
       "      dtype='object')"
      ]
     },
     "execution_count": 135,
     "metadata": {},
     "output_type": "execute_result"
    }
   ],
   "source": [
    "df2.columns"
   ]
  },
  {
   "cell_type": "code",
   "execution_count": 136,
   "metadata": {},
   "outputs": [],
   "source": [
    "full = df2"
   ]
  },
  {
   "cell_type": "code",
   "execution_count": 138,
   "metadata": {},
   "outputs": [],
   "source": [
    "target = full['UCR_code'] # store Y series\n",
    "\n",
    "\n",
    "no_y = full.drop('UCR_code',axis=1) # exclude Y in dummy generation\n",
    "dums = pd.get_dummies(full) # get dummies\n"
   ]
  },
  {
   "cell_type": "code",
   "execution_count": 139,
   "metadata": {},
   "outputs": [],
   "source": [
    "# make list of X features including dummies\n",
    "features = list(dums.columns)\n"
   ]
  },
  {
   "cell_type": "code",
   "execution_count": 147,
   "metadata": {},
   "outputs": [
    {
     "data": {
      "text/plain": [
       "Index([              'state',              'agency',         'case_number',\n",
       "                  'UCR_code', 'attempt_or_complete',               'DAC_1',\n",
       "             'location_type',       'weapon_type_1',              'bias_1',\n",
       "              'perp_seq_num',\n",
       "       ...\n",
       "                     8356361,               8357204,               8358027,\n",
       "                     8358065,               8358186,               8359566,\n",
       "                     8360951,               8361901,               8362401,\n",
       "                     8390909],\n",
       "      dtype='object', length=5023)"
      ]
     },
     "execution_count": 147,
     "metadata": {},
     "output_type": "execute_result"
    }
   ],
   "source": [
    "g = df.append(target,ignore_index=True)\n",
    "# df = pd.concat([df, s.to_frame().T])\n",
    "g.columns"
   ]
  },
  {
   "cell_type": "code",
   "execution_count": 146,
   "metadata": {},
   "outputs": [
    {
     "data": {
      "text/plain": [
       "0"
      ]
     },
     "execution_count": 146,
     "metadata": {},
     "output_type": "execute_result"
    }
   ],
   "source": [
    "df.isna().any().sum()"
   ]
  },
  {
   "cell_type": "code",
   "execution_count": 148,
   "metadata": {},
   "outputs": [
    {
     "data": {
      "text/plain": [
       "5023"
      ]
     },
     "execution_count": 148,
     "metadata": {},
     "output_type": "execute_result"
    }
   ],
   "source": [
    "g.isna().any().sum()"
   ]
  },
  {
   "cell_type": "code",
   "execution_count": 151,
   "metadata": {},
   "outputs": [
    {
     "data": {
      "text/plain": [
       "1"
      ]
     },
     "execution_count": 151,
     "metadata": {},
     "output_type": "execute_result"
    }
   ],
   "source": [
    "g['UCR_code'].isna().sum()"
   ]
  },
  {
   "cell_type": "markdown",
   "metadata": {},
   "source": [
    "#### trouble removing and re-appending Y column. let's just generate dummies with Y and then exclude Y in features"
   ]
  },
  {
   "cell_type": "code",
   "execution_count": 152,
   "metadata": {},
   "outputs": [],
   "source": [
    "target = full['UCR_code'] # store Y series\n",
    "\n",
    "\n",
    "# no_y = full.drop('UCR_code',axis=1) # exclude Y in dummy generation\n",
    "dums = pd.get_dummies(full) # get dummies\n"
   ]
  },
  {
   "cell_type": "code",
   "execution_count": 162,
   "metadata": {},
   "outputs": [
    {
     "data": {
      "text/plain": [
       "Assault                     4208\n",
       "Sex_Offense                  357\n",
       "Theft                        254\n",
       "Weapon_Violation              92\n",
       "Abduction                     59\n",
       "Murder                        17\n",
       "Financial_Fraud_Gambling       9\n",
       "Negligent_Manslaughter         2\n",
       "Justifiable_Homicide           1\n",
       "64A                            1\n",
       "Name: UCR_code, dtype: int64"
      ]
     },
     "execution_count": 162,
     "metadata": {},
     "output_type": "execute_result"
    }
   ],
   "source": [
    "full['UCR_code'].value_counts()"
   ]
  },
  {
   "cell_type": "code",
   "execution_count": 171,
   "metadata": {},
   "outputs": [],
   "source": [
    "features = list(dums.columns)\n",
    "features = [st for st in features if st[0]!='U'] # take out Y + Y dummies\n"
   ]
  },
  {
   "cell_type": "code",
   "execution_count": null,
   "metadata": {},
   "outputs": [],
   "source": []
  },
  {
   "cell_type": "code",
   "execution_count": 153,
   "metadata": {},
   "outputs": [],
   "source": []
  },
  {
   "cell_type": "code",
   "execution_count": null,
   "metadata": {},
   "outputs": [],
   "source": []
  },
  {
   "cell_type": "code",
   "execution_count": null,
   "metadata": {},
   "outputs": [],
   "source": []
  },
  {
   "cell_type": "code",
   "execution_count": null,
   "metadata": {},
   "outputs": [],
   "source": []
  },
  {
   "cell_type": "code",
   "execution_count": null,
   "metadata": {},
   "outputs": [],
   "source": []
  },
  {
   "cell_type": "code",
   "execution_count": null,
   "metadata": {},
   "outputs": [],
   "source": []
  },
  {
   "cell_type": "code",
   "execution_count": 174,
   "metadata": {},
   "outputs": [
    {
     "name": "stderr",
     "output_type": "stream",
     "text": [
      "/Users/mark/opt/anaconda3/lib/python3.7/site-packages/pandas/core/indexing.py:1418: FutureWarning: \n",
      "Passing list-likes to .loc or [] with any missing label will raise\n",
      "KeyError in the future, you can use .reindex() as an alternative.\n",
      "\n",
      "See the documentation here:\n",
      "https://pandas.pydata.org/pandas-docs/stable/user_guide/indexing.html#deprecate-loc-reindex-listlike\n",
      "  return self._getitem_tuple(key)\n"
     ]
    }
   ],
   "source": [
    "# features = ['cylinders', 'displacement', 'horsepower', 'weight',\n",
    "#        'acceleration']\n",
    "# preprocess the data \n",
    "from sklearn.preprocessing import StandardScaler\n",
    "# Separating out the features\n",
    "x = df.loc[:, features].values\n",
    "# Separating out the target\n",
    "y = df.loc[:,['UCR_code']].values"
   ]
  },
  {
   "cell_type": "code",
   "execution_count": 175,
   "metadata": {},
   "outputs": [
    {
     "name": "stderr",
     "output_type": "stream",
     "text": [
      "/Users/mark/opt/anaconda3/lib/python3.7/site-packages/sklearn/utils/extmath.py:747: RuntimeWarning: invalid value encountered in true_divide\n",
      "  updated_mean = (last_sum + new_sum) / updated_sample_count\n",
      "/Users/mark/opt/anaconda3/lib/python3.7/site-packages/sklearn/utils/extmath.py:688: RuntimeWarning: Degrees of freedom <= 0 for slice.\n",
      "  result = op(x, *args, **kwargs)\n"
     ]
    }
   ],
   "source": [
    "x = StandardScaler().fit_transform(x)"
   ]
  },
  {
   "cell_type": "code",
   "execution_count": null,
   "metadata": {},
   "outputs": [],
   "source": []
  },
  {
   "cell_type": "code",
   "execution_count": 176,
   "metadata": {},
   "outputs": [
    {
     "ename": "ValueError",
     "evalue": "Input contains NaN, infinity or a value too large for dtype('float64').",
     "output_type": "error",
     "traceback": [
      "\u001b[0;31m---------------------------------------------------------------------------\u001b[0m",
      "\u001b[0;31mValueError\u001b[0m                                Traceback (most recent call last)",
      "\u001b[0;32m<ipython-input-176-fcaf416c8970>\u001b[0m in \u001b[0;36m<module>\u001b[0;34m\u001b[0m\n\u001b[1;32m      2\u001b[0m \u001b[0;32mfrom\u001b[0m \u001b[0msklearn\u001b[0m\u001b[0;34m.\u001b[0m\u001b[0mdecomposition\u001b[0m \u001b[0;32mimport\u001b[0m \u001b[0mPCA\u001b[0m\u001b[0;34m\u001b[0m\u001b[0;34m\u001b[0m\u001b[0m\n\u001b[1;32m      3\u001b[0m \u001b[0mpca\u001b[0m \u001b[0;34m=\u001b[0m \u001b[0mPCA\u001b[0m\u001b[0;34m(\u001b[0m\u001b[0;34m)\u001b[0m\u001b[0;34m\u001b[0m\u001b[0;34m\u001b[0m\u001b[0m\n\u001b[0;32m----> 4\u001b[0;31m \u001b[0mprincipalComponents\u001b[0m \u001b[0;34m=\u001b[0m \u001b[0mpca\u001b[0m\u001b[0;34m.\u001b[0m\u001b[0mfit_transform\u001b[0m\u001b[0;34m(\u001b[0m\u001b[0mx\u001b[0m\u001b[0;34m)\u001b[0m\u001b[0;34m\u001b[0m\u001b[0;34m\u001b[0m\u001b[0m\n\u001b[0m\u001b[1;32m      5\u001b[0m principalDf = pd.DataFrame(data = principalComponents, columns = ['principal component 1', 'principal component 2',\n\u001b[1;32m      6\u001b[0m                                                                  \u001b[0;34m'principal component 3'\u001b[0m\u001b[0;34m,\u001b[0m\u001b[0;34m'principal component 4'\u001b[0m\u001b[0;34m,\u001b[0m\u001b[0;34m\u001b[0m\u001b[0;34m\u001b[0m\u001b[0m\n",
      "\u001b[0;32m~/opt/anaconda3/lib/python3.7/site-packages/sklearn/decomposition/pca.py\u001b[0m in \u001b[0;36mfit_transform\u001b[0;34m(self, X, y)\u001b[0m\n\u001b[1;32m    358\u001b[0m \u001b[0;34m\u001b[0m\u001b[0m\n\u001b[1;32m    359\u001b[0m         \"\"\"\n\u001b[0;32m--> 360\u001b[0;31m         \u001b[0mU\u001b[0m\u001b[0;34m,\u001b[0m \u001b[0mS\u001b[0m\u001b[0;34m,\u001b[0m \u001b[0mV\u001b[0m \u001b[0;34m=\u001b[0m \u001b[0mself\u001b[0m\u001b[0;34m.\u001b[0m\u001b[0m_fit\u001b[0m\u001b[0;34m(\u001b[0m\u001b[0mX\u001b[0m\u001b[0;34m)\u001b[0m\u001b[0;34m\u001b[0m\u001b[0;34m\u001b[0m\u001b[0m\n\u001b[0m\u001b[1;32m    361\u001b[0m         \u001b[0mU\u001b[0m \u001b[0;34m=\u001b[0m \u001b[0mU\u001b[0m\u001b[0;34m[\u001b[0m\u001b[0;34m:\u001b[0m\u001b[0;34m,\u001b[0m \u001b[0;34m:\u001b[0m\u001b[0mself\u001b[0m\u001b[0;34m.\u001b[0m\u001b[0mn_components_\u001b[0m\u001b[0;34m]\u001b[0m\u001b[0;34m\u001b[0m\u001b[0;34m\u001b[0m\u001b[0m\n\u001b[1;32m    362\u001b[0m \u001b[0;34m\u001b[0m\u001b[0m\n",
      "\u001b[0;32m~/opt/anaconda3/lib/python3.7/site-packages/sklearn/decomposition/pca.py\u001b[0m in \u001b[0;36m_fit\u001b[0;34m(self, X)\u001b[0m\n\u001b[1;32m    380\u001b[0m \u001b[0;34m\u001b[0m\u001b[0m\n\u001b[1;32m    381\u001b[0m         X = check_array(X, dtype=[np.float64, np.float32], ensure_2d=True,\n\u001b[0;32m--> 382\u001b[0;31m                         copy=self.copy)\n\u001b[0m\u001b[1;32m    383\u001b[0m \u001b[0;34m\u001b[0m\u001b[0m\n\u001b[1;32m    384\u001b[0m         \u001b[0;31m# Handle n_components==None\u001b[0m\u001b[0;34m\u001b[0m\u001b[0;34m\u001b[0m\u001b[0;34m\u001b[0m\u001b[0m\n",
      "\u001b[0;32m~/opt/anaconda3/lib/python3.7/site-packages/sklearn/utils/validation.py\u001b[0m in \u001b[0;36mcheck_array\u001b[0;34m(array, accept_sparse, accept_large_sparse, dtype, order, copy, force_all_finite, ensure_2d, allow_nd, ensure_min_samples, ensure_min_features, warn_on_dtype, estimator)\u001b[0m\n\u001b[1;32m    540\u001b[0m         \u001b[0;32mif\u001b[0m \u001b[0mforce_all_finite\u001b[0m\u001b[0;34m:\u001b[0m\u001b[0;34m\u001b[0m\u001b[0;34m\u001b[0m\u001b[0m\n\u001b[1;32m    541\u001b[0m             _assert_all_finite(array,\n\u001b[0;32m--> 542\u001b[0;31m                                allow_nan=force_all_finite == 'allow-nan')\n\u001b[0m\u001b[1;32m    543\u001b[0m \u001b[0;34m\u001b[0m\u001b[0m\n\u001b[1;32m    544\u001b[0m     \u001b[0;32mif\u001b[0m \u001b[0mensure_min_samples\u001b[0m \u001b[0;34m>\u001b[0m \u001b[0;36m0\u001b[0m\u001b[0;34m:\u001b[0m\u001b[0;34m\u001b[0m\u001b[0;34m\u001b[0m\u001b[0m\n",
      "\u001b[0;32m~/opt/anaconda3/lib/python3.7/site-packages/sklearn/utils/validation.py\u001b[0m in \u001b[0;36m_assert_all_finite\u001b[0;34m(X, allow_nan)\u001b[0m\n\u001b[1;32m     54\u001b[0m                 not allow_nan and not np.isfinite(X).all()):\n\u001b[1;32m     55\u001b[0m             \u001b[0mtype_err\u001b[0m \u001b[0;34m=\u001b[0m \u001b[0;34m'infinity'\u001b[0m \u001b[0;32mif\u001b[0m \u001b[0mallow_nan\u001b[0m \u001b[0;32melse\u001b[0m \u001b[0;34m'NaN, infinity'\u001b[0m\u001b[0;34m\u001b[0m\u001b[0;34m\u001b[0m\u001b[0m\n\u001b[0;32m---> 56\u001b[0;31m             \u001b[0;32mraise\u001b[0m \u001b[0mValueError\u001b[0m\u001b[0;34m(\u001b[0m\u001b[0mmsg_err\u001b[0m\u001b[0;34m.\u001b[0m\u001b[0mformat\u001b[0m\u001b[0;34m(\u001b[0m\u001b[0mtype_err\u001b[0m\u001b[0;34m,\u001b[0m \u001b[0mX\u001b[0m\u001b[0;34m.\u001b[0m\u001b[0mdtype\u001b[0m\u001b[0;34m)\u001b[0m\u001b[0;34m)\u001b[0m\u001b[0;34m\u001b[0m\u001b[0;34m\u001b[0m\u001b[0m\n\u001b[0m\u001b[1;32m     57\u001b[0m     \u001b[0;31m# for object dtype data, we only check for NaNs (GH-13254)\u001b[0m\u001b[0;34m\u001b[0m\u001b[0;34m\u001b[0m\u001b[0;34m\u001b[0m\u001b[0m\n\u001b[1;32m     58\u001b[0m     \u001b[0;32melif\u001b[0m \u001b[0mX\u001b[0m\u001b[0;34m.\u001b[0m\u001b[0mdtype\u001b[0m \u001b[0;34m==\u001b[0m \u001b[0mnp\u001b[0m\u001b[0;34m.\u001b[0m\u001b[0mdtype\u001b[0m\u001b[0;34m(\u001b[0m\u001b[0;34m'object'\u001b[0m\u001b[0;34m)\u001b[0m \u001b[0;32mand\u001b[0m \u001b[0;32mnot\u001b[0m \u001b[0mallow_nan\u001b[0m\u001b[0;34m:\u001b[0m\u001b[0;34m\u001b[0m\u001b[0;34m\u001b[0m\u001b[0m\n",
      "\u001b[0;31mValueError\u001b[0m: Input contains NaN, infinity or a value too large for dtype('float64')."
     ]
    }
   ],
   "source": [
    "# create principal components \n",
    "from sklearn.decomposition import PCA\n",
    "pca = PCA()\n",
    "principalComponents = pca.fit_transform(x)\n",
    "principalDf = pd.DataFrame(data = principalComponents, columns = ['principal component 1', 'principal component 2',\n",
    "                                                                 'principal component 3','principal component 4',\n",
    "                                                                 'principal component 5'])"
   ]
  },
  {
   "cell_type": "code",
   "execution_count": 177,
   "metadata": {},
   "outputs": [
    {
     "ename": "AttributeError",
     "evalue": "'PCA' object has no attribute 'explained_variance_ratio_'",
     "output_type": "error",
     "traceback": [
      "\u001b[0;31m---------------------------------------------------------------------------\u001b[0m",
      "\u001b[0;31mAttributeError\u001b[0m                            Traceback (most recent call last)",
      "\u001b[0;32m<ipython-input-177-ecc3755836a5>\u001b[0m in \u001b[0;36m<module>\u001b[0;34m\u001b[0m\n\u001b[0;32m----> 1\u001b[0;31m \u001b[0mpca\u001b[0m\u001b[0;34m.\u001b[0m\u001b[0mexplained_variance_ratio_\u001b[0m\u001b[0;34m\u001b[0m\u001b[0;34m\u001b[0m\u001b[0m\n\u001b[0m",
      "\u001b[0;31mAttributeError\u001b[0m: 'PCA' object has no attribute 'explained_variance_ratio_'"
     ]
    }
   ],
   "source": [
    "pca.explained_variance_ratio_"
   ]
  },
  {
   "cell_type": "code",
   "execution_count": 178,
   "metadata": {},
   "outputs": [
    {
     "ename": "AttributeError",
     "evalue": "'PCA' object has no attribute 'explained_variance_'",
     "output_type": "error",
     "traceback": [
      "\u001b[0;31m---------------------------------------------------------------------------\u001b[0m",
      "\u001b[0;31mAttributeError\u001b[0m                            Traceback (most recent call last)",
      "\u001b[0;32m<ipython-input-178-a8cdb5aaddbf>\u001b[0m in \u001b[0;36m<module>\u001b[0;34m\u001b[0m\n\u001b[0;32m----> 1\u001b[0;31m \u001b[0mpca\u001b[0m\u001b[0;34m.\u001b[0m\u001b[0mexplained_variance_\u001b[0m\u001b[0;34m\u001b[0m\u001b[0;34m\u001b[0m\u001b[0m\n\u001b[0m",
      "\u001b[0;31mAttributeError\u001b[0m: 'PCA' object has no attribute 'explained_variance_'"
     ]
    }
   ],
   "source": [
    "pca.explained_variance_"
   ]
  },
  {
   "cell_type": "code",
   "execution_count": null,
   "metadata": {},
   "outputs": [],
   "source": [
    "principalDf.iloc[:,:3].head()"
   ]
  },
  {
   "cell_type": "code",
   "execution_count": null,
   "metadata": {},
   "outputs": [],
   "source": []
  },
  {
   "cell_type": "code",
   "execution_count": null,
   "metadata": {},
   "outputs": [],
   "source": []
  },
  {
   "cell_type": "code",
   "execution_count": null,
   "metadata": {},
   "outputs": [],
   "source": []
  },
  {
   "cell_type": "code",
   "execution_count": null,
   "metadata": {},
   "outputs": [],
   "source": []
  },
  {
   "cell_type": "code",
   "execution_count": null,
   "metadata": {},
   "outputs": [],
   "source": []
  },
  {
   "cell_type": "code",
   "execution_count": null,
   "metadata": {},
   "outputs": [],
   "source": []
  },
  {
   "cell_type": "code",
   "execution_count": null,
   "metadata": {},
   "outputs": [],
   "source": []
  },
  {
   "cell_type": "code",
   "execution_count": null,
   "metadata": {},
   "outputs": [],
   "source": []
  },
  {
   "cell_type": "code",
   "execution_count": null,
   "metadata": {},
   "outputs": [],
   "source": []
  },
  {
   "cell_type": "code",
   "execution_count": null,
   "metadata": {},
   "outputs": [],
   "source": []
  },
  {
   "cell_type": "code",
   "execution_count": null,
   "metadata": {},
   "outputs": [],
   "source": []
  },
  {
   "cell_type": "code",
   "execution_count": null,
   "metadata": {},
   "outputs": [],
   "source": []
  },
  {
   "cell_type": "code",
   "execution_count": null,
   "metadata": {},
   "outputs": [],
   "source": []
  },
  {
   "cell_type": "code",
   "execution_count": null,
   "metadata": {},
   "outputs": [],
   "source": []
  },
  {
   "cell_type": "code",
   "execution_count": null,
   "metadata": {},
   "outputs": [],
   "source": []
  },
  {
   "cell_type": "code",
   "execution_count": null,
   "metadata": {},
   "outputs": [],
   "source": []
  },
  {
   "cell_type": "code",
   "execution_count": null,
   "metadata": {},
   "outputs": [],
   "source": []
  },
  {
   "cell_type": "code",
   "execution_count": null,
   "metadata": {},
   "outputs": [],
   "source": []
  },
  {
   "cell_type": "code",
   "execution_count": null,
   "metadata": {},
   "outputs": [],
   "source": []
  },
  {
   "cell_type": "code",
   "execution_count": null,
   "metadata": {},
   "outputs": [],
   "source": []
  },
  {
   "cell_type": "code",
   "execution_count": null,
   "metadata": {},
   "outputs": [],
   "source": []
  },
  {
   "cell_type": "code",
   "execution_count": null,
   "metadata": {},
   "outputs": [],
   "source": []
  },
  {
   "cell_type": "code",
   "execution_count": null,
   "metadata": {},
   "outputs": [],
   "source": []
  },
  {
   "cell_type": "code",
   "execution_count": null,
   "metadata": {},
   "outputs": [],
   "source": []
  },
  {
   "cell_type": "code",
   "execution_count": null,
   "metadata": {},
   "outputs": [],
   "source": []
  },
  {
   "cell_type": "code",
   "execution_count": null,
   "metadata": {},
   "outputs": [],
   "source": []
  },
  {
   "cell_type": "code",
   "execution_count": null,
   "metadata": {},
   "outputs": [],
   "source": []
  }
 ],
 "metadata": {
  "kernelspec": {
   "display_name": "Python 3",
   "language": "python",
   "name": "python3"
  },
  "language_info": {
   "codemirror_mode": {
    "name": "ipython",
    "version": 3
   },
   "file_extension": ".py",
   "mimetype": "text/x-python",
   "name": "python",
   "nbconvert_exporter": "python",
   "pygments_lexer": "ipython3",
   "version": "3.7.4"
  }
 },
 "nbformat": 4,
 "nbformat_minor": 2
}
