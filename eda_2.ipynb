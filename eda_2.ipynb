{
 "cells": [
  {
   "cell_type": "code",
   "execution_count": 23,
   "metadata": {},
   "outputs": [],
   "source": [
    "import pandas as pd\n",
    "import numpy as np\n",
    "np.random.seed(0)\n",
    "import seaborn as sns\n",
    "import matplotlib.pyplot as plt\n",
    "%matplotlib inline\n",
    "from sklearn.model_selection import train_test_split, cross_val_score\n",
    "from sklearn.ensemble import AdaBoostClassifier, GradientBoostingClassifier\n",
    "from sklearn.metrics import accuracy_score, f1_score, confusion_matrix, classification_report\n",
    "from sklearn.svm import SVC  \n",
    "\n",
    "from sklearn.datasets import make_classification\n",
    "from imblearn.over_sampling import SMOTE"
   ]
  },
  {
   "cell_type": "markdown",
   "metadata": {},
   "source": [
    "# EDA part 2:\n",
    "- josh's confusion matrix predicted everything along Assault. all our falses were basically in Assault\n",
    "    - Assault was 4200/5000, so this is to be expected w/ large class imbalance\n",
    "    - 2 solutions:\n",
    "        - more data\n",
    "        - smote\n",
    "- let's also look at doing SVC to pick out our variables\n",
    "    "
   ]
  },
  {
   "cell_type": "code",
   "execution_count": null,
   "metadata": {},
   "outputs": [],
   "source": []
  },
  {
   "cell_type": "markdown",
   "metadata": {},
   "source": [
    "## SVM attempts"
   ]
  },
  {
   "cell_type": "code",
   "execution_count": 29,
   "metadata": {},
   "outputs": [
    {
     "data": {
      "text/html": [
       "<div>\n",
       "<style scoped>\n",
       "    .dataframe tbody tr th:only-of-type {\n",
       "        vertical-align: middle;\n",
       "    }\n",
       "\n",
       "    .dataframe tbody tr th {\n",
       "        vertical-align: top;\n",
       "    }\n",
       "\n",
       "    .dataframe thead th {\n",
       "        text-align: right;\n",
       "    }\n",
       "</style>\n",
       "<table border=\"1\" class=\"dataframe\">\n",
       "  <thead>\n",
       "    <tr style=\"text-align: right;\">\n",
       "      <th></th>\n",
       "      <th>agency</th>\n",
       "      <th>case_number</th>\n",
       "      <th>UCR_code</th>\n",
       "      <th>attempt_or_complete</th>\n",
       "      <th>DAC_1</th>\n",
       "      <th>location_type</th>\n",
       "      <th>weapon_type_1</th>\n",
       "      <th>bias_1</th>\n",
       "      <th>perp_seq_num</th>\n",
       "      <th>perp_age</th>\n",
       "      <th>...</th>\n",
       "      <th>num_ori_matches_x</th>\n",
       "      <th>state</th>\n",
       "      <th>victim_seq_num</th>\n",
       "      <th>ucr_1</th>\n",
       "      <th>vic_type</th>\n",
       "      <th>vic_age</th>\n",
       "      <th>vic_sex</th>\n",
       "      <th>vic_race</th>\n",
       "      <th>vic_ethn</th>\n",
       "      <th>num_ori_matches_y</th>\n",
       "    </tr>\n",
       "  </thead>\n",
       "  <tbody>\n",
       "    <tr>\n",
       "      <td>0</td>\n",
       "      <td>AL0011200</td>\n",
       "      <td>2W1I0U7 6288</td>\n",
       "      <td>280</td>\n",
       "      <td>C</td>\n",
       "      <td>N</td>\n",
       "      <td>8</td>\n",
       "      <td>NaN</td>\n",
       "      <td>88</td>\n",
       "      <td>1</td>\n",
       "      <td>22.0</td>\n",
       "      <td>...</td>\n",
       "      <td>2.0</td>\n",
       "      <td>1</td>\n",
       "      <td>1</td>\n",
       "      <td>280</td>\n",
       "      <td>G</td>\n",
       "      <td>NaN</td>\n",
       "      <td>NaN</td>\n",
       "      <td>NaN</td>\n",
       "      <td>NaN</td>\n",
       "      <td>1.0</td>\n",
       "    </tr>\n",
       "    <tr>\n",
       "      <td>1</td>\n",
       "      <td>AL0011200</td>\n",
       "      <td>2W1I0U7 6288</td>\n",
       "      <td>280</td>\n",
       "      <td>C</td>\n",
       "      <td>N</td>\n",
       "      <td>8</td>\n",
       "      <td>NaN</td>\n",
       "      <td>88</td>\n",
       "      <td>2</td>\n",
       "      <td>30.0</td>\n",
       "      <td>...</td>\n",
       "      <td>NaN</td>\n",
       "      <td>1</td>\n",
       "      <td>1</td>\n",
       "      <td>280</td>\n",
       "      <td>G</td>\n",
       "      <td>NaN</td>\n",
       "      <td>NaN</td>\n",
       "      <td>NaN</td>\n",
       "      <td>NaN</td>\n",
       "      <td>1.0</td>\n",
       "    </tr>\n",
       "    <tr>\n",
       "      <td>2</td>\n",
       "      <td>AL0011200</td>\n",
       "      <td>2W1I0U7 62JW</td>\n",
       "      <td>13B</td>\n",
       "      <td>C</td>\n",
       "      <td>N</td>\n",
       "      <td>20</td>\n",
       "      <td>40</td>\n",
       "      <td>88</td>\n",
       "      <td>1</td>\n",
       "      <td>36.0</td>\n",
       "      <td>...</td>\n",
       "      <td>1.0</td>\n",
       "      <td>1</td>\n",
       "      <td>1</td>\n",
       "      <td>13B</td>\n",
       "      <td>I</td>\n",
       "      <td>39</td>\n",
       "      <td>M</td>\n",
       "      <td>W</td>\n",
       "      <td>N</td>\n",
       "      <td>1.0</td>\n",
       "    </tr>\n",
       "    <tr>\n",
       "      <td>3</td>\n",
       "      <td>AL0011200</td>\n",
       "      <td>2W1I0U7 64 8</td>\n",
       "      <td>220</td>\n",
       "      <td>C</td>\n",
       "      <td>N</td>\n",
       "      <td>20</td>\n",
       "      <td>NaN</td>\n",
       "      <td>88</td>\n",
       "      <td>0</td>\n",
       "      <td>NaN</td>\n",
       "      <td>...</td>\n",
       "      <td>1.0</td>\n",
       "      <td>1</td>\n",
       "      <td>1</td>\n",
       "      <td>220</td>\n",
       "      <td>I</td>\n",
       "      <td>30</td>\n",
       "      <td>F</td>\n",
       "      <td>W</td>\n",
       "      <td>N</td>\n",
       "      <td>1.0</td>\n",
       "    </tr>\n",
       "    <tr>\n",
       "      <td>4</td>\n",
       "      <td>AL0011200</td>\n",
       "      <td>2W1I0U7 64 W</td>\n",
       "      <td>35A</td>\n",
       "      <td>C</td>\n",
       "      <td>D</td>\n",
       "      <td>13</td>\n",
       "      <td>NaN</td>\n",
       "      <td>88</td>\n",
       "      <td>1</td>\n",
       "      <td>54.0</td>\n",
       "      <td>...</td>\n",
       "      <td>1.0</td>\n",
       "      <td>1</td>\n",
       "      <td>1</td>\n",
       "      <td>35A</td>\n",
       "      <td>S</td>\n",
       "      <td>NaN</td>\n",
       "      <td>NaN</td>\n",
       "      <td>NaN</td>\n",
       "      <td>NaN</td>\n",
       "      <td>1.0</td>\n",
       "    </tr>\n",
       "  </tbody>\n",
       "</table>\n",
       "<p>5 rows × 23 columns</p>\n",
       "</div>"
      ],
      "text/plain": [
       "      agency   case_number UCR_code attempt_or_complete DAC_1  location_type  \\\n",
       "0  AL0011200  2W1I0U7 6288      280                   C     N              8   \n",
       "1  AL0011200  2W1I0U7 6288      280                   C     N              8   \n",
       "2  AL0011200  2W1I0U7 62JW      13B                   C     N             20   \n",
       "3  AL0011200  2W1I0U7 64 8      220                   C     N             20   \n",
       "4  AL0011200  2W1I0U7 64 W      35A                   C     D             13   \n",
       "\n",
       "  weapon_type_1  bias_1  perp_seq_num  perp_age  ... num_ori_matches_x state  \\\n",
       "0           NaN      88             1      22.0  ...               2.0     1   \n",
       "1           NaN      88             2      30.0  ...               NaN     1   \n",
       "2            40      88             1      36.0  ...               1.0     1   \n",
       "3           NaN      88             0       NaN  ...               1.0     1   \n",
       "4           NaN      88             1      54.0  ...               1.0     1   \n",
       "\n",
       "  victim_seq_num  ucr_1  vic_type  vic_age vic_sex vic_race vic_ethn  \\\n",
       "0              1    280         G      NaN     NaN      NaN      NaN   \n",
       "1              1    280         G      NaN     NaN      NaN      NaN   \n",
       "2              1    13B         I       39       M        W        N   \n",
       "3              1    220         I       30       F        W        N   \n",
       "4              1    35A         S      NaN     NaN      NaN      NaN   \n",
       "\n",
       "  num_ori_matches_y  \n",
       "0               1.0  \n",
       "1               1.0  \n",
       "2               1.0  \n",
       "3               1.0  \n",
       "4               1.0  \n",
       "\n",
       "[5 rows x 23 columns]"
      ]
     },
     "execution_count": 29,
     "metadata": {},
     "output_type": "execute_result"
    }
   ],
   "source": [
    "storage.head()"
   ]
  },
  {
   "cell_type": "code",
   "execution_count": 2,
   "metadata": {},
   "outputs": [
    {
     "name": "stdout",
     "output_type": "stream",
     "text": [
      "importing\n"
     ]
    },
    {
     "name": "stderr",
     "output_type": "stream",
     "text": [
      "/Users/mark/opt/anaconda3/lib/python3.7/site-packages/IPython/core/interactiveshell.py:3058: DtypeWarning: Columns (8,15,21,24) have mixed types. Specify dtype option on import or set low_memory=False.\n",
      "  interactivity=interactivity, compiler=compiler, result=result)\n"
     ]
    }
   ],
   "source": [
    "print('importing')\n",
    "df = pd.read_csv('merged.csv')\n",
    "df = df.drop(['Unnamed: 0','state_y','state_x'], axis=1) # drop unneeded cols\n",
    "# df = df.drop(to_drop,axis=1)"
   ]
  },
  {
   "cell_type": "code",
   "execution_count": 3,
   "metadata": {},
   "outputs": [],
   "source": [
    "storage = df # store a copy to save time re-importing"
   ]
  },
  {
   "cell_type": "code",
   "execution_count": 6,
   "metadata": {},
   "outputs": [
    {
     "data": {
      "text/plain": [
       "agency                  object\n",
       "case_number             object\n",
       "UCR_code                object\n",
       "attempt_or_complete     object\n",
       "DAC_1                   object\n",
       "location_type            int64\n",
       "weapon_type_1           object\n",
       "bias_1                   int64\n",
       "perp_seq_num             int64\n",
       "perp_age               float64\n",
       "perp_sex                object\n",
       "perp_race               object\n",
       "perp_ethn               object\n",
       "num_ori_matches_x      float64\n",
       "state                    int64\n",
       "victim_seq_num           int64\n",
       "ucr_1                   object\n",
       "vic_type                object\n",
       "vic_age                 object\n",
       "vic_sex                 object\n",
       "vic_race                object\n",
       "vic_ethn                object\n",
       "num_ori_matches_y      float64\n",
       "dtype: object"
      ]
     },
     "execution_count": 6,
     "metadata": {},
     "output_type": "execute_result"
    }
   ],
   "source": [
    "storage.dtypes"
   ]
  },
  {
   "cell_type": "code",
   "execution_count": 7,
   "metadata": {},
   "outputs": [
    {
     "name": "stdout",
     "output_type": "stream",
     "text": [
      "<class 'pandas.core.frame.DataFrame'>\n",
      "RangeIndex: 8505901 entries, 0 to 8505900\n",
      "Data columns (total 23 columns):\n",
      "agency                 object\n",
      "case_number            object\n",
      "UCR_code               object\n",
      "attempt_or_complete    object\n",
      "DAC_1                  object\n",
      "location_type          int64\n",
      "weapon_type_1          object\n",
      "bias_1                 int64\n",
      "perp_seq_num           int64\n",
      "perp_age               float64\n",
      "perp_sex               object\n",
      "perp_race              object\n",
      "perp_ethn              object\n",
      "num_ori_matches_x      float64\n",
      "state                  int64\n",
      "victim_seq_num         int64\n",
      "ucr_1                  object\n",
      "vic_type               object\n",
      "vic_age                object\n",
      "vic_sex                object\n",
      "vic_race               object\n",
      "vic_ethn               object\n",
      "num_ori_matches_y      float64\n",
      "dtypes: float64(3), int64(5), object(15)\n",
      "memory usage: 1.5+ GB\n"
     ]
    }
   ],
   "source": [
    "storage.info()"
   ]
  },
  {
   "cell_type": "code",
   "execution_count": null,
   "metadata": {},
   "outputs": [],
   "source": []
  },
  {
   "cell_type": "code",
   "execution_count": null,
   "metadata": {},
   "outputs": [],
   "source": [
    "# sm = SMOTE(random_state=1)\n",
    "# X_train, y_train = sm.fit_resample(X_train, y_train)"
   ]
  },
  {
   "cell_type": "code",
   "execution_count": 16,
   "metadata": {},
   "outputs": [],
   "source": [
    "df = storage"
   ]
  },
  {
   "cell_type": "code",
   "execution_count": 4,
   "metadata": {},
   "outputs": [
    {
     "name": "stdout",
     "output_type": "stream",
     "text": [
      "dropping nulls\n",
      "begin sample\n",
      "sample complete\n"
     ]
    }
   ],
   "source": [
    "print('dropping nulls')\n",
    "df = df.dropna()\n",
    "\n",
    "print('begin sample')\n",
    "# sample down to 30k\n",
    "df = df.sample(5000, random_state=1)\n",
    "print('sample complete')\n",
    "# drop nulls?\n"
   ]
  },
  {
   "cell_type": "code",
   "execution_count": null,
   "metadata": {},
   "outputs": [],
   "source": []
  },
  {
   "cell_type": "code",
   "execution_count": 5,
   "metadata": {},
   "outputs": [
    {
     "name": "stdout",
     "output_type": "stream",
     "text": [
      "getting dummies\n",
      "dropped y\n"
     ]
    }
   ],
   "source": [
    "# df with dummies\n",
    "print('getting dummies')\n",
    "# remove Y to avoid Y dummies\n",
    "target = df['UCR_code']\n",
    "df = df.drop('UCR_code',axis=1)\n",
    "print('dropped y')\n"
   ]
  },
  {
   "cell_type": "code",
   "execution_count": 6,
   "metadata": {},
   "outputs": [
    {
     "name": "stdout",
     "output_type": "stream",
     "text": [
      "dummies acquired\n",
      "done with imports & cleaning\n"
     ]
    }
   ],
   "source": [
    "# dummify\n",
    "\n",
    "df = pd.get_dummies(df,drop_first=True)\n",
    "print('dummies acquired')\n",
    "features = list(df.columns) # get dummy list\n",
    "\n",
    "df['UCR_code'] = target # this should replace the original undummied Y\n",
    "print('done with imports & cleaning')"
   ]
  },
  {
   "cell_type": "code",
   "execution_count": null,
   "metadata": {},
   "outputs": [],
   "source": []
  },
  {
   "cell_type": "code",
   "execution_count": 7,
   "metadata": {},
   "outputs": [
    {
     "data": {
      "text/html": [
       "<div>\n",
       "<style scoped>\n",
       "    .dataframe tbody tr th:only-of-type {\n",
       "        vertical-align: middle;\n",
       "    }\n",
       "\n",
       "    .dataframe tbody tr th {\n",
       "        vertical-align: top;\n",
       "    }\n",
       "\n",
       "    .dataframe thead th {\n",
       "        text-align: right;\n",
       "    }\n",
       "</style>\n",
       "<table border=\"1\" class=\"dataframe\">\n",
       "  <thead>\n",
       "    <tr style=\"text-align: right;\">\n",
       "      <th></th>\n",
       "      <th>location_type</th>\n",
       "      <th>bias_1</th>\n",
       "      <th>perp_seq_num</th>\n",
       "      <th>perp_age</th>\n",
       "      <th>num_ori_matches_x</th>\n",
       "      <th>state</th>\n",
       "      <th>victim_seq_num</th>\n",
       "      <th>num_ori_matches_y</th>\n",
       "      <th>agency_AR0010100</th>\n",
       "      <th>agency_AR0010200</th>\n",
       "      <th>...</th>\n",
       "      <th>vic_sex_M</th>\n",
       "      <th>vic_sex_U</th>\n",
       "      <th>vic_race_B</th>\n",
       "      <th>vic_race_I</th>\n",
       "      <th>vic_race_P</th>\n",
       "      <th>vic_race_U</th>\n",
       "      <th>vic_race_W</th>\n",
       "      <th>vic_ethn_N</th>\n",
       "      <th>vic_ethn_U</th>\n",
       "      <th>UCR_code</th>\n",
       "    </tr>\n",
       "  </thead>\n",
       "  <tbody>\n",
       "    <tr>\n",
       "      <td>3261531</td>\n",
       "      <td>14</td>\n",
       "      <td>88</td>\n",
       "      <td>1</td>\n",
       "      <td>34.0</td>\n",
       "      <td>2.0</td>\n",
       "      <td>24</td>\n",
       "      <td>1</td>\n",
       "      <td>1.0</td>\n",
       "      <td>0</td>\n",
       "      <td>0</td>\n",
       "      <td>...</td>\n",
       "      <td>1</td>\n",
       "      <td>0</td>\n",
       "      <td>0</td>\n",
       "      <td>0</td>\n",
       "      <td>0</td>\n",
       "      <td>0</td>\n",
       "      <td>1</td>\n",
       "      <td>0</td>\n",
       "      <td>1</td>\n",
       "      <td>13A</td>\n",
       "    </tr>\n",
       "    <tr>\n",
       "      <td>6262040</td>\n",
       "      <td>20</td>\n",
       "      <td>88</td>\n",
       "      <td>1</td>\n",
       "      <td>23.0</td>\n",
       "      <td>1.0</td>\n",
       "      <td>41</td>\n",
       "      <td>1</td>\n",
       "      <td>1.0</td>\n",
       "      <td>0</td>\n",
       "      <td>0</td>\n",
       "      <td>...</td>\n",
       "      <td>0</td>\n",
       "      <td>0</td>\n",
       "      <td>1</td>\n",
       "      <td>0</td>\n",
       "      <td>0</td>\n",
       "      <td>0</td>\n",
       "      <td>0</td>\n",
       "      <td>1</td>\n",
       "      <td>0</td>\n",
       "      <td>13B</td>\n",
       "    </tr>\n",
       "    <tr>\n",
       "      <td>6207246</td>\n",
       "      <td>20</td>\n",
       "      <td>88</td>\n",
       "      <td>1</td>\n",
       "      <td>59.0</td>\n",
       "      <td>1.0</td>\n",
       "      <td>41</td>\n",
       "      <td>1</td>\n",
       "      <td>1.0</td>\n",
       "      <td>0</td>\n",
       "      <td>0</td>\n",
       "      <td>...</td>\n",
       "      <td>0</td>\n",
       "      <td>0</td>\n",
       "      <td>1</td>\n",
       "      <td>0</td>\n",
       "      <td>0</td>\n",
       "      <td>0</td>\n",
       "      <td>0</td>\n",
       "      <td>1</td>\n",
       "      <td>0</td>\n",
       "      <td>13B</td>\n",
       "    </tr>\n",
       "    <tr>\n",
       "      <td>5617093</td>\n",
       "      <td>14</td>\n",
       "      <td>88</td>\n",
       "      <td>1</td>\n",
       "      <td>31.0</td>\n",
       "      <td>2.0</td>\n",
       "      <td>41</td>\n",
       "      <td>1</td>\n",
       "      <td>1.0</td>\n",
       "      <td>0</td>\n",
       "      <td>0</td>\n",
       "      <td>...</td>\n",
       "      <td>1</td>\n",
       "      <td>0</td>\n",
       "      <td>0</td>\n",
       "      <td>0</td>\n",
       "      <td>0</td>\n",
       "      <td>0</td>\n",
       "      <td>1</td>\n",
       "      <td>1</td>\n",
       "      <td>0</td>\n",
       "      <td>120</td>\n",
       "    </tr>\n",
       "    <tr>\n",
       "      <td>6260994</td>\n",
       "      <td>20</td>\n",
       "      <td>88</td>\n",
       "      <td>1</td>\n",
       "      <td>70.0</td>\n",
       "      <td>1.0</td>\n",
       "      <td>41</td>\n",
       "      <td>1</td>\n",
       "      <td>1.0</td>\n",
       "      <td>0</td>\n",
       "      <td>0</td>\n",
       "      <td>...</td>\n",
       "      <td>1</td>\n",
       "      <td>0</td>\n",
       "      <td>0</td>\n",
       "      <td>0</td>\n",
       "      <td>0</td>\n",
       "      <td>0</td>\n",
       "      <td>1</td>\n",
       "      <td>1</td>\n",
       "      <td>0</td>\n",
       "      <td>13B</td>\n",
       "    </tr>\n",
       "    <tr>\n",
       "      <td>6435132</td>\n",
       "      <td>20</td>\n",
       "      <td>88</td>\n",
       "      <td>1</td>\n",
       "      <td>22.0</td>\n",
       "      <td>1.0</td>\n",
       "      <td>42</td>\n",
       "      <td>1</td>\n",
       "      <td>1.0</td>\n",
       "      <td>0</td>\n",
       "      <td>0</td>\n",
       "      <td>...</td>\n",
       "      <td>1</td>\n",
       "      <td>0</td>\n",
       "      <td>0</td>\n",
       "      <td>0</td>\n",
       "      <td>0</td>\n",
       "      <td>0</td>\n",
       "      <td>1</td>\n",
       "      <td>0</td>\n",
       "      <td>0</td>\n",
       "      <td>13B</td>\n",
       "    </tr>\n",
       "    <tr>\n",
       "      <td>5566927</td>\n",
       "      <td>13</td>\n",
       "      <td>88</td>\n",
       "      <td>1</td>\n",
       "      <td>34.0</td>\n",
       "      <td>1.0</td>\n",
       "      <td>41</td>\n",
       "      <td>1</td>\n",
       "      <td>1.0</td>\n",
       "      <td>0</td>\n",
       "      <td>0</td>\n",
       "      <td>...</td>\n",
       "      <td>0</td>\n",
       "      <td>0</td>\n",
       "      <td>1</td>\n",
       "      <td>0</td>\n",
       "      <td>0</td>\n",
       "      <td>0</td>\n",
       "      <td>0</td>\n",
       "      <td>1</td>\n",
       "      <td>0</td>\n",
       "      <td>100</td>\n",
       "    </tr>\n",
       "    <tr>\n",
       "      <td>4588771</td>\n",
       "      <td>20</td>\n",
       "      <td>88</td>\n",
       "      <td>1</td>\n",
       "      <td>45.0</td>\n",
       "      <td>1.0</td>\n",
       "      <td>36</td>\n",
       "      <td>1</td>\n",
       "      <td>1.0</td>\n",
       "      <td>0</td>\n",
       "      <td>0</td>\n",
       "      <td>...</td>\n",
       "      <td>0</td>\n",
       "      <td>0</td>\n",
       "      <td>0</td>\n",
       "      <td>0</td>\n",
       "      <td>0</td>\n",
       "      <td>0</td>\n",
       "      <td>1</td>\n",
       "      <td>1</td>\n",
       "      <td>0</td>\n",
       "      <td>13B</td>\n",
       "    </tr>\n",
       "    <tr>\n",
       "      <td>6221231</td>\n",
       "      <td>13</td>\n",
       "      <td>88</td>\n",
       "      <td>1</td>\n",
       "      <td>66.0</td>\n",
       "      <td>1.0</td>\n",
       "      <td>41</td>\n",
       "      <td>1</td>\n",
       "      <td>1.0</td>\n",
       "      <td>0</td>\n",
       "      <td>0</td>\n",
       "      <td>...</td>\n",
       "      <td>0</td>\n",
       "      <td>0</td>\n",
       "      <td>1</td>\n",
       "      <td>0</td>\n",
       "      <td>0</td>\n",
       "      <td>0</td>\n",
       "      <td>0</td>\n",
       "      <td>1</td>\n",
       "      <td>0</td>\n",
       "      <td>13A</td>\n",
       "    </tr>\n",
       "    <tr>\n",
       "      <td>1502457</td>\n",
       "      <td>13</td>\n",
       "      <td>88</td>\n",
       "      <td>1</td>\n",
       "      <td>25.0</td>\n",
       "      <td>4.0</td>\n",
       "      <td>12</td>\n",
       "      <td>1</td>\n",
       "      <td>1.0</td>\n",
       "      <td>0</td>\n",
       "      <td>0</td>\n",
       "      <td>...</td>\n",
       "      <td>1</td>\n",
       "      <td>0</td>\n",
       "      <td>1</td>\n",
       "      <td>0</td>\n",
       "      <td>0</td>\n",
       "      <td>0</td>\n",
       "      <td>0</td>\n",
       "      <td>1</td>\n",
       "      <td>0</td>\n",
       "      <td>120</td>\n",
       "    </tr>\n",
       "  </tbody>\n",
       "</table>\n",
       "<p>10 rows × 6153 columns</p>\n",
       "</div>"
      ],
      "text/plain": [
       "         location_type  bias_1  perp_seq_num  perp_age  num_ori_matches_x  \\\n",
       "3261531             14      88             1      34.0                2.0   \n",
       "6262040             20      88             1      23.0                1.0   \n",
       "6207246             20      88             1      59.0                1.0   \n",
       "5617093             14      88             1      31.0                2.0   \n",
       "6260994             20      88             1      70.0                1.0   \n",
       "6435132             20      88             1      22.0                1.0   \n",
       "5566927             13      88             1      34.0                1.0   \n",
       "4588771             20      88             1      45.0                1.0   \n",
       "6221231             13      88             1      66.0                1.0   \n",
       "1502457             13      88             1      25.0                4.0   \n",
       "\n",
       "         state  victim_seq_num  num_ori_matches_y  agency_AR0010100  \\\n",
       "3261531     24               1                1.0                 0   \n",
       "6262040     41               1                1.0                 0   \n",
       "6207246     41               1                1.0                 0   \n",
       "5617093     41               1                1.0                 0   \n",
       "6260994     41               1                1.0                 0   \n",
       "6435132     42               1                1.0                 0   \n",
       "5566927     41               1                1.0                 0   \n",
       "4588771     36               1                1.0                 0   \n",
       "6221231     41               1                1.0                 0   \n",
       "1502457     12               1                1.0                 0   \n",
       "\n",
       "         agency_AR0010200  ...  vic_sex_M  vic_sex_U  vic_race_B  vic_race_I  \\\n",
       "3261531                 0  ...          1          0           0           0   \n",
       "6262040                 0  ...          0          0           1           0   \n",
       "6207246                 0  ...          0          0           1           0   \n",
       "5617093                 0  ...          1          0           0           0   \n",
       "6260994                 0  ...          1          0           0           0   \n",
       "6435132                 0  ...          1          0           0           0   \n",
       "5566927                 0  ...          0          0           1           0   \n",
       "4588771                 0  ...          0          0           0           0   \n",
       "6221231                 0  ...          0          0           1           0   \n",
       "1502457                 0  ...          1          0           1           0   \n",
       "\n",
       "         vic_race_P  vic_race_U  vic_race_W  vic_ethn_N  vic_ethn_U  UCR_code  \n",
       "3261531           0           0           1           0           1       13A  \n",
       "6262040           0           0           0           1           0       13B  \n",
       "6207246           0           0           0           1           0       13B  \n",
       "5617093           0           0           1           1           0       120  \n",
       "6260994           0           0           1           1           0       13B  \n",
       "6435132           0           0           1           0           0       13B  \n",
       "5566927           0           0           0           1           0       100  \n",
       "4588771           0           0           1           1           0       13B  \n",
       "6221231           0           0           0           1           0       13A  \n",
       "1502457           0           0           0           1           0       120  \n",
       "\n",
       "[10 rows x 6153 columns]"
      ]
     },
     "execution_count": 7,
     "metadata": {},
     "output_type": "execute_result"
    }
   ],
   "source": [
    "\n",
    "df.head(10)\n",
    "\n",
    "\n",
    "\n",
    "\n",
    "\n"
   ]
  },
  {
   "cell_type": "markdown",
   "metadata": {},
   "source": [
    "- 31,000 columns. Interesting stuff.\n",
    "    - those aren't rookie numbers\n",
    "    - we gotta get those numbers down"
   ]
  },
  {
   "cell_type": "code",
   "execution_count": null,
   "metadata": {},
   "outputs": [],
   "source": []
  },
  {
   "cell_type": "code",
   "execution_count": null,
   "metadata": {},
   "outputs": [],
   "source": []
  },
  {
   "cell_type": "code",
   "execution_count": 7,
   "metadata": {},
   "outputs": [],
   "source": [
    "df['UCR_code'] = target"
   ]
  },
  {
   "cell_type": "code",
   "execution_count": 13,
   "metadata": {},
   "outputs": [],
   "source": [
    "df_full['UCR_code'] = target"
   ]
  },
  {
   "cell_type": "code",
   "execution_count": 12,
   "metadata": {},
   "outputs": [],
   "source": [
    "from time import time"
   ]
  },
  {
   "cell_type": "code",
   "execution_count": 22,
   "metadata": {},
   "outputs": [],
   "source": [
    "# #\n",
    "df_full = df"
   ]
  },
  {
   "cell_type": "code",
   "execution_count": 8,
   "metadata": {},
   "outputs": [],
   "source": [
    "df = df.drop('UCR_code',axis=1)"
   ]
  },
  {
   "cell_type": "code",
   "execution_count": 9,
   "metadata": {},
   "outputs": [
    {
     "data": {
      "text/plain": [
       "Index(['location_type', 'bias_1', 'perp_seq_num', 'perp_age',\n",
       "       'num_ori_matches_x', 'state', 'victim_seq_num', 'num_ori_matches_y',\n",
       "       'agency_AR0010100', 'agency_AR0010200',\n",
       "       ...\n",
       "       'vic_age_BB', 'vic_sex_M', 'vic_sex_U', 'vic_race_B', 'vic_race_I',\n",
       "       'vic_race_P', 'vic_race_U', 'vic_race_W', 'vic_ethn_N', 'vic_ethn_U'],\n",
       "      dtype='object', length=6152)"
      ]
     },
     "execution_count": 9,
     "metadata": {},
     "output_type": "execute_result"
    }
   ],
   "source": [
    "df.columns"
   ]
  },
  {
   "cell_type": "code",
   "execution_count": 23,
   "metadata": {},
   "outputs": [
    {
     "data": {
      "text/plain": [
       "10000"
      ]
     },
     "execution_count": 23,
     "metadata": {},
     "output_type": "execute_result"
    }
   ],
   "source": [
    "len(df)"
   ]
  },
  {
   "cell_type": "code",
   "execution_count": null,
   "metadata": {},
   "outputs": [],
   "source": []
  },
  {
   "cell_type": "code",
   "execution_count": 10,
   "metadata": {},
   "outputs": [],
   "source": [
    "# make training splits\n",
    "X = df\n",
    "y = target\n",
    "X_train, X_test, y_train, y_test = train_test_split(X, y, test_size = 0.20) "
   ]
  },
  {
   "cell_type": "markdown",
   "metadata": {},
   "source": [
    "# let's get SMOTEing"
   ]
  },
  {
   "cell_type": "code",
   "execution_count": 25,
   "metadata": {},
   "outputs": [
    {
     "name": "stdout",
     "output_type": "stream",
     "text": [
      "Collecting imblearn\n",
      "  Downloading https://files.pythonhosted.org/packages/81/a7/4179e6ebfd654bd0eac0b9c06125b8b4c96a9d0a8ff9e9507eb2a26d2d7e/imblearn-0.0-py2.py3-none-any.whl\n",
      "Collecting imbalanced-learn (from imblearn)\n",
      "\u001b[?25l  Downloading https://files.pythonhosted.org/packages/e6/62/08c14224a7e242df2cef7b312d2ef821c3931ec9b015ff93bb52ec8a10a3/imbalanced_learn-0.5.0-py3-none-any.whl (173kB)\n",
      "\u001b[K     |████████████████████████████████| 174kB 3.9MB/s eta 0:00:01\n",
      "\u001b[?25hRequirement already satisfied: joblib>=0.11 in /Users/mark/opt/anaconda3/lib/python3.7/site-packages (from imbalanced-learn->imblearn) (0.13.2)\n",
      "Requirement already satisfied: scipy>=0.17 in /Users/mark/opt/anaconda3/lib/python3.7/site-packages (from imbalanced-learn->imblearn) (1.3.1)\n",
      "Requirement already satisfied: scikit-learn>=0.21 in /Users/mark/opt/anaconda3/lib/python3.7/site-packages (from imbalanced-learn->imblearn) (0.21.3)\n",
      "Requirement already satisfied: numpy>=1.11 in /Users/mark/opt/anaconda3/lib/python3.7/site-packages (from imbalanced-learn->imblearn) (1.17.2)\n",
      "Installing collected packages: imbalanced-learn, imblearn\n",
      "Successfully installed imbalanced-learn-0.5.0 imblearn-0.0\n"
     ]
    }
   ],
   "source": [
    "!pip install imblearn"
   ]
  },
  {
   "cell_type": "code",
   "execution_count": 27,
   "metadata": {},
   "outputs": [],
   "source": []
  },
  {
   "cell_type": "code",
   "execution_count": null,
   "metadata": {},
   "outputs": [],
   "source": [
    "sm = SMOTE(random_state=1) # build oversampling method\n",
    "X_train, y_train = sm.fit_resample(X_train, y_train) # refit training data"
   ]
  },
  {
   "cell_type": "code",
   "execution_count": 22,
   "metadata": {
    "scrolled": true
   },
   "outputs": [
    {
     "data": {
      "text/plain": [
       "Index(['location_type', 'bias_1', 'perp_seq_num', 'perp_age',\n",
       "       'num_ori_matches_x', 'state', 'victim_seq_num', 'num_ori_matches_y',\n",
       "       'agency_AR0010100', 'agency_AR0010200'],\n",
       "      dtype='object')"
      ]
     },
     "execution_count": 22,
     "metadata": {},
     "output_type": "execute_result"
    }
   ],
   "source": [
    "df.columns[:10]"
   ]
  },
  {
   "cell_type": "markdown",
   "metadata": {},
   "source": [
    "## SVC because we have *tons* of columns"
   ]
  },
  {
   "cell_type": "code",
   "execution_count": 13,
   "metadata": {},
   "outputs": [
    {
     "name": "stderr",
     "output_type": "stream",
     "text": [
      "/Users/mark/opt/anaconda3/lib/python3.7/site-packages/sklearn/svm/base.py:193: FutureWarning: The default value of gamma will change from 'auto' to 'scale' in version 0.22 to account better for unscaled features. Set gamma explicitly to 'auto' or 'scale' to avoid this warning.\n",
      "  \"avoid this warning.\", FutureWarning)\n"
     ]
    },
    {
     "name": "stdout",
     "output_type": "stream",
     "text": [
      "run time is 96.29190707206726 seconds\n"
     ]
    }
   ],
   "source": [
    "from sklearn.svm import SVC  \n",
    "tic = time()\n",
    "svclassifier = SVC(kernel='rbf', C=0.05)  \n",
    "svclassifier.fit(X_train, y_train) \n",
    "y_pred = svclassifier.predict(X_test)\n",
    "toc = time()\n",
    "print(\"run time is {} seconds\".format(toc-tic))"
   ]
  },
  {
   "cell_type": "code",
   "execution_count": 14,
   "metadata": {},
   "outputs": [
    {
     "name": "stdout",
     "output_type": "stream",
     "text": [
      "[[  0   0   0   0   0   0   0   0   2   0   0   0]\n",
      " [  0   0   0   0   0   0   0   0  15   0   0   0]\n",
      " [  0   0   0   0   0   0   0   0  34   0   0   0]\n",
      " [  0   0   0   0   0   0   0   0   4   0   0   0]\n",
      " [  0   0   0   0   0   0   0   0   1   0   0   0]\n",
      " [  0   0   0   0   0   0   0   0  36   0   0   0]\n",
      " [  0   0   0   0   0   0   0   0  70   0   0   0]\n",
      " [  0   0   0   0   0   0   0   0 211   0   0   0]\n",
      " [  0   0   0   0   0   0   0   0 605   0   0   0]\n",
      " [  0   0   0   0   0   0   0   0   1   0   0   0]\n",
      " [  0   0   0   0   0   0   0   0  20   0   0   0]\n",
      " [  0   0   0   0   0   0   0   0   1   0   0   0]]\n",
      "              precision    recall  f1-score   support\n",
      "\n",
      "         09A       0.00      0.00      0.00         2\n",
      "         100       0.00      0.00      0.00        15\n",
      "         11A       0.00      0.00      0.00        34\n",
      "         11B       0.00      0.00      0.00         4\n",
      "         11C       0.00      0.00      0.00         1\n",
      "         11D       0.00      0.00      0.00        36\n",
      "         120       0.00      0.00      0.00        70\n",
      "         13A       0.00      0.00      0.00       211\n",
      "         13B       0.60      1.00      0.75       605\n",
      "         210       0.00      0.00      0.00         1\n",
      "         520       0.00      0.00      0.00        20\n",
      "         64A       0.00      0.00      0.00         1\n",
      "\n",
      "    accuracy                           0.60      1000\n",
      "   macro avg       0.05      0.08      0.06      1000\n",
      "weighted avg       0.37      0.60      0.46      1000\n",
      "\n",
      "The accuracy score is 0.605\n"
     ]
    },
    {
     "name": "stderr",
     "output_type": "stream",
     "text": [
      "/Users/mark/opt/anaconda3/lib/python3.7/site-packages/sklearn/metrics/classification.py:1437: UndefinedMetricWarning: Precision and F-score are ill-defined and being set to 0.0 in labels with no predicted samples.\n",
      "  'precision', 'predicted', average, warn_for)\n"
     ]
    }
   ],
   "source": [
    "from sklearn.metrics import classification_report, confusion_matrix , accuracy_score\n",
    "print(confusion_matrix(y_test,y_pred))  \n",
    "print(classification_report(y_test,y_pred)) \n",
    "print(\"The accuracy score is\" + \" \"+ str(accuracy_score(y_test, y_pred)))"
   ]
  },
  {
   "cell_type": "code",
   "execution_count": null,
   "metadata": {},
   "outputs": [],
   "source": []
  },
  {
   "cell_type": "code",
   "execution_count": 15,
   "metadata": {},
   "outputs": [
    {
     "data": {
      "text/plain": [
       "8505901"
      ]
     },
     "execution_count": 15,
     "metadata": {},
     "output_type": "execute_result"
    }
   ],
   "source": [
    "len(storage)"
   ]
  },
  {
   "cell_type": "markdown",
   "metadata": {},
   "source": [
    "# SVC again, n=10,000"
   ]
  },
  {
   "cell_type": "markdown",
   "metadata": {},
   "source": [
    "above cells in one cell for running. adjust sample size according\n",
    "- really need to put this in a function to save time"
   ]
  },
  {
   "cell_type": "code",
   "execution_count": 16,
   "metadata": {},
   "outputs": [
    {
     "name": "stdout",
     "output_type": "stream",
     "text": [
      "dropping nulls\n",
      "begin sample\n",
      "sample complete\n",
      "getting dummies\n",
      "dropped y\n",
      "dummies acquired\n",
      "done with imports & cleaning\n"
     ]
    }
   ],
   "source": [
    "df = storage\n",
    "\n",
    "print('dropping nulls')\n",
    "df = df.dropna()\n",
    "\n",
    "print('begin sample')\n",
    "# sample down to 30k\n",
    "df = df.sample(10000, random_state=1)\n",
    "print('sample complete')\n",
    "# drop nulls?\n",
    "# df with dummies\n",
    "print('getting dummies')\n",
    "# remove Y to avoid Y dummies\n",
    "target = df['UCR_code']\n",
    "df = df.drop('UCR_code',axis=1)\n",
    "print('dropped y')\n",
    "\n",
    "# dummify\n",
    "\n",
    "df = pd.get_dummies(df,drop_first=True)\n",
    "print('dummies acquired')\n",
    "features = list(df.columns) # get dummy list\n",
    "\n",
    "df['UCR_code'] = target # this should replace the original undummied Y\n",
    "print('done with imports & cleaning')\n",
    "df_full = df # checkpoint\n",
    "df = df.drop('UCR_code',axis=1)\n",
    "\n",
    "# make training splits\n",
    "X = df\n",
    "y = target\n",
    "X_train, X_test, y_train, y_test = train_test_split(X, y, test_size = 0.20) "
   ]
  },
  {
   "cell_type": "code",
   "execution_count": 17,
   "metadata": {},
   "outputs": [
    {
     "name": "stderr",
     "output_type": "stream",
     "text": [
      "/Users/mark/opt/anaconda3/lib/python3.7/site-packages/sklearn/svm/base.py:193: FutureWarning: The default value of gamma will change from 'auto' to 'scale' in version 0.22 to account better for unscaled features. Set gamma explicitly to 'auto' or 'scale' to avoid this warning.\n",
      "  \"avoid this warning.\", FutureWarning)\n"
     ]
    },
    {
     "name": "stdout",
     "output_type": "stream",
     "text": [
      "run time is 696.6429498195648 seconds\n"
     ]
    }
   ],
   "source": [
    "tic = time()\n",
    "svclassifier = SVC(kernel='rbf', C=0.05)  \n",
    "svclassifier.fit(X_train, y_train) \n",
    "y_pred = svclassifier.predict(X_test)\n",
    "toc = time()\n",
    "print(\"run time is {} seconds\".format(toc-tic))"
   ]
  },
  {
   "cell_type": "code",
   "execution_count": 18,
   "metadata": {},
   "outputs": [
    {
     "name": "stdout",
     "output_type": "stream",
     "text": [
      "[[   0    0    0    0    0    0    0    0    8    0    0    0]\n",
      " [   0    0    0    0    0    0    0    0   25    0    0    0]\n",
      " [   0    0    0    0    0    0    0    0   54    0    0    0]\n",
      " [   0    0    0    0    0    0    0    0   15    0    0    0]\n",
      " [   0    0    0    0    0    0    0    0    7    0    0    0]\n",
      " [   0    0    0    0    0    0    0    0   55    0    0    0]\n",
      " [   0    0    0    0    0    0    0    0  120    0    0    0]\n",
      " [   0    0    0    0    0    0    0    0  388    0    0    0]\n",
      " [   0    0    0    0    0    0    0    0 1294    0    0    0]\n",
      " [   0    0    0    0    0    0    0    0    1    0    0    0]\n",
      " [   0    0    0    0    0    0    0    0   32    0    0    0]\n",
      " [   0    0    0    0    0    0    0    0    1    0    0    0]]\n",
      "              precision    recall  f1-score   support\n",
      "\n",
      "         09A       0.00      0.00      0.00         8\n",
      "         100       0.00      0.00      0.00        25\n",
      "         11A       0.00      0.00      0.00        54\n",
      "         11B       0.00      0.00      0.00        15\n",
      "         11C       0.00      0.00      0.00         7\n",
      "         11D       0.00      0.00      0.00        55\n",
      "         120       0.00      0.00      0.00       120\n",
      "         13A       0.00      0.00      0.00       388\n",
      "         13B       0.65      1.00      0.79      1294\n",
      "         210       0.00      0.00      0.00         1\n",
      "         520       0.00      0.00      0.00        32\n",
      "         64A       0.00      0.00      0.00         1\n",
      "\n",
      "    accuracy                           0.65      2000\n",
      "   macro avg       0.05      0.08      0.07      2000\n",
      "weighted avg       0.42      0.65      0.51      2000\n",
      "\n",
      "The accuracy score is 0.647\n"
     ]
    },
    {
     "name": "stderr",
     "output_type": "stream",
     "text": [
      "/Users/mark/opt/anaconda3/lib/python3.7/site-packages/sklearn/metrics/classification.py:1437: UndefinedMetricWarning: Precision and F-score are ill-defined and being set to 0.0 in labels with no predicted samples.\n",
      "  'precision', 'predicted', average, warn_for)\n"
     ]
    }
   ],
   "source": [
    "from sklearn.metrics import classification_report, confusion_matrix , accuracy_score\n",
    "print(confusion_matrix(y_test,y_pred))  \n",
    "print(classification_report(y_test,y_pred)) \n",
    "print(\"The accuracy score is\" + \" \"+ str(accuracy_score(y_test, y_pred)))"
   ]
  },
  {
   "cell_type": "markdown",
   "metadata": {},
   "source": [
    "Accuracy boosted by ~.05 when n doubled to 10,000\n",
    "However, classification matrix is still only guessing Assault due to class imbalance"
   ]
  },
  {
   "cell_type": "markdown",
   "metadata": {},
   "source": [
    "## let's try smote"
   ]
  },
  {
   "cell_type": "code",
   "execution_count": 26,
   "metadata": {},
   "outputs": [
    {
     "data": {
      "text/plain": [
       "10000"
      ]
     },
     "execution_count": 26,
     "metadata": {},
     "output_type": "execute_result"
    }
   ],
   "source": [
    "len(df)"
   ]
  },
  {
   "cell_type": "code",
   "execution_count": 19,
   "metadata": {},
   "outputs": [],
   "source": [
    "X_train, X_test, y_train, y_test = train_test_split(X, y, test_size = 0.20)  # from prior 10k model"
   ]
  },
  {
   "cell_type": "code",
   "execution_count": 22,
   "metadata": {},
   "outputs": [
    {
     "ename": "ValueError",
     "evalue": "Expected n_neighbors <= n_samples,  but n_samples = 2, n_neighbors = 6",
     "output_type": "error",
     "traceback": [
      "\u001b[0;31m---------------------------------------------------------------------------\u001b[0m",
      "\u001b[0;31mValueError\u001b[0m                                Traceback (most recent call last)",
      "\u001b[0;32m<ipython-input-22-a92b7c4815f4>\u001b[0m in \u001b[0;36m<module>\u001b[0;34m\u001b[0m\n\u001b[1;32m      1\u001b[0m \u001b[0msm\u001b[0m \u001b[0;34m=\u001b[0m \u001b[0mSMOTE\u001b[0m\u001b[0;34m(\u001b[0m\u001b[0mrandom_state\u001b[0m\u001b[0;34m=\u001b[0m\u001b[0;36m1\u001b[0m\u001b[0;34m)\u001b[0m\u001b[0;34m\u001b[0m\u001b[0;34m\u001b[0m\u001b[0m\n\u001b[0;32m----> 2\u001b[0;31m \u001b[0mX_train\u001b[0m\u001b[0;34m,\u001b[0m \u001b[0my_train\u001b[0m \u001b[0;34m=\u001b[0m \u001b[0msm\u001b[0m\u001b[0;34m.\u001b[0m\u001b[0mfit_resample\u001b[0m\u001b[0;34m(\u001b[0m\u001b[0mX_train\u001b[0m\u001b[0;34m,\u001b[0m \u001b[0my_train\u001b[0m\u001b[0;34m)\u001b[0m\u001b[0;34m\u001b[0m\u001b[0;34m\u001b[0m\u001b[0m\n\u001b[0m",
      "\u001b[0;32m~/opt/anaconda3/lib/python3.7/site-packages/imblearn/base.py\u001b[0m in \u001b[0;36mfit_resample\u001b[0;34m(self, X, y)\u001b[0m\n\u001b[1;32m     82\u001b[0m             self.sampling_strategy, y, self._sampling_type)\n\u001b[1;32m     83\u001b[0m \u001b[0;34m\u001b[0m\u001b[0m\n\u001b[0;32m---> 84\u001b[0;31m         \u001b[0moutput\u001b[0m \u001b[0;34m=\u001b[0m \u001b[0mself\u001b[0m\u001b[0;34m.\u001b[0m\u001b[0m_fit_resample\u001b[0m\u001b[0;34m(\u001b[0m\u001b[0mX\u001b[0m\u001b[0;34m,\u001b[0m \u001b[0my\u001b[0m\u001b[0;34m)\u001b[0m\u001b[0;34m\u001b[0m\u001b[0;34m\u001b[0m\u001b[0m\n\u001b[0m\u001b[1;32m     85\u001b[0m \u001b[0;34m\u001b[0m\u001b[0m\n\u001b[1;32m     86\u001b[0m         \u001b[0;32mif\u001b[0m \u001b[0mbinarize_y\u001b[0m\u001b[0;34m:\u001b[0m\u001b[0;34m\u001b[0m\u001b[0;34m\u001b[0m\u001b[0m\n",
      "\u001b[0;32m~/opt/anaconda3/lib/python3.7/site-packages/imblearn/over_sampling/_smote.py\u001b[0m in \u001b[0;36m_fit_resample\u001b[0;34m(self, X, y)\u001b[0m\n\u001b[1;32m    795\u001b[0m     \u001b[0;32mdef\u001b[0m \u001b[0m_fit_resample\u001b[0m\u001b[0;34m(\u001b[0m\u001b[0mself\u001b[0m\u001b[0;34m,\u001b[0m \u001b[0mX\u001b[0m\u001b[0;34m,\u001b[0m \u001b[0my\u001b[0m\u001b[0;34m)\u001b[0m\u001b[0;34m:\u001b[0m\u001b[0;34m\u001b[0m\u001b[0;34m\u001b[0m\u001b[0m\n\u001b[1;32m    796\u001b[0m         \u001b[0mself\u001b[0m\u001b[0;34m.\u001b[0m\u001b[0m_validate_estimator\u001b[0m\u001b[0;34m(\u001b[0m\u001b[0;34m)\u001b[0m\u001b[0;34m\u001b[0m\u001b[0;34m\u001b[0m\u001b[0m\n\u001b[0;32m--> 797\u001b[0;31m         \u001b[0;32mreturn\u001b[0m \u001b[0mself\u001b[0m\u001b[0;34m.\u001b[0m\u001b[0m_sample\u001b[0m\u001b[0;34m(\u001b[0m\u001b[0mX\u001b[0m\u001b[0;34m,\u001b[0m \u001b[0my\u001b[0m\u001b[0;34m)\u001b[0m\u001b[0;34m\u001b[0m\u001b[0;34m\u001b[0m\u001b[0m\n\u001b[0m\u001b[1;32m    798\u001b[0m \u001b[0;34m\u001b[0m\u001b[0m\n\u001b[1;32m    799\u001b[0m     \u001b[0;32mdef\u001b[0m \u001b[0m_sample\u001b[0m\u001b[0;34m(\u001b[0m\u001b[0mself\u001b[0m\u001b[0;34m,\u001b[0m \u001b[0mX\u001b[0m\u001b[0;34m,\u001b[0m \u001b[0my\u001b[0m\u001b[0;34m)\u001b[0m\u001b[0;34m:\u001b[0m\u001b[0;34m\u001b[0m\u001b[0;34m\u001b[0m\u001b[0m\n",
      "\u001b[0;32m~/opt/anaconda3/lib/python3.7/site-packages/imblearn/over_sampling/_smote.py\u001b[0m in \u001b[0;36m_sample\u001b[0;34m(self, X, y)\u001b[0m\n\u001b[1;32m    811\u001b[0m \u001b[0;34m\u001b[0m\u001b[0m\n\u001b[1;32m    812\u001b[0m             \u001b[0mself\u001b[0m\u001b[0;34m.\u001b[0m\u001b[0mnn_k_\u001b[0m\u001b[0;34m.\u001b[0m\u001b[0mfit\u001b[0m\u001b[0;34m(\u001b[0m\u001b[0mX_class\u001b[0m\u001b[0;34m)\u001b[0m\u001b[0;34m\u001b[0m\u001b[0;34m\u001b[0m\u001b[0m\n\u001b[0;32m--> 813\u001b[0;31m             \u001b[0mnns\u001b[0m \u001b[0;34m=\u001b[0m \u001b[0mself\u001b[0m\u001b[0;34m.\u001b[0m\u001b[0mnn_k_\u001b[0m\u001b[0;34m.\u001b[0m\u001b[0mkneighbors\u001b[0m\u001b[0;34m(\u001b[0m\u001b[0mX_class\u001b[0m\u001b[0;34m,\u001b[0m \u001b[0mreturn_distance\u001b[0m\u001b[0;34m=\u001b[0m\u001b[0;32mFalse\u001b[0m\u001b[0;34m)\u001b[0m\u001b[0;34m[\u001b[0m\u001b[0;34m:\u001b[0m\u001b[0;34m,\u001b[0m \u001b[0;36m1\u001b[0m\u001b[0;34m:\u001b[0m\u001b[0;34m]\u001b[0m\u001b[0;34m\u001b[0m\u001b[0;34m\u001b[0m\u001b[0m\n\u001b[0m\u001b[1;32m    814\u001b[0m             X_new, y_new = self._make_samples(X_class, y.dtype, class_sample,\n\u001b[1;32m    815\u001b[0m                                               X_class, nns, n_samples, 1.0)\n",
      "\u001b[0;32m~/opt/anaconda3/lib/python3.7/site-packages/sklearn/neighbors/base.py\u001b[0m in \u001b[0;36mkneighbors\u001b[0;34m(self, X, n_neighbors, return_distance)\u001b[0m\n\u001b[1;32m    413\u001b[0m                 \u001b[0;34m\"Expected n_neighbors <= n_samples, \"\u001b[0m\u001b[0;34m\u001b[0m\u001b[0;34m\u001b[0m\u001b[0m\n\u001b[1;32m    414\u001b[0m                 \u001b[0;34m\" but n_samples = %d, n_neighbors = %d\"\u001b[0m \u001b[0;34m%\u001b[0m\u001b[0;34m\u001b[0m\u001b[0;34m\u001b[0m\u001b[0m\n\u001b[0;32m--> 415\u001b[0;31m                 \u001b[0;34m(\u001b[0m\u001b[0mtrain_size\u001b[0m\u001b[0;34m,\u001b[0m \u001b[0mn_neighbors\u001b[0m\u001b[0;34m)\u001b[0m\u001b[0;34m\u001b[0m\u001b[0;34m\u001b[0m\u001b[0m\n\u001b[0m\u001b[1;32m    416\u001b[0m             )\n\u001b[1;32m    417\u001b[0m         \u001b[0mn_samples\u001b[0m\u001b[0;34m,\u001b[0m \u001b[0m_\u001b[0m \u001b[0;34m=\u001b[0m \u001b[0mX\u001b[0m\u001b[0;34m.\u001b[0m\u001b[0mshape\u001b[0m\u001b[0;34m\u001b[0m\u001b[0;34m\u001b[0m\u001b[0m\n",
      "\u001b[0;31mValueError\u001b[0m: Expected n_neighbors <= n_samples,  but n_samples = 2, n_neighbors = 6"
     ]
    }
   ],
   "source": [
    "sm = SMOTE(random_state=1)\n",
    "X_train, y_train = sm.fit_resample(X_train, y_train)"
   ]
  },
  {
   "cell_type": "code",
   "execution_count": 24,
   "metadata": {},
   "outputs": [
    {
     "name": "stderr",
     "output_type": "stream",
     "text": [
      "/Users/mark/opt/anaconda3/lib/python3.7/site-packages/sklearn/svm/base.py:193: FutureWarning: The default value of gamma will change from 'auto' to 'scale' in version 0.22 to account better for unscaled features. Set gamma explicitly to 'auto' or 'scale' to avoid this warning.\n",
      "  \"avoid this warning.\", FutureWarning)\n"
     ]
    },
    {
     "name": "stdout",
     "output_type": "stream",
     "text": [
      "run time is 728.5693261623383 seconds\n"
     ]
    }
   ],
   "source": [
    "tic = time()\n",
    "svclassifier = SVC(kernel='rbf', C=0.05)  \n",
    "svclassifier.fit(X_train, y_train) \n",
    "y_pred = svclassifier.predict(X_test)\n",
    "toc = time()\n",
    "print(\"run time is {} seconds\".format(toc-tic))"
   ]
  },
  {
   "cell_type": "code",
   "execution_count": 25,
   "metadata": {},
   "outputs": [
    {
     "name": "stdout",
     "output_type": "stream",
     "text": [
      "[[   0    0    0    0    0    0    0    0    0    6    0    0    0]\n",
      " [   0    0    0    0    0    0    0    0    0    2    0    0    0]\n",
      " [   0    0    0    0    0    0    0    0    0   27    0    0    0]\n",
      " [   0    0    0    0    0    0    0    0    0   71    0    0    0]\n",
      " [   0    0    0    0    0    0    0    0    0   13    0    0    0]\n",
      " [   0    0    0    0    0    0    0    0    0    4    0    0    0]\n",
      " [   0    0    0    0    0    0    0    0    0   51    0    0    0]\n",
      " [   0    0    0    0    0    0    0    0    0  116    0    0    0]\n",
      " [   0    0    0    0    0    0    0    0    0  397    0    0    0]\n",
      " [   0    0    0    0    0    0    0    0    0 1272    0    0    0]\n",
      " [   0    0    0    0    0    0    0    0    0    2    0    0    0]\n",
      " [   0    0    0    0    0    0    0    0    0   38    0    0    0]\n",
      " [   0    0    0    0    0    0    0    0    0    1    0    0    0]]\n",
      "              precision    recall  f1-score   support\n",
      "\n",
      "         09A       0.00      0.00      0.00         6\n",
      "         09C       0.00      0.00      0.00         2\n",
      "         100       0.00      0.00      0.00        27\n",
      "         11A       0.00      0.00      0.00        71\n",
      "         11B       0.00      0.00      0.00        13\n",
      "         11C       0.00      0.00      0.00         4\n",
      "         11D       0.00      0.00      0.00        51\n",
      "         120       0.00      0.00      0.00       116\n",
      "         13A       0.00      0.00      0.00       397\n",
      "         13B       0.64      1.00      0.78      1272\n",
      "         210       0.00      0.00      0.00         2\n",
      "         520       0.00      0.00      0.00        38\n",
      "         64A       0.00      0.00      0.00         1\n",
      "\n",
      "    accuracy                           0.64      2000\n",
      "   macro avg       0.05      0.08      0.06      2000\n",
      "weighted avg       0.40      0.64      0.49      2000\n",
      "\n",
      "The accuracy score is 0.636\n"
     ]
    },
    {
     "name": "stderr",
     "output_type": "stream",
     "text": [
      "/Users/mark/opt/anaconda3/lib/python3.7/site-packages/sklearn/metrics/classification.py:1437: UndefinedMetricWarning: Precision and F-score are ill-defined and being set to 0.0 in labels with no predicted samples.\n",
      "  'precision', 'predicted', average, warn_for)\n"
     ]
    }
   ],
   "source": [
    "from sklearn.metrics import classification_report, confusion_matrix , accuracy_score\n",
    "print(confusion_matrix(y_test,y_pred))  \n",
    "print(classification_report(y_test,y_pred)) \n",
    "print(\"The accuracy score is\" + \" \"+ str(accuracy_score(y_test, y_pred)))"
   ]
  },
  {
   "cell_type": "code",
   "execution_count": 27,
   "metadata": {},
   "outputs": [
    {
     "data": {
      "text/plain": [
       "3261531    13A\n",
       "6262040    13B\n",
       "6207246    13B\n",
       "5617093    120\n",
       "6260994    13B\n",
       "          ... \n",
       "601657     13B\n",
       "793863     11D\n",
       "3289739    13B\n",
       "7809209    13B\n",
       "5699603    13B\n",
       "Name: UCR_code, Length: 10000, dtype: object"
      ]
     },
     "execution_count": 27,
     "metadata": {},
     "output_type": "execute_result"
    }
   ],
   "source": []
  },
  {
   "cell_type": "code",
   "execution_count": null,
   "metadata": {},
   "outputs": [],
   "source": []
  },
  {
   "cell_type": "code",
   "execution_count": null,
   "metadata": {},
   "outputs": [],
   "source": []
  },
  {
   "cell_type": "code",
   "execution_count": null,
   "metadata": {},
   "outputs": [],
   "source": []
  },
  {
   "cell_type": "code",
   "execution_count": null,
   "metadata": {},
   "outputs": [],
   "source": []
  },
  {
   "cell_type": "code",
   "execution_count": null,
   "metadata": {},
   "outputs": [],
   "source": []
  },
  {
   "cell_type": "code",
   "execution_count": null,
   "metadata": {},
   "outputs": [],
   "source": []
  },
  {
   "cell_type": "code",
   "execution_count": null,
   "metadata": {},
   "outputs": [],
   "source": []
  },
  {
   "cell_type": "code",
   "execution_count": null,
   "metadata": {},
   "outputs": [],
   "source": []
  },
  {
   "cell_type": "code",
   "execution_count": 26,
   "metadata": {},
   "outputs": [
    {
     "data": {
      "text/plain": [
       "30000"
      ]
     },
     "execution_count": 26,
     "metadata": {},
     "output_type": "execute_result"
    }
   ],
   "source": [
    "len(df)"
   ]
  },
  {
   "cell_type": "markdown",
   "metadata": {},
   "source": [
    "- note on extra info & ethical considerations:\n",
    "    - i'm gonna need to have a look at my false positives & false negatives\n",
    "        - i included criminal & victim demographics in this model, so it's open to the same sort of bias that people criticized that hearing/sentencing software over\n",
    "        - after running models, examine distribution of errors (both types) among racial groups\n",
    "            - is my model racist?\n",
    "                - if the data is racist, then it probably will be"
   ]
  },
  {
   "cell_type": "code",
   "execution_count": null,
   "metadata": {},
   "outputs": [],
   "source": []
  },
  {
   "cell_type": "code",
   "execution_count": 30,
   "metadata": {},
   "outputs": [],
   "source": [
    "import xgboost as xgb"
   ]
  },
  {
   "cell_type": "code",
   "execution_count": 31,
   "metadata": {},
   "outputs": [],
   "source": [
    "import pandas as pd\n",
    "import numpy as np\n",
    "np.random.seed(0)\n",
    "import matplotlib.pyplot as plt\n",
    "from sklearn.model_selection import train_test_split\n",
    "from sklearn.metrics import accuracy_score\n",
    "from sklearn.model_selection import GridSearchCV\n",
    "import warnings\n",
    "warnings.filterwarnings('ignore')\n",
    "%matplotlib inline"
   ]
  },
  {
   "cell_type": "code",
   "execution_count": 32,
   "metadata": {},
   "outputs": [
    {
     "data": {
      "text/plain": [
       "location_type          int64\n",
       "bias_1                 int64\n",
       "perp_seq_num           int64\n",
       "perp_age             float64\n",
       "num_ori_matches_x    float64\n",
       "state                  int64\n",
       "victim_seq_num         int64\n",
       "num_ori_matches_y    float64\n",
       "agency_AR0010100       uint8\n",
       "agency_AR0010200       uint8\n",
       "dtype: object"
      ]
     },
     "execution_count": 32,
     "metadata": {},
     "output_type": "execute_result"
    }
   ],
   "source": [
    "df.dtypes[:10] # looks like we've got only numeric types, so we can go ahead and XGB"
   ]
  },
  {
   "cell_type": "code",
   "execution_count": 33,
   "metadata": {},
   "outputs": [
    {
     "data": {
      "text/plain": [
       "3261531    13A\n",
       "6262040    13B\n",
       "6207246    13B\n",
       "5617093    120\n",
       "6260994    13B\n",
       "          ... \n",
       "601657     13B\n",
       "793863     11D\n",
       "3289739    13B\n",
       "7809209    13B\n",
       "5699603    13B\n",
       "Name: UCR_code, Length: 10000, dtype: object"
      ]
     },
     "execution_count": 33,
     "metadata": {},
     "output_type": "execute_result"
    }
   ],
   "source": [
    "target"
   ]
  },
  {
   "cell_type": "code",
   "execution_count": 34,
   "metadata": {},
   "outputs": [],
   "source": [
    "\n",
    "\n",
    "X_train, X_test, y_train, y_test = train_test_split(df, target)"
   ]
  },
  {
   "cell_type": "code",
   "execution_count": 35,
   "metadata": {},
   "outputs": [
    {
     "data": {
      "text/plain": [
       "uint8      11347\n",
       "int64          5\n",
       "float64        3\n",
       "dtype: int64"
      ]
     },
     "execution_count": 35,
     "metadata": {},
     "output_type": "execute_result"
    }
   ],
   "source": [
    "df.dtypes.value_counts()"
   ]
  },
  {
   "cell_type": "code",
   "execution_count": 36,
   "metadata": {},
   "outputs": [
    {
     "data": {
      "text/plain": [
       "location_type          int64\n",
       "bias_1                 int64\n",
       "perp_seq_num           int64\n",
       "perp_age             float64\n",
       "num_ori_matches_x    float64\n",
       "state                  int64\n",
       "victim_seq_num         int64\n",
       "num_ori_matches_y    float64\n",
       "agency_AR0010100       uint8\n",
       "agency_AR0010200       uint8\n",
       "agency_AR0020100       uint8\n",
       "agency_AR0020200       uint8\n",
       "agency_AR0030000       uint8\n",
       "agency_AR0030100       uint8\n",
       "agency_AR0040000       uint8\n",
       "dtype: object"
      ]
     },
     "execution_count": 36,
     "metadata": {},
     "output_type": "execute_result"
    }
   ],
   "source": [
    "df.dtypes[:15]"
   ]
  },
  {
   "cell_type": "code",
   "execution_count": 37,
   "metadata": {},
   "outputs": [],
   "source": [
    "storage = df"
   ]
  },
  {
   "cell_type": "code",
   "execution_count": 38,
   "metadata": {},
   "outputs": [
    {
     "ename": "KeyError",
     "evalue": "\"['UCR_code'] not found in axis\"",
     "output_type": "error",
     "traceback": [
      "\u001b[0;31m---------------------------------------------------------------------------\u001b[0m",
      "\u001b[0;31mKeyError\u001b[0m                                  Traceback (most recent call last)",
      "\u001b[0;32m<ipython-input-38-4cb3064e6111>\u001b[0m in \u001b[0;36m<module>\u001b[0;34m\u001b[0m\n\u001b[0;32m----> 1\u001b[0;31m \u001b[0mdf\u001b[0m \u001b[0;34m=\u001b[0m \u001b[0mdf\u001b[0m\u001b[0;34m.\u001b[0m\u001b[0mdrop\u001b[0m\u001b[0;34m(\u001b[0m\u001b[0;34m'UCR_code'\u001b[0m\u001b[0;34m,\u001b[0m\u001b[0maxis\u001b[0m\u001b[0;34m=\u001b[0m\u001b[0;36m1\u001b[0m\u001b[0;34m)\u001b[0m\u001b[0;34m\u001b[0m\u001b[0;34m\u001b[0m\u001b[0m\n\u001b[0m",
      "\u001b[0;32m~/opt/anaconda3/lib/python3.7/site-packages/pandas/core/frame.py\u001b[0m in \u001b[0;36mdrop\u001b[0;34m(self, labels, axis, index, columns, level, inplace, errors)\u001b[0m\n\u001b[1;32m   4100\u001b[0m             \u001b[0mlevel\u001b[0m\u001b[0;34m=\u001b[0m\u001b[0mlevel\u001b[0m\u001b[0;34m,\u001b[0m\u001b[0;34m\u001b[0m\u001b[0;34m\u001b[0m\u001b[0m\n\u001b[1;32m   4101\u001b[0m             \u001b[0minplace\u001b[0m\u001b[0;34m=\u001b[0m\u001b[0minplace\u001b[0m\u001b[0;34m,\u001b[0m\u001b[0;34m\u001b[0m\u001b[0;34m\u001b[0m\u001b[0m\n\u001b[0;32m-> 4102\u001b[0;31m             \u001b[0merrors\u001b[0m\u001b[0;34m=\u001b[0m\u001b[0merrors\u001b[0m\u001b[0;34m,\u001b[0m\u001b[0;34m\u001b[0m\u001b[0;34m\u001b[0m\u001b[0m\n\u001b[0m\u001b[1;32m   4103\u001b[0m         )\n\u001b[1;32m   4104\u001b[0m \u001b[0;34m\u001b[0m\u001b[0m\n",
      "\u001b[0;32m~/opt/anaconda3/lib/python3.7/site-packages/pandas/core/generic.py\u001b[0m in \u001b[0;36mdrop\u001b[0;34m(self, labels, axis, index, columns, level, inplace, errors)\u001b[0m\n\u001b[1;32m   3912\u001b[0m         \u001b[0;32mfor\u001b[0m \u001b[0maxis\u001b[0m\u001b[0;34m,\u001b[0m \u001b[0mlabels\u001b[0m \u001b[0;32min\u001b[0m \u001b[0maxes\u001b[0m\u001b[0;34m.\u001b[0m\u001b[0mitems\u001b[0m\u001b[0;34m(\u001b[0m\u001b[0;34m)\u001b[0m\u001b[0;34m:\u001b[0m\u001b[0;34m\u001b[0m\u001b[0;34m\u001b[0m\u001b[0m\n\u001b[1;32m   3913\u001b[0m             \u001b[0;32mif\u001b[0m \u001b[0mlabels\u001b[0m \u001b[0;32mis\u001b[0m \u001b[0;32mnot\u001b[0m \u001b[0;32mNone\u001b[0m\u001b[0;34m:\u001b[0m\u001b[0;34m\u001b[0m\u001b[0;34m\u001b[0m\u001b[0m\n\u001b[0;32m-> 3914\u001b[0;31m                 \u001b[0mobj\u001b[0m \u001b[0;34m=\u001b[0m \u001b[0mobj\u001b[0m\u001b[0;34m.\u001b[0m\u001b[0m_drop_axis\u001b[0m\u001b[0;34m(\u001b[0m\u001b[0mlabels\u001b[0m\u001b[0;34m,\u001b[0m \u001b[0maxis\u001b[0m\u001b[0;34m,\u001b[0m \u001b[0mlevel\u001b[0m\u001b[0;34m=\u001b[0m\u001b[0mlevel\u001b[0m\u001b[0;34m,\u001b[0m \u001b[0merrors\u001b[0m\u001b[0;34m=\u001b[0m\u001b[0merrors\u001b[0m\u001b[0;34m)\u001b[0m\u001b[0;34m\u001b[0m\u001b[0;34m\u001b[0m\u001b[0m\n\u001b[0m\u001b[1;32m   3915\u001b[0m \u001b[0;34m\u001b[0m\u001b[0m\n\u001b[1;32m   3916\u001b[0m         \u001b[0;32mif\u001b[0m \u001b[0minplace\u001b[0m\u001b[0;34m:\u001b[0m\u001b[0;34m\u001b[0m\u001b[0;34m\u001b[0m\u001b[0m\n",
      "\u001b[0;32m~/opt/anaconda3/lib/python3.7/site-packages/pandas/core/generic.py\u001b[0m in \u001b[0;36m_drop_axis\u001b[0;34m(self, labels, axis, level, errors)\u001b[0m\n\u001b[1;32m   3944\u001b[0m                 \u001b[0mnew_axis\u001b[0m \u001b[0;34m=\u001b[0m \u001b[0maxis\u001b[0m\u001b[0;34m.\u001b[0m\u001b[0mdrop\u001b[0m\u001b[0;34m(\u001b[0m\u001b[0mlabels\u001b[0m\u001b[0;34m,\u001b[0m \u001b[0mlevel\u001b[0m\u001b[0;34m=\u001b[0m\u001b[0mlevel\u001b[0m\u001b[0;34m,\u001b[0m \u001b[0merrors\u001b[0m\u001b[0;34m=\u001b[0m\u001b[0merrors\u001b[0m\u001b[0;34m)\u001b[0m\u001b[0;34m\u001b[0m\u001b[0;34m\u001b[0m\u001b[0m\n\u001b[1;32m   3945\u001b[0m             \u001b[0;32melse\u001b[0m\u001b[0;34m:\u001b[0m\u001b[0;34m\u001b[0m\u001b[0;34m\u001b[0m\u001b[0m\n\u001b[0;32m-> 3946\u001b[0;31m                 \u001b[0mnew_axis\u001b[0m \u001b[0;34m=\u001b[0m \u001b[0maxis\u001b[0m\u001b[0;34m.\u001b[0m\u001b[0mdrop\u001b[0m\u001b[0;34m(\u001b[0m\u001b[0mlabels\u001b[0m\u001b[0;34m,\u001b[0m \u001b[0merrors\u001b[0m\u001b[0;34m=\u001b[0m\u001b[0merrors\u001b[0m\u001b[0;34m)\u001b[0m\u001b[0;34m\u001b[0m\u001b[0;34m\u001b[0m\u001b[0m\n\u001b[0m\u001b[1;32m   3947\u001b[0m             \u001b[0mresult\u001b[0m \u001b[0;34m=\u001b[0m \u001b[0mself\u001b[0m\u001b[0;34m.\u001b[0m\u001b[0mreindex\u001b[0m\u001b[0;34m(\u001b[0m\u001b[0;34m**\u001b[0m\u001b[0;34m{\u001b[0m\u001b[0maxis_name\u001b[0m\u001b[0;34m:\u001b[0m \u001b[0mnew_axis\u001b[0m\u001b[0;34m}\u001b[0m\u001b[0;34m)\u001b[0m\u001b[0;34m\u001b[0m\u001b[0;34m\u001b[0m\u001b[0m\n\u001b[1;32m   3948\u001b[0m \u001b[0;34m\u001b[0m\u001b[0m\n",
      "\u001b[0;32m~/opt/anaconda3/lib/python3.7/site-packages/pandas/core/indexes/base.py\u001b[0m in \u001b[0;36mdrop\u001b[0;34m(self, labels, errors)\u001b[0m\n\u001b[1;32m   5338\u001b[0m         \u001b[0;32mif\u001b[0m \u001b[0mmask\u001b[0m\u001b[0;34m.\u001b[0m\u001b[0many\u001b[0m\u001b[0;34m(\u001b[0m\u001b[0;34m)\u001b[0m\u001b[0;34m:\u001b[0m\u001b[0;34m\u001b[0m\u001b[0;34m\u001b[0m\u001b[0m\n\u001b[1;32m   5339\u001b[0m             \u001b[0;32mif\u001b[0m \u001b[0merrors\u001b[0m \u001b[0;34m!=\u001b[0m \u001b[0;34m\"ignore\"\u001b[0m\u001b[0;34m:\u001b[0m\u001b[0;34m\u001b[0m\u001b[0;34m\u001b[0m\u001b[0m\n\u001b[0;32m-> 5340\u001b[0;31m                 \u001b[0;32mraise\u001b[0m \u001b[0mKeyError\u001b[0m\u001b[0;34m(\u001b[0m\u001b[0;34m\"{} not found in axis\"\u001b[0m\u001b[0;34m.\u001b[0m\u001b[0mformat\u001b[0m\u001b[0;34m(\u001b[0m\u001b[0mlabels\u001b[0m\u001b[0;34m[\u001b[0m\u001b[0mmask\u001b[0m\u001b[0;34m]\u001b[0m\u001b[0;34m)\u001b[0m\u001b[0;34m)\u001b[0m\u001b[0;34m\u001b[0m\u001b[0;34m\u001b[0m\u001b[0m\n\u001b[0m\u001b[1;32m   5341\u001b[0m             \u001b[0mindexer\u001b[0m \u001b[0;34m=\u001b[0m \u001b[0mindexer\u001b[0m\u001b[0;34m[\u001b[0m\u001b[0;34m~\u001b[0m\u001b[0mmask\u001b[0m\u001b[0;34m]\u001b[0m\u001b[0;34m\u001b[0m\u001b[0;34m\u001b[0m\u001b[0m\n\u001b[1;32m   5342\u001b[0m         \u001b[0;32mreturn\u001b[0m \u001b[0mself\u001b[0m\u001b[0;34m.\u001b[0m\u001b[0mdelete\u001b[0m\u001b[0;34m(\u001b[0m\u001b[0mindexer\u001b[0m\u001b[0;34m)\u001b[0m\u001b[0;34m\u001b[0m\u001b[0;34m\u001b[0m\u001b[0m\n",
      "\u001b[0;31mKeyError\u001b[0m: \"['UCR_code'] not found in axis\""
     ]
    }
   ],
   "source": [
    "df = df.drop('UCR_code',axis=1)"
   ]
  },
  {
   "cell_type": "code",
   "execution_count": null,
   "metadata": {},
   "outputs": [],
   "source": []
  },
  {
   "cell_type": "code",
   "execution_count": 39,
   "metadata": {},
   "outputs": [],
   "source": [
    "storage_2 = df\n",
    "df = storage_2.sample(5000, random_state=1)"
   ]
  },
  {
   "cell_type": "code",
   "execution_count": null,
   "metadata": {},
   "outputs": [],
   "source": [
    "clf = xgb.XGBClassifier()\n",
    "clf.fit(X_train, y_train)\n",
    "training_preds = clf.predict(X_train)\n",
    "val_preds = clf.predict(X_test)\n",
    "training_accuracy = accuracy_score(y_train, training_preds)\n",
    "val_accuracy = accuracy_score(y_test, val_preds)\n",
    "\n",
    "print(\"Training Accuracy: {:.4}%\".format(training_accuracy * 100))\n",
    "print(\"Validation accuracy: {:.4}%\".format(val_accuracy * 100))"
   ]
  },
  {
   "cell_type": "code",
   "execution_count": 15,
   "metadata": {},
   "outputs": [
    {
     "data": {
      "text/plain": [
       "True"
      ]
     },
     "execution_count": 15,
     "metadata": {},
     "output_type": "execute_result"
    }
   ],
   "source": [
    "'UCR_code' in list(df.columns)"
   ]
  },
  {
   "cell_type": "code",
   "execution_count": null,
   "metadata": {},
   "outputs": [],
   "source": []
  },
  {
   "cell_type": "code",
   "execution_count": null,
   "metadata": {},
   "outputs": [],
   "source": []
  },
  {
   "cell_type": "code",
   "execution_count": null,
   "metadata": {},
   "outputs": [],
   "source": []
  },
  {
   "cell_type": "code",
   "execution_count": null,
   "metadata": {},
   "outputs": [],
   "source": []
  },
  {
   "cell_type": "code",
   "execution_count": null,
   "metadata": {},
   "outputs": [],
   "source": []
  },
  {
   "cell_type": "code",
   "execution_count": null,
   "metadata": {},
   "outputs": [],
   "source": []
  }
 ],
 "metadata": {
  "kernelspec": {
   "display_name": "Python 3",
   "language": "python",
   "name": "python3"
  },
  "language_info": {
   "codemirror_mode": {
    "name": "ipython",
    "version": 3
   },
   "file_extension": ".py",
   "mimetype": "text/x-python",
   "name": "python",
   "nbconvert_exporter": "python",
   "pygments_lexer": "ipython3",
   "version": "3.7.4"
  }
 },
 "nbformat": 4,
 "nbformat_minor": 2
}
